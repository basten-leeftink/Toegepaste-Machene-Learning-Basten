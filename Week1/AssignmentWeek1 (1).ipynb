{
 "cells": [
  {
   "cell_type": "markdown",
   "metadata": {},
   "source": [
    "# Assignment Applied Machine Learning BSc IK "
   ]
  },
  {
   "cell_type": "markdown",
   "metadata": {
    "nbgrader": {
     "grade": false,
     "grade_id": "privacy",
     "locked": false,
     "schema_version": 3,
     "solution": false
    }
   },
   "source": [
    "## Notebook made by\n",
    "\n",
    "**Gebruik graag dit formaat**\n",
    "\n",
    "* Voor de namen:  voornaam rest van je naam, voornaam rest van je naam,....\n",
    "* je studentnummers: hetzelfde: scheidt met `,`\n",
    "* je emails: hetzelfde: scheidt met `,`\n",
    "* voor je groep: **alleen de hoofdletter** (iets als  `A` of `B` dus)\n",
    "\n",
    "__Namen__: \n",
    "\n",
    "__Emails__: \n",
    "\n",
    "__Student ids__ : \n",
    "\n",
    "__Groep__ : VervangMijDoorEenHoofdletter"
   ]
  },
  {
   "cell_type": "markdown",
   "metadata": {},
   "source": [
    "## Toelichting\n",
    "\n",
    "* Een aantal opgaven worden automatisch nagekeken. Bij vrijwel alle opdrachten staan er een paar tests onder de opdracht, dit is voornamelijk om te zorgen dat je de juiste type output geeft. Dit zijn dus *NIET* alle tests, die komen er bij het graden nog bij.\n",
    "* Elke vraag is 1 punt waard, tenzij anders aangegeven. Soms is die punt onderverdeeld in deelpunten, maar niet altijd. \n",
    "\n",
    "## Voor het inleveren!\n",
    "\n",
    "* Pas niet de cellen aan, vooral niet die je niet kunt editen. Dit levert problemen op bij nakijken. Twijfel je of je per ongeluk iets hebt gewijzigd, kopieer dan bij inleveren je antwoorden naar een nieuw bestand, zodat het niet fout kan gaan.\n",
    "\n",
    "* Zorg dat de code goed runt van boven naar beneden, verifieer dat door boven in Kernel -> Restart & Run All uit te voeren\n",
    "\n",
    "## Na het inleveren!\n",
    "\n",
    "* Het gebeurt erg vaak dat mensen een \"leeg bestand\" inleveren. Vaak een andere versie van de opgave die nog ergens op je computer rondslingerde. Zonde van al je werk toch!\n",
    "* Dus, lever **minstens een half uur voor tijd in**. Download dan wat je hebt ingeleverd op Canvas. Geef het een andere naam om verwarring te voorkomen. En draai alle cellen, en bekijk het. Geen syntax fouten? Alle vragen gemaakt? Dan zit het vast wel goed, en hoef je niet in de zenuwen te zitten."
   ]
  },
  {
   "cell_type": "markdown",
   "metadata": {
    "deletable": false,
    "editable": false,
    "id": "X-yY70P1pnS6",
    "nbgrader": {
     "cell_type": "markdown",
     "checksum": "82da87da8f1a450d81fbfa15e951a3fb",
     "grade": false,
     "grade_id": "cell-575272ac8c88383d",
     "locked": true,
     "schema_version": 3,
     "solution": false
    }
   },
   "source": [
    "# Applied Machine Learning W1\n",
    " "
   ]
  },
  {
   "cell_type": "code",
   "execution_count": 359,
   "metadata": {
    "colab": {
     "base_uri": "https://localhost:8080/"
    },
    "deletable": false,
    "editable": false,
    "execution": {
     "iopub.execute_input": "2023-03-01T12:52:11.412494Z",
     "iopub.status.busy": "2023-03-01T12:52:11.410972Z",
     "iopub.status.idle": "2023-03-01T12:52:14.328099Z",
     "shell.execute_reply": "2023-03-01T12:52:14.328704Z"
    },
    "executionInfo": {
     "elapsed": 5685,
     "status": "ok",
     "timestamp": 1618341657662,
     "user": {
      "displayName": "Bob De witte",
      "photoUrl": "",
      "userId": "14788410831395393646"
     },
     "user_tz": -60
    },
    "id": "OwtzrP7-z4LS",
    "nbgrader": {
     "cell_type": "code",
     "checksum": "1b01a49de3dc95c799fd399f591e1560",
     "grade": false,
     "grade_id": "nose",
     "locked": true,
     "schema_version": 3,
     "solution": false
    },
    "outputId": "2790d9c4-f682-4b96-ac6b-a023ed9c24b3"
   },
   "outputs": [
    {
     "name": "stdout",
     "output_type": "stream",
     "text": [
      "Requirement already satisfied: nose in /Users/basten/opt/anaconda3/lib/python3.9/site-packages (1.3.7)\r\n"
     ]
    }
   ],
   "source": [
    "!pip install nose"
   ]
  },
  {
   "cell_type": "code",
   "execution_count": 374,
   "metadata": {
    "deletable": false,
    "editable": false,
    "execution": {
     "iopub.execute_input": "2023-03-01T12:52:14.336341Z",
     "iopub.status.busy": "2023-03-01T12:52:14.335799Z",
     "iopub.status.idle": "2023-03-01T12:52:16.537637Z",
     "shell.execute_reply": "2023-03-01T12:52:16.538083Z"
    },
    "id": "vkP8dRV-pnTI",
    "nbgrader": {
     "cell_type": "code",
     "checksum": "62a2753f522c0a9a7758c77b31a99bfd",
     "grade": false,
     "grade_id": "cell-f55bc95980e83e55",
     "locked": true,
     "schema_version": 3,
     "solution": false
    },
    "pycharm": {
     "is_executing": false
    }
   },
   "outputs": [],
   "source": [
    "import os\n",
    "import sys\n",
    "\n",
    "import numpy as np\n",
    "import pandas as pd\n",
    "import seaborn as sns\n",
    "\n",
    "import sklearn\n",
    "from scipy.stats import mode\n",
    "from nose.tools import assert_count_equal, assert_equal\n",
    "from numpy.testing import *\n",
    "from pandas.testing import assert_frame_equal\n",
    "from sklearn import linear_model\n",
    "from sklearn.linear_model import LinearRegression\n",
    "from sklearn.preprocessing import PolynomialFeatures\n",
    "from sklearn import datasets\n",
    "# Please do not remove this: \n",
    "np.random.seed(31415)"
   ]
  },
  {
   "cell_type": "markdown",
   "metadata": {
    "deletable": false,
    "editable": false,
    "nbgrader": {
     "cell_type": "markdown",
     "checksum": "b7a566395bf9dd24fe39c3be9f2147da",
     "grade": false,
     "grade_id": "th",
     "locked": true,
     "schema_version": 3,
     "solution": false
    }
   },
   "source": [
    "# Theory\n",
    "\n",
    "With these questions you and your group will practice your ability to formulate key concepts precisely and short. \n",
    "Such questions  also appear in the exams, and are graded quite strict.\n",
    "\n",
    "Always answer in one grammatically correct English sentence. \n",
    "\n",
    "Finish the following sentences:\n",
    "\n",
    "1. Machine learning algorithms build a model ...\n",
    "2. Machine learning can be divided into three parts, namely .....\n",
    "3. Each of these 3 parts can be described as follows:\n",
    "    1. .... is ....\n",
    "    1. .... is ....\n",
    "    1. .... is ....\n",
    "4. The key difference between regression and classification problems is .....\n"
   ]
  },
  {
   "cell_type": "markdown",
   "metadata": {
    "deletable": false,
    "nbgrader": {
     "cell_type": "markdown",
     "checksum": "bb5562762f320d9dec1038b28fed2176",
     "grade": true,
     "grade_id": "tha",
     "locked": false,
     "points": 1,
     "schema_version": 3,
     "solution": true
    }
   },
   "source": [
    "1. Machine learning algorithms build a model by analyzing sample/training data to train a model , which can be used to make predictions on new unseen data without explicitly programming.\n",
    "2. Machine learning can be divided into three parts, namely unsupervised learning, supervised learning and reinforcement learning.\n",
    "3. Each of these 3 parts can be described as follows: \n",
    "       A. Unsupervised learning is a machine algorithm using only the input data to extract knowledge from this data\n",
    "       B. Supervised learning is used to predict a certain outcome from a given input, with examples of input/output pairs.\n",
    "       C. Reinforcement learning is used to find out how to handle new situations by rewarding desired behaviors and punishing undesired ones. \n",
    "4. The key difference between regression and classification problems is the data of the predicted value, which is categorical for classification problems and numerical for the regression problems."
   ]
  },
  {
   "cell_type": "markdown",
   "metadata": {
    "deletable": false,
    "editable": false,
    "nbgrader": {
     "cell_type": "markdown",
     "checksum": "f0b3e89ab2b281827b55efe339240f4c",
     "grade": false,
     "grade_id": "part0",
     "locked": true,
     "schema_version": 3,
     "solution": false
    }
   },
   "source": [
    "# Part 0 classification with the iris data set, using knn"
   ]
  },
  {
   "cell_type": "code",
   "execution_count": 375,
   "metadata": {
    "deletable": false,
    "editable": false,
    "execution": {
     "iopub.execute_input": "2023-03-01T12:52:16.542337Z",
     "iopub.status.busy": "2023-03-01T12:52:16.541826Z",
     "iopub.status.idle": "2023-03-01T12:52:16.548898Z",
     "shell.execute_reply": "2023-03-01T12:52:16.549253Z"
    },
    "nbgrader": {
     "cell_type": "code",
     "checksum": "95c0a4249298206ebd0cba6abc6c5ea5",
     "grade": false,
     "grade_id": "iris1",
     "locked": true,
     "schema_version": 3,
     "solution": false
    }
   },
   "outputs": [
    {
     "name": "stdout",
     "output_type": "stream",
     "text": [
      "(150, 4) (150,)\n",
      "[[5.1 3.5 1.4 0.2]\n",
      " [4.9 3.  1.4 0.2]\n",
      " [4.7 3.2 1.3 0.2]\n",
      " [4.6 3.1 1.5 0.2]\n",
      " [5.  3.6 1.4 0.2]]\n",
      "[0 0 0 0 0 0 0 0 0 0 0 0 0 0 0 0 0 0 0 0 0 0 0 0 0 0 0 0 0 0 0 0 0 0 0 0 0\n",
      " 0 0 0 0 0 0 0 0 0 0 0 0 0 1 1 1 1 1 1 1 1 1 1 1 1 1 1 1 1 1 1 1 1 1 1 1 1\n",
      " 1 1 1 1 1 1 1 1 1 1 1 1 1 1 1 1 1 1 1 1 1 1 1 1 1 1 2 2 2 2 2 2 2 2 2 2 2\n",
      " 2 2 2 2 2 2 2 2 2 2 2 2 2 2 2 2 2 2 2 2 2 2 2 2 2 2 2 2 2 2 2 2 2 2 2 2 2\n",
      " 2 2]\n"
     ]
    }
   ],
   "source": [
    "#https://scikit-learn.org/stable/modules/generated/sklearn.datasets.load_iris.html\n",
    "iris= datasets.load_iris()\n",
    "\n",
    "X,y= iris.data, iris.target\n",
    "print(X.shape,y.shape)\n",
    "print(X[:5])\n",
    "print(y)"
   ]
  },
  {
   "cell_type": "markdown",
   "metadata": {
    "deletable": false,
    "editable": false,
    "nbgrader": {
     "cell_type": "markdown",
     "checksum": "f93c750d6d7382c56acc9cb2a977c791",
     "grade": false,
     "grade_id": "irist",
     "locked": true,
     "schema_version": 3,
     "solution": false
    }
   },
   "source": [
    "# train test\n",
    "\n",
    "Use `np.random.choice` to create random `X_train, X_test, y_train, y_test`  such that \n",
    "\n",
    "1. 90 train, 60 test\n",
    "2. Stratified, so an equal amount of cases from each of the three classes in the train and test sets.\n",
    "\n",
    "Make tests to test that what you create is according to these specs."
   ]
  },
  {
   "cell_type": "markdown",
   "metadata": {
    "deletable": false,
    "editable": false,
    "nbgrader": {
     "cell_type": "markdown",
     "checksum": "a3e4d8062c0db1f8336ed6e965cbc28c",
     "grade": false,
     "grade_id": "irist2",
     "locked": true,
     "schema_version": 3,
     "solution": false
    }
   },
   "source": [
    "## Note about our questions, and how to answer them\n",
    "\n",
    "Here and later we may ask you to program things explicitly, and thus **not** using a scikit learn or other routine. Please do so, and practice this. We will do the same in the exam. It is important that you understand the algorithms behind the concepts that you use. That is the reason. Also we believe that you understand and remember things better when you have programmed than from scratch.\n",
    "\n",
    "Of course you can google the answer in a few minutes and copy-paste it. But does that give your satisfaction or gratification? Do you *learn* anything from it? Please do not work like that. You make these assignments with 4 students, so you really have a lot of time. Make them all, compare and discuss the 4 found solutions, improve and refactor  them to one super great siolution. And, if all this does not appeal to you, then maybe this does: at the exam we will also ask these questions, and you do not have access to the web then. \n",
    "\n",
    "### making tests\n",
    "\n",
    "This is an underdeveloped skill with many students. Why? Testing your own answer gives you a good feeling, it often lets you improve your answer, and can also be seen as a way to find the (complete) answer. **Please practice it and take it seriously.** At the exam you will have a notebook too, and so you can also test your own answers. Being skillfull in testing will boost your grade."
   ]
  },
  {
   "cell_type": "code",
   "execution_count": null,
   "metadata": {},
   "outputs": [],
   "source": []
  },
  {
   "cell_type": "code",
   "execution_count": 376,
   "metadata": {
    "deletable": false,
    "execution": {
     "iopub.execute_input": "2023-03-01T12:52:16.555003Z",
     "iopub.status.busy": "2023-03-01T12:52:16.554522Z",
     "iopub.status.idle": "2023-03-01T12:52:16.557589Z",
     "shell.execute_reply": "2023-03-01T12:52:16.557936Z"
    },
    "nbgrader": {
     "cell_type": "code",
     "checksum": "2d9214d57d3f80fa47e1f863d90d11e6",
     "grade": false,
     "grade_id": "iristta",
     "locked": false,
     "schema_version": 3,
     "solution": true
    }
   },
   "outputs": [
    {
     "name": "stdout",
     "output_type": "stream",
     "text": [
      "good\n",
      "good\n",
      "good\n",
      "good\n",
      "[1 1 0 1 1 0 2 1 2 0 1 0 1 1 2 2 0 0 2 1 0 2 2 1 0 0 2 0 1 1 1 1 2 2 1 2 2\n",
      " 2 2 1 2 2 1 1 1 1 2 1 1 2 2 1 2 0 0 1 1 0 0 0]\n"
     ]
    }
   ],
   "source": [
    "X_train, X_test, y_train, y_test = train_test_split(X, y, test_size=0.4)\n",
    "\n",
    "\n",
    "for M in [X_train, y_train, X_test,  y_test]:\n",
    "    answers = [(90, 4), (90,), (60,4), (60,)]\n",
    "    if M.shape in answers:\n",
    "        print(\"good\")\n",
    "    else:\n",
    "        print(\"bad\")\n",
    "print(y_test)"
   ]
  },
  {
   "cell_type": "code",
   "execution_count": 377,
   "metadata": {
    "deletable": false,
    "editable": false,
    "execution": {
     "iopub.execute_input": "2023-03-01T12:52:16.561877Z",
     "iopub.status.busy": "2023-03-01T12:52:16.561538Z",
     "iopub.status.idle": "2023-03-01T12:52:16.563927Z",
     "shell.execute_reply": "2023-03-01T12:52:16.564301Z"
    },
    "nbgrader": {
     "cell_type": "code",
     "checksum": "c47b149939e1b35b9d228cdd8261d655",
     "grade": true,
     "grade_id": "ttt",
     "locked": true,
     "points": 0,
     "schema_version": 3,
     "solution": false
    }
   },
   "outputs": [],
   "source": [
    "assert_equal(X_train.shape,(90, 4))\n",
    "assert_equal(X_test.shape,(60, 4))\n",
    "assert_equal(y_train.shape,(90, ))\n",
    "assert_equal(y_test.shape,(60, ))"
   ]
  },
  {
   "cell_type": "markdown",
   "metadata": {
    "deletable": false,
    "editable": false,
    "nbgrader": {
     "cell_type": "markdown",
     "checksum": "ee1cc257a29270dfdeef56dc36409c6c",
     "grade": false,
     "grade_id": "irisknn",
     "locked": true,
     "schema_version": 3,
     "solution": false
    }
   },
   "source": [
    "# knn classifier\n",
    "\n",
    "Program from scratch a knn classifier which can work on data `X` and `y` as you have from the iris dataset.\n",
    "\n",
    "It returns the most common label in the k nearest neighbors.\n",
    "\n",
    "### Hints\n",
    "\n",
    "* use `euclidean` as your distance function\n",
    "* `X_train[0,:]` picks out the first instance from `X_train`.\n",
    "* Use *fancy indexing* to take out a number of items from a numpy array. as in `X[8,35,7,2]`.\n",
    "* `np.argsort` is handy."
   ]
  },
  {
   "cell_type": "code",
   "execution_count": 382,
   "metadata": {
    "deletable": false,
    "execution": {
     "iopub.execute_input": "2023-03-01T12:52:16.579628Z",
     "iopub.status.busy": "2023-03-01T12:52:16.577849Z",
     "iopub.status.idle": "2023-03-01T12:52:16.582736Z",
     "shell.execute_reply": "2023-03-01T12:52:16.583135Z"
    },
    "nbgrader": {
     "cell_type": "code",
     "checksum": "4899914940bf4e13d8e67d1cffa8eb05",
     "grade": false,
     "grade_id": "irisknna",
     "locked": false,
     "schema_version": 3,
     "solution": true
    }
   },
   "outputs": [
    {
     "data": {
      "text/plain": [
       "[1, 1, 0, 1, 1, 0, 2, 1, 2, 0]"
      ]
     },
     "execution_count": 382,
     "metadata": {},
     "output_type": "execute_result"
    }
   ],
   "source": [
    "from scipy.stats import mode\n",
    "from scipy.spatial.distance import euclidean\n",
    "\n",
    "def knn(X,y,example,k=5):\n",
    "    '''Classify example using majority vote of the k closest items in X with labels y.'''\n",
    "    test = [y[i] for i in np.argsort([euclidean(example, node) for node in X])[:k]]\n",
    "\n",
    "    return mode(test)[0][0]\n",
    "\n",
    "[ knn(X_train,y_train,i) for i in X_test[:10]] \n",
    "\n",
    " "
   ]
  },
  {
   "cell_type": "markdown",
   "metadata": {
    "deletable": false,
    "editable": false,
    "nbgrader": {
     "cell_type": "markdown",
     "checksum": "7732a4dbcc13b407d4433925303d56bd",
     "grade": false,
     "grade_id": "irisknneval",
     "locked": true,
     "schema_version": 3,
     "solution": false
    }
   },
   "source": [
    "# Evaluate\n",
    "\n",
    "Run knn on `X_test` and compare the outcomes to `y_test`.\n",
    "\n",
    "Come up with a useful and insightfull error report."
   ]
  },
  {
   "cell_type": "code",
   "execution_count": 384,
   "metadata": {
    "deletable": false,
    "execution": {
     "iopub.execute_input": "2023-03-01T12:52:16.595590Z",
     "iopub.status.busy": "2023-03-01T12:52:16.590243Z",
     "iopub.status.idle": "2023-03-01T12:52:16.687922Z",
     "shell.execute_reply": "2023-03-01T12:52:16.688272Z"
    },
    "nbgrader": {
     "cell_type": "code",
     "checksum": "88b56402886d501f49390e16ff14a301",
     "grade": true,
     "grade_id": "irisevala",
     "locked": false,
     "points": 1,
     "schema_version": 3,
     "solution": true
    }
   },
   "outputs": [
    {
     "data": {
      "text/plain": [
       "[True,\n",
       " True,\n",
       " True,\n",
       " True,\n",
       " True,\n",
       " True,\n",
       " True,\n",
       " True,\n",
       " True,\n",
       " True,\n",
       " True,\n",
       " True,\n",
       " False,\n",
       " False,\n",
       " True,\n",
       " True,\n",
       " True,\n",
       " True,\n",
       " True,\n",
       " True,\n",
       " True,\n",
       " False,\n",
       " True,\n",
       " True,\n",
       " True,\n",
       " True,\n",
       " True,\n",
       " True,\n",
       " True,\n",
       " True,\n",
       " True,\n",
       " True,\n",
       " True,\n",
       " True,\n",
       " True,\n",
       " True,\n",
       " True,\n",
       " True,\n",
       " True,\n",
       " True,\n",
       " True,\n",
       " True,\n",
       " True,\n",
       " True,\n",
       " True,\n",
       " True,\n",
       " True,\n",
       " True,\n",
       " True,\n",
       " True,\n",
       " True,\n",
       " True,\n",
       " True,\n",
       " True,\n",
       " True,\n",
       " True,\n",
       " True,\n",
       " True,\n",
       " True,\n",
       " True]"
      ]
     },
     "execution_count": 384,
     "metadata": {},
     "output_type": "execute_result"
    }
   ],
   "source": [
    "test_values = [ knn(X_train, y_train, X_test[i]) == y_test[i] for i in range(len(X_test))]\n",
    "test_values"
   ]
  },
  {
   "cell_type": "markdown",
   "metadata": {
    "deletable": false,
    "editable": false,
    "nbgrader": {
     "cell_type": "markdown",
     "checksum": "d15b8d8310c1607b74afe76460f3c867",
     "grade": false,
     "grade_id": "heap",
     "locked": true,
     "schema_version": 3,
     "solution": false
    }
   },
   "source": [
    "# Make more efficient\n",
    "\n",
    "1. Estimate what work is done when running knn on one new to be classified instance, given that it has $n$ training examples. \n",
    "2. How expensive is the sorting step?\n",
    "3. Remove the sorting step by programming a heap of size $k$ which contains from the train set already inspected  the $k$ closest instances to the unseen example."
   ]
  },
  {
   "cell_type": "markdown",
   "metadata": {
    "deletable": false,
    "nbgrader": {
     "cell_type": "markdown",
     "checksum": "b27a47198787d76eba2ed04b2a539238",
     "grade": true,
     "grade_id": "heapa",
     "locked": false,
     "points": 1,
     "schema_version": 3,
     "solution": true
    }
   },
   "source": [
    "YOUR ANSWER HERE"
   ]
  },
  {
   "cell_type": "code",
   "execution_count": 234,
   "metadata": {
    "deletable": false,
    "execution": {
     "iopub.execute_input": "2023-03-01T12:52:16.697632Z",
     "iopub.status.busy": "2023-03-01T12:52:16.696253Z",
     "iopub.status.idle": "2023-03-01T12:52:16.705021Z",
     "shell.execute_reply": "2023-03-01T12:52:16.705449Z"
    },
    "nbgrader": {
     "cell_type": "code",
     "checksum": "1fe618e1da226dba611e2de33f0840e9",
     "grade": false,
     "grade_id": "heapa2",
     "locked": false,
     "schema_version": 3,
     "solution": true
    }
   },
   "outputs": [
    {
     "data": {
      "text/plain": [
       "[0, 1, 0, 0, 2, 1, 0, 0, 1, 2]"
      ]
     },
     "execution_count": 234,
     "metadata": {},
     "output_type": "execute_result"
    }
   ],
   "source": [
    "def knn_heap(X,y,example,k=5):\n",
    "    '''Classify example using majority vote of the k closest items in X with labels y.'''\n",
    "    #WRITE YOUR CODE HERE\n",
    "    return mode(kNN_Y)[0][0]\n",
    "\n",
    "\n",
    "[ knn(X_train,y_train,i) for i in X_test[:10]] \n",
    "\n",
    " "
   ]
  },
  {
   "cell_type": "markdown",
   "metadata": {
    "deletable": false,
    "editable": false,
    "id": "tYWhz0bxdZo9",
    "nbgrader": {
     "cell_type": "markdown",
     "checksum": "e627ff51f2f552cdd88f90e02ed61ee0",
     "grade": false,
     "grade_id": "cell-8452bfe549fa98ac",
     "locked": true,
     "schema_version": 3,
     "solution": false
    }
   },
   "source": [
    "# Predicting a value with knn-regression\n",
    "\n",
    "## Part 1: Loading the data into a Pandas Data Frame  "
   ]
  },
  {
   "cell_type": "markdown",
   "metadata": {
    "deletable": false,
    "editable": false,
    "id": "_X5Vt2jMpnTX",
    "nbgrader": {
     "cell_type": "markdown",
     "checksum": "4a6c69ccd90e8b7155025f7f0bea2857",
     "grade": false,
     "grade_id": "1a",
     "locked": true,
     "schema_version": 3,
     "solution": false
    }
   },
   "source": [
    "The descriptions of the columns of the dataset can be found here:\n",
    "\n",
    "**pop**: population\n",
    "\n",
    "**pctUrban**: percentage of people living in areas classified as urban\n",
    "\n",
    "**medIncome**: Median Income\n",
    "\n",
    "**pct12-29**: percentage of population that is 12-21 in age\n",
    "\n",
    "**pct65up**: percentage of population that is 65 and over in age\n",
    "\n",
    "**pctPoverty**: percentage of people under the poverty level\n",
    "\n",
    "**pctAllDivorc**: percentage of population who are divorced\n",
    "\n",
    "**pctUnemploy**: percentage of people 16 and over, in the labor force, and unemployed\n",
    "\n",
    "**perHoush**: mean persons per household\n",
    "\n",
    "**pctHousOccup**: percent of housing occupied\n",
    "\n",
    "**persHomeless**: number of homeless people\n",
    "\n",
    "**persEmergShelt**: number of people in homeless shelters\n",
    "\n",
    "**nonViolPerPop**: total number of non-violent crimes per 100K popuation\n",
    "\n",
    "**State**: the state in which this town/city is located\n",
    "\n",
    "**countyCode**: the code number of the county of the state this town/city is located\n"
   ]
  },
  {
   "cell_type": "markdown",
   "metadata": {
    "deletable": false,
    "editable": false,
    "id": "l2kUe2uupnTY",
    "nbgrader": {
     "cell_type": "markdown",
     "checksum": "bedb86a7b8388cd494485a4bb7bec32a",
     "grade": false,
     "grade_id": "1b",
     "locked": true,
     "schema_version": 3,
     "solution": false
    }
   },
   "source": [
    "\n",
    "### Question 1a:\n",
    "Load the data into a Pandas DataFrame. At this point, make sure that you only load the following columns: \n",
    "\n",
    "`'pop', 'pctUrban', 'medIncome', 'pct12-29', 'pct65up', 'pctPoverty', 'pctAllDivorc', 'pctUnemploy', 'perHoush', 'pctHousOccup', 'persHomeless', 'persEmergShelt', 'nonViolPerPop'`\n",
    "\n",
    "\n",
    "Here and elsewhere, when we load data, always use the `loadfile()` command. Like in `pd.read_csv(loadfile())`. We do this because when we (auto)grade we have the file not in the same directory as the notebook."
   ]
  },
  {
   "cell_type": "code",
   "execution_count": 287,
   "metadata": {
    "deletable": false,
    "editable": false,
    "execution": {
     "iopub.execute_input": "2023-03-01T12:52:16.709263Z",
     "iopub.status.busy": "2023-03-01T12:52:16.708918Z",
     "iopub.status.idle": "2023-03-01T12:52:16.710611Z",
     "shell.execute_reply": "2023-03-01T12:52:16.710988Z"
    },
    "id": "TZbYd5WvpnTZ",
    "nbgrader": {
     "cell_type": "code",
     "checksum": "d05763fb1d92ed6640b9caa11d0eb5fe",
     "grade": false,
     "grade_id": "1c",
     "locked": true,
     "schema_version": 3,
     "solution": false
    },
    "pycharm": {
     "is_executing": false
    }
   },
   "outputs": [],
   "source": [
    "def loadfile():\n",
    "    if 'crime_data.csv.gz' in os.listdir():\n",
    "        return 'crime_data.csv.gz'\n",
    "    elif os.path.exists('../../data/Week1/'):\n",
    "        return '../../data/Week1/crime_data.csv.gz'\n",
    "    elif os.path.exists('../../../data/Week1/'):\n",
    "        return '../../../data/Week1/crime_data.csv.gz'\n",
    "    \n"
   ]
  },
  {
   "cell_type": "code",
   "execution_count": 288,
   "metadata": {
    "colab": {
     "base_uri": "https://localhost:8080/",
     "height": 426
    },
    "deletable": false,
    "execution": {
     "iopub.execute_input": "2023-03-01T12:52:16.714954Z",
     "iopub.status.busy": "2023-03-01T12:52:16.714611Z",
     "iopub.status.idle": "2023-03-01T12:52:16.739789Z",
     "shell.execute_reply": "2023-03-01T12:52:16.740217Z"
    },
    "executionInfo": {
     "elapsed": 6740,
     "status": "error",
     "timestamp": 1618341658738,
     "user": {
      "displayName": "Bob De witte",
      "photoUrl": "",
      "userId": "14788410831395393646"
     },
     "user_tz": -60
    },
    "id": "Nucu0E17pnTk",
    "nbgrader": {
     "cell_type": "code",
     "checksum": "fc6eb752aec729b90b42a928b39dc8c1",
     "grade": false,
     "grade_id": "cell-9a5813b911a397d1",
     "locked": false,
     "schema_version": 3,
     "solution": true
    },
    "outputId": "cfa384cb-56ca-4d18-c2be-6f3cb64bfe43",
    "pycharm": {
     "is_executing": false
    }
   },
   "outputs": [
    {
     "name": "stdout",
     "output_type": "stream",
     "text": [
      "(949, 13)\n"
     ]
    },
    {
     "data": {
      "text/html": [
       "<div>\n",
       "<style scoped>\n",
       "    .dataframe tbody tr th:only-of-type {\n",
       "        vertical-align: middle;\n",
       "    }\n",
       "\n",
       "    .dataframe tbody tr th {\n",
       "        vertical-align: top;\n",
       "    }\n",
       "\n",
       "    .dataframe thead th {\n",
       "        text-align: right;\n",
       "    }\n",
       "</style>\n",
       "<table border=\"1\" class=\"dataframe\">\n",
       "  <thead>\n",
       "    <tr style=\"text-align: right;\">\n",
       "      <th></th>\n",
       "      <th>perHoush</th>\n",
       "      <th>pct12-29</th>\n",
       "      <th>pct65up</th>\n",
       "      <th>pctUrban</th>\n",
       "      <th>pctPoverty</th>\n",
       "      <th>pctUnemploy</th>\n",
       "      <th>pctAllDivorc</th>\n",
       "      <th>pctHousOccup</th>\n",
       "      <th>persEmergShelt</th>\n",
       "      <th>persHomeless</th>\n",
       "      <th>nonViolPerPop</th>\n",
       "      <th>medIncome</th>\n",
       "      <th>pop</th>\n",
       "    </tr>\n",
       "  </thead>\n",
       "  <tbody>\n",
       "    <tr>\n",
       "      <th>0</th>\n",
       "      <td>3.10</td>\n",
       "      <td>21.44</td>\n",
       "      <td>11.33</td>\n",
       "      <td>100.0</td>\n",
       "      <td>1.96</td>\n",
       "      <td>2.70</td>\n",
       "      <td>4.47</td>\n",
       "      <td>98.37</td>\n",
       "      <td>11</td>\n",
       "      <td>0</td>\n",
       "      <td>1394.59</td>\n",
       "      <td>75122.0</td>\n",
       "      <td>11980.0</td>\n",
       "    </tr>\n",
       "    <tr>\n",
       "      <th>1</th>\n",
       "      <td>2.82</td>\n",
       "      <td>21.30</td>\n",
       "      <td>17.18</td>\n",
       "      <td>100.0</td>\n",
       "      <td>3.98</td>\n",
       "      <td>2.43</td>\n",
       "      <td>5.42</td>\n",
       "      <td>97.15</td>\n",
       "      <td>0</td>\n",
       "      <td>0</td>\n",
       "      <td>1955.95</td>\n",
       "      <td>NaN</td>\n",
       "      <td>23123.0</td>\n",
       "    </tr>\n",
       "    <tr>\n",
       "      <th>2</th>\n",
       "      <td>2.76</td>\n",
       "      <td>40.53</td>\n",
       "      <td>12.65</td>\n",
       "      <td>0.0</td>\n",
       "      <td>29.99</td>\n",
       "      <td>9.08</td>\n",
       "      <td>9.73</td>\n",
       "      <td>92.45</td>\n",
       "      <td>2</td>\n",
       "      <td>0</td>\n",
       "      <td>9988.79</td>\n",
       "      <td>NaN</td>\n",
       "      <td>NaN</td>\n",
       "    </tr>\n",
       "    <tr>\n",
       "      <th>3</th>\n",
       "      <td>2.60</td>\n",
       "      <td>27.41</td>\n",
       "      <td>14.42</td>\n",
       "      <td>100.0</td>\n",
       "      <td>4.01</td>\n",
       "      <td>4.85</td>\n",
       "      <td>7.64</td>\n",
       "      <td>95.11</td>\n",
       "      <td>0</td>\n",
       "      <td>0</td>\n",
       "      <td>1890.88</td>\n",
       "      <td>42805.0</td>\n",
       "      <td>28700.0</td>\n",
       "    </tr>\n",
       "    <tr>\n",
       "      <th>4</th>\n",
       "      <td>2.46</td>\n",
       "      <td>35.16</td>\n",
       "      <td>8.58</td>\n",
       "      <td>100.0</td>\n",
       "      <td>13.68</td>\n",
       "      <td>4.18</td>\n",
       "      <td>8.64</td>\n",
       "      <td>95.07</td>\n",
       "      <td>125</td>\n",
       "      <td>15</td>\n",
       "      <td>4747.58</td>\n",
       "      <td>NaN</td>\n",
       "      <td>74111.0</td>\n",
       "    </tr>\n",
       "  </tbody>\n",
       "</table>\n",
       "</div>"
      ],
      "text/plain": [
       "   perHoush  pct12-29  pct65up  pctUrban  pctPoverty  pctUnemploy  \\\n",
       "0      3.10     21.44    11.33     100.0        1.96         2.70   \n",
       "1      2.82     21.30    17.18     100.0        3.98         2.43   \n",
       "2      2.76     40.53    12.65       0.0       29.99         9.08   \n",
       "3      2.60     27.41    14.42     100.0        4.01         4.85   \n",
       "4      2.46     35.16     8.58     100.0       13.68         4.18   \n",
       "\n",
       "   pctAllDivorc  pctHousOccup  persEmergShelt  persHomeless  nonViolPerPop  \\\n",
       "0          4.47         98.37              11             0        1394.59   \n",
       "1          5.42         97.15               0             0        1955.95   \n",
       "2          9.73         92.45               2             0        9988.79   \n",
       "3          7.64         95.11               0             0        1890.88   \n",
       "4          8.64         95.07             125            15        4747.58   \n",
       "\n",
       "   medIncome      pop  \n",
       "0    75122.0  11980.0  \n",
       "1        NaN  23123.0  \n",
       "2        NaN      NaN  \n",
       "3    42805.0  28700.0  \n",
       "4        NaN  74111.0  "
      ]
     },
     "execution_count": 288,
     "metadata": {},
     "output_type": "execute_result"
    }
   ],
   "source": [
    "# Load the dataset\n",
    "crime_data = pd.read_csv(\"crime_data.csv.gz\", usecols=['pop', 'pctUrban', 'medIncome', 'pct12-29', 'pct65up', 'pctPoverty', 'pctAllDivorc', 'pctUnemploy', 'perHoush', 'pctHousOccup', 'persHomeless', 'persEmergShelt', 'nonViolPerPop'])\n",
    "\n",
    "print(crime_data.shape)\n",
    "crime_data.head()"
   ]
  },
  {
   "cell_type": "code",
   "execution_count": 289,
   "metadata": {
    "deletable": false,
    "editable": false,
    "execution": {
     "iopub.execute_input": "2023-03-01T12:52:16.744667Z",
     "iopub.status.busy": "2023-03-01T12:52:16.744273Z",
     "iopub.status.idle": "2023-03-01T12:52:16.746358Z",
     "shell.execute_reply": "2023-03-01T12:52:16.746761Z"
    },
    "nbgrader": {
     "cell_type": "code",
     "checksum": "a399db079b5e31c62ece7d2451e8206a",
     "grade": true,
     "grade_id": "reada",
     "locked": true,
     "points": 1,
     "schema_version": 3,
     "solution": false
    }
   },
   "outputs": [],
   "source": [
    "assert_equal(crime_data.shape,(949, 13))\n",
    "assert_count_equal(crime_data.columns,['pop',\n",
    "            'pctUrban',\n",
    "            'medIncome',\n",
    "            'pct12-29',\n",
    "            'pct65up',\n",
    "            'pctPoverty',\n",
    "            'pctAllDivorc',\n",
    "            'pctUnemploy',\n",
    "            'perHoush',\n",
    "            'pctHousOccup',\n",
    "            'persHomeless',\n",
    "            'persEmergShelt',\n",
    "            'nonViolPerPop'\n",
    "           ])"
   ]
  },
  {
   "cell_type": "markdown",
   "metadata": {
    "deletable": false,
    "editable": false,
    "id": "7FyKPnPepnT9",
    "nbgrader": {
     "cell_type": "markdown",
     "checksum": "bcce91e220b87b045fc836c84f4eb917",
     "grade": false,
     "grade_id": "cell-793ac60698061e82",
     "locked": true,
     "schema_version": 3,
     "solution": false
    }
   },
   "source": [
    "### Question 1b:\n",
    "We want to predict the number of crimes. Identify the features X and the target variable Y, and turn the X and Y DataFrames into Numpy arrays.\n",
    "\n",
    "Make sure `Y` is of shape `(949, 1)`."
   ]
  },
  {
   "cell_type": "code",
   "execution_count": 455,
   "metadata": {
    "deletable": false,
    "execution": {
     "iopub.execute_input": "2023-03-01T12:52:16.753135Z",
     "iopub.status.busy": "2023-03-01T12:52:16.752786Z",
     "iopub.status.idle": "2023-03-01T12:52:16.754546Z",
     "shell.execute_reply": "2023-03-01T12:52:16.754888Z"
    },
    "id": "_FzIEG5DdZo-",
    "nbgrader": {
     "cell_type": "code",
     "checksum": "77a539deddec828c3cbb7a7d88a385cb",
     "grade": false,
     "grade_id": "cell-8eb698d0c3f532fd",
     "locked": false,
     "schema_version": 3,
     "solution": true
    },
    "pycharm": {
     "is_executing": false
    }
   },
   "outputs": [
    {
     "name": "stdout",
     "output_type": "stream",
     "text": [
      "(949, 12) (949, 1)\n",
      "[[3.1000e+00 2.1440e+01 1.1330e+01 1.0000e+02 1.9600e+00 2.7000e+00\n",
      "  4.4700e+00 9.8370e+01 1.1000e+01 0.0000e+00 7.5122e+04 1.1980e+04]\n",
      " [2.8200e+00 2.1300e+01 1.7180e+01 1.0000e+02 3.9800e+00 2.4300e+00\n",
      "  5.4200e+00 9.7150e+01 0.0000e+00 0.0000e+00        nan 2.3123e+04]\n",
      " [2.7600e+00 4.0530e+01 1.2650e+01 0.0000e+00 2.9990e+01 9.0800e+00\n",
      "  9.7300e+00 9.2450e+01 2.0000e+00 0.0000e+00        nan        nan]]\n",
      "[[1394.59]\n",
      " [1955.95]\n",
      " [9988.79]\n",
      " [1890.88]\n",
      " [4747.58]]\n"
     ]
    }
   ],
   "source": [
    "X = np.array(crime_data)\n",
    "X = np.delete(X, 10, axis=1)\n",
    "Y = np.array((crime_data['nonViolPerPop'])).reshape((949, 1))\n",
    "\n",
    "\n",
    "\n",
    "#WRITE YOUR CODE HERE\n",
    "print(X.shape,Y.shape)\n",
    "print(X[:3])\n",
    "print(Y[:5])"
   ]
  },
  {
   "cell_type": "code",
   "execution_count": 456,
   "metadata": {
    "deletable": false,
    "editable": false,
    "execution": {
     "iopub.execute_input": "2023-03-01T12:52:16.758611Z",
     "iopub.status.busy": "2023-03-01T12:52:16.758269Z",
     "iopub.status.idle": "2023-03-01T12:52:16.759901Z",
     "shell.execute_reply": "2023-03-01T12:52:16.760261Z"
    },
    "nbgrader": {
     "cell_type": "code",
     "checksum": "b89d5d4a7671055c4129cc89ec4cf29f",
     "grade": true,
     "grade_id": "p1",
     "locked": true,
     "points": 1,
     "schema_version": 3,
     "solution": false
    }
   },
   "outputs": [],
   "source": [
    "assert isinstance(X, np.ndarray)\n",
    "assert isinstance(y, np.ndarray)\n",
    "assert_equal(X.shape,(949, 12))\n",
    "assert_equal(Y.shape,(949, 1))"
   ]
  },
  {
   "cell_type": "markdown",
   "metadata": {
    "deletable": false,
    "editable": false,
    "id": "P9YvTy9kdZpG",
    "nbgrader": {
     "cell_type": "markdown",
     "checksum": "14b7a8e66d6dfe628a1f4af1188fb10b",
     "grade": false,
     "grade_id": "cell-afc0b6593e782894",
     "locked": true,
     "schema_version": 3,
     "solution": false
    }
   },
   "source": [
    "## Part 2: Split the data into a training set and a test set \n",
    "### Question 2:\n",
    "Split the data into a training and a test set, using teh appropriate sklearn function. Use a  70%-30% split.  \n",
    "Print the number of examples in the training set and the test set."
   ]
  },
  {
   "cell_type": "code",
   "execution_count": 457,
   "metadata": {
    "deletable": false,
    "execution": {
     "iopub.execute_input": "2023-03-01T12:52:16.764415Z",
     "iopub.status.busy": "2023-03-01T12:52:16.764047Z",
     "iopub.status.idle": "2023-03-01T12:52:16.766295Z",
     "shell.execute_reply": "2023-03-01T12:52:16.766647Z"
    },
    "id": "e_oiLoaWdZpH",
    "nbgrader": {
     "cell_type": "code",
     "checksum": "fa64a075ae6ed557673397513a9eb88f",
     "grade": false,
     "grade_id": "cell-cb09606197bd3f58",
     "locked": false,
     "schema_version": 3,
     "solution": true
    },
    "pycharm": {
     "is_executing": false
    }
   },
   "outputs": [
    {
     "name": "stdout",
     "output_type": "stream",
     "text": [
      "(664, 12)\n",
      "(285, 12)\n",
      "(664, 1)\n",
      "(285, 1)\n"
     ]
    }
   ],
   "source": [
    "from sklearn.model_selection import train_test_split\n",
    "\n",
    "X_train, X_test, Y_train, Y_test = train_test_split(X, Y, test_size=0.3)\n",
    "\n",
    "\n",
    "for M in [X_train, X_test, Y_train, Y_test]:\n",
    "    print(M.shape)"
   ]
  },
  {
   "cell_type": "code",
   "execution_count": 458,
   "metadata": {
    "deletable": false,
    "editable": false,
    "execution": {
     "iopub.execute_input": "2023-03-01T12:52:16.771225Z",
     "iopub.status.busy": "2023-03-01T12:52:16.770661Z",
     "iopub.status.idle": "2023-03-01T12:52:16.773384Z",
     "shell.execute_reply": "2023-03-01T12:52:16.773838Z"
    },
    "nbgrader": {
     "cell_type": "code",
     "checksum": "25187bc812c9abaa37fdacc398a36311",
     "grade": true,
     "grade_id": "p2",
     "locked": true,
     "points": 1,
     "schema_version": 3,
     "solution": false
    }
   },
   "outputs": [],
   "source": [
    "assert X_train.shape== (664, 12)\n",
    "assert Y_test.shape== (285,1)\n"
   ]
  },
  {
   "cell_type": "markdown",
   "metadata": {
    "deletable": false,
    "editable": false,
    "id": "ZIYFfQN0dZpM",
    "nbgrader": {
     "cell_type": "markdown",
     "checksum": "3d6a6ad9339a5433eab73ac7abf6cc7c",
     "grade": false,
     "grade_id": "cell-473a187a1ce777d3",
     "locked": true,
     "schema_version": 3,
     "solution": false
    }
   },
   "source": [
    "## Part 3: Knn Regression [2 pts]"
   ]
  },
  {
   "cell_type": "code",
   "execution_count": 459,
   "metadata": {
    "execution": {
     "iopub.execute_input": "2023-03-01T12:52:16.779457Z",
     "iopub.status.busy": "2023-03-01T12:52:16.779092Z",
     "iopub.status.idle": "2023-03-01T12:52:16.781283Z",
     "shell.execute_reply": "2023-03-01T12:52:16.781666Z"
    }
   },
   "outputs": [
    {
     "data": {
      "text/plain": [
       "perHoush           0\n",
       "pct12-29           0\n",
       "pct65up            0\n",
       "pctUrban           0\n",
       "pctPoverty         0\n",
       "pctUnemploy        0\n",
       "pctAllDivorc       0\n",
       "pctHousOccup       0\n",
       "persEmergShelt     0\n",
       "persHomeless       0\n",
       "nonViolPerPop      0\n",
       "medIncome         95\n",
       "pop               95\n",
       "dtype: int64"
      ]
     },
     "execution_count": 459,
     "metadata": {},
     "output_type": "execute_result"
    }
   ],
   "source": [
    "# figure out what this means, and what does it mean when taking the sum?\n",
    "crime_data.isna().sum()"
   ]
  },
  {
   "cell_type": "code",
   "execution_count": 460,
   "metadata": {
    "execution": {
     "iopub.execute_input": "2023-03-01T12:52:16.785764Z",
     "iopub.status.busy": "2023-03-01T12:52:16.785379Z",
     "iopub.status.idle": "2023-03-01T12:52:16.788018Z",
     "shell.execute_reply": "2023-03-01T12:52:16.788476Z"
    }
   },
   "outputs": [
    {
     "data": {
      "text/plain": [
       "array([[False, False, False, ..., False, False, False],\n",
       "       [False, False, False, ..., False, False,  True],\n",
       "       [False, False, False, ..., False, False, False],\n",
       "       ...,\n",
       "       [False, False, False, ..., False, False, False],\n",
       "       [False, False, False, ..., False,  True, False],\n",
       "       [False, False, False, ..., False, False, False]])"
      ]
     },
     "execution_count": 460,
     "metadata": {},
     "output_type": "execute_result"
    }
   ],
   "source": [
    "np.isnan(X_test)#.sum(0)"
   ]
  },
  {
   "cell_type": "code",
   "execution_count": 452,
   "metadata": {
    "execution": {
     "iopub.execute_input": "2023-03-01T12:52:16.792895Z",
     "iopub.status.busy": "2023-03-01T12:52:16.792502Z",
     "iopub.status.idle": "2023-03-01T12:52:16.794712Z",
     "shell.execute_reply": "2023-03-01T12:52:16.795083Z"
    }
   },
   "outputs": [
    {
     "data": {
      "text/plain": [
       "array([False, False, False, False, False, False, False, False, False,\n",
       "       False, False, False, False, False, False, False, False, False,\n",
       "       False, False, False, False, False, False, False, False, False,\n",
       "       False, False, False, False, False, False, False, False, False,\n",
       "       False, False, False, False, False, False, False, False, False,\n",
       "       False, False, False, False, False, False, False, False, False,\n",
       "       False, False, False, False, False, False])"
      ]
     },
     "execution_count": 452,
     "metadata": {},
     "output_type": "execute_result"
    }
   ],
   "source": [
    "np.isnan(X_test[:,0])#.sum()"
   ]
  },
  {
   "cell_type": "markdown",
   "metadata": {
    "deletable": false,
    "editable": false,
    "id": "prbPvQZodZpN",
    "nbgrader": {
     "cell_type": "markdown",
     "checksum": "52fddad4e8b02fa636554b311c0664cb",
     "grade": false,
     "grade_id": "cell-5db55cc890570964",
     "locked": true,
     "schema_version": 3,
     "solution": false
    }
   },
   "source": [
    "**Missing Data**: Often the data you are considering is incomplete. For example in some city, the number of homeless people might be unknown. In this case, if you look into the datasets you will find the value *NaN*. This is not a real value, hence Linear Regression cannot handle it.\n",
    "\n",
    "The question is how can we handle missing data. There are many ways to do so, some more sophisticated than others. Here we will use a simple approach. This simple approach fills in the missing values, i.e. replaces the *NaN* by the median of the corresponding feature. E.g. if there is a *NaN* value for the population in one city, this *NaN* value will be replaced by the median number of the population in all other cities in the data.\n",
    "\n",
    "1. figure out what this code  `np.isnan(X_test).sum(axis=0), np.isnan(X_train).sum(axis=0) `    is doing. Remove the `axis=0`, and replace it by `axis=1`. You get it?\n",
    "2. What is the median of the values in the first column of `X_test`?  (variable `v2`)\n",
    "    * Why does `np.median` not work ;-) You are close though! \n",
    "3. Create the first column of X_test in which you replaced all nan values by the median of the first column. (variable `v3`)\n",
    "5. Then do this for all columns at once   using Scikit learn's `SimpleImputer`.\n",
    "    * So the new `X_train` and `X_test` have no more missing values.\n",
    "6. Check that you get exactly the same result using your own method and sklearn's.  "
   ]
  },
  {
   "cell_type": "code",
   "execution_count": null,
   "metadata": {},
   "outputs": [],
   "source": []
  },
  {
   "cell_type": "code",
   "execution_count": 461,
   "metadata": {
    "deletable": false,
    "execution": {
     "iopub.execute_input": "2023-03-01T12:52:16.800242Z",
     "iopub.status.busy": "2023-03-01T12:52:16.799044Z",
     "iopub.status.idle": "2023-03-01T12:52:16.802142Z",
     "shell.execute_reply": "2023-03-01T12:52:16.802490Z"
    },
    "nbgrader": {
     "cell_type": "code",
     "checksum": "0f3a8827ebedc7699b1f716a131c2af2",
     "grade": false,
     "grade_id": "p3a",
     "locked": false,
     "schema_version": 3,
     "solution": true
    }
   },
   "outputs": [
    {
     "name": "stdout",
     "output_type": "stream",
     "text": [
      "2.68\n",
      "[[2.77000e+00 2.37700e+01 1.04100e+01 9.57500e+01 4.07000e+00 4.72000e+00\n",
      "  7.18000e+00 9.70500e+01 0.00000e+00 0.00000e+00 3.49780e+04 1.07420e+04]\n",
      " [2.53000e+00 2.45900e+01 1.66000e+01 1.00000e+02 6.79000e+00 5.57000e+00\n",
      "  9.67000e+00 9.58800e+01 0.00000e+00 0.00000e+00 3.10070e+04 0.00000e+00]\n",
      " [2.93000e+00 2.55900e+01 1.25100e+01 6.57600e+01 4.92000e+00 4.60000e+00\n",
      "  6.44000e+00 9.60000e+01 0.00000e+00 0.00000e+00 4.01170e+04 1.54110e+04]\n",
      " [2.47000e+00 2.30100e+01 1.89600e+01 1.00000e+02 4.70000e+00 4.71000e+00\n",
      "  7.93000e+00 9.68100e+01 2.00000e+00 0.00000e+00 3.99050e+04 7.17420e+04]\n",
      " [2.68000e+00 2.44100e+01 1.26300e+01 1.00000e+02 2.07000e+00 3.61000e+00\n",
      "  8.65000e+00 9.71200e+01 0.00000e+00 0.00000e+00 4.88640e+04 1.05390e+04]\n",
      " [2.45000e+00 2.60600e+01 1.67900e+01 1.00000e+02 6.25000e+00 7.20000e+00\n",
      "  9.63000e+00 9.44000e+01 1.80000e+01 0.00000e+00 3.58080e+04 1.21990e+04]\n",
      " [2.73000e+00 3.45200e+01 1.19100e+01 1.00000e+02 2.29600e+01 9.18000e+00\n",
      "  1.13700e+01 8.81900e+01 2.40000e+02 4.30000e+01 2.21470e+04 1.60728e+05]\n",
      " [2.75000e+00 2.55900e+01 1.19500e+01 8.23800e+01 1.22900e+01 9.63000e+00\n",
      "  1.08800e+01 9.68000e+01 0.00000e+00 0.00000e+00 2.50580e+04 1.53020e+04]\n",
      " [2.82000e+00 2.60000e+01 9.36000e+00 9.62300e+01 1.58000e+00 3.19000e+00\n",
      "  1.02900e+01 9.41000e+01 0.00000e+00 0.00000e+00 5.54650e+04 1.73130e+04]\n",
      " [2.86000e+00 2.04100e+01 1.02200e+01 1.00000e+02 2.56000e+00 2.10000e+00\n",
      "  7.14000e+00 9.70300e+01 0.00000e+00 0.00000e+00 6.03550e+04 1.08070e+04]]\n",
      "0\n",
      "[]\n"
     ]
    }
   ],
   "source": [
    "v2=np.nanmedian(X_test, axis=0)[0]\n",
    "v3=np.nan_to_num(X_test, v2) # None verplaatsen met median \n",
    " \n",
    "print(v2)\n",
    "print(v3[:10])\n",
    "print(np.isnan(v3).sum())\n",
    "# naize test\n",
    "# all places in v3 which were nan in  X_test[:,0] are now equal to v2\n",
    "print(v3[np.isnan(X_test[:,0])]==v2)\n"
   ]
  },
  {
   "cell_type": "code",
   "execution_count": 462,
   "metadata": {
    "deletable": false,
    "editable": false,
    "execution": {
     "iopub.execute_input": "2023-03-01T12:52:16.807269Z",
     "iopub.status.busy": "2023-03-01T12:52:16.806933Z",
     "iopub.status.idle": "2023-03-01T12:52:16.808569Z",
     "shell.execute_reply": "2023-03-01T12:52:16.808935Z"
    },
    "nbgrader": {
     "cell_type": "code",
     "checksum": "eb12fdffbeb452154399a8f9b7c1e611",
     "grade": true,
     "grade_id": "p3t",
     "locked": true,
     "points": 1,
     "schema_version": 3,
     "solution": false
    }
   },
   "outputs": [
    {
     "name": "stderr",
     "output_type": "stream",
     "text": [
      "/var/folders/5x/kl0ttwmn26v7_2rdrw520mwc0000gn/T/ipykernel_40041/346195263.py:1: DeprecationWarning: `np.float` is a deprecated alias for the builtin `float`. To silence this warning, use `float` by itself. Doing this will not modify any behavior and is safe. If you specifically wanted the numpy scalar type, use `np.float64` here.\n",
      "Deprecated in NumPy 1.20; for more details and guidance: https://numpy.org/devdocs/release/1.20.0-notes.html#deprecations\n",
      "  assert isinstance(v2,np.float)\n"
     ]
    }
   ],
   "source": [
    "assert isinstance(v2,np.float) \n",
    "assert np.isnan(v3).sum()==0"
   ]
  },
  {
   "cell_type": "code",
   "execution_count": 463,
   "metadata": {
    "deletable": false,
    "execution": {
     "iopub.execute_input": "2023-03-01T12:52:16.813022Z",
     "iopub.status.busy": "2023-03-01T12:52:16.812607Z",
     "iopub.status.idle": "2023-03-01T12:52:16.877813Z",
     "shell.execute_reply": "2023-03-01T12:52:16.878203Z"
    },
    "id": "DZEv4VfCdZpP",
    "nbgrader": {
     "cell_type": "code",
     "checksum": "f45985564dff665156b3a22017c3607a",
     "grade": false,
     "grade_id": "cell-0777a154778f1fe3",
     "locked": false,
     "schema_version": 3,
     "solution": true
    },
    "pycharm": {
     "is_executing": false
    }
   },
   "outputs": [
    {
     "name": "stdout",
     "output_type": "stream",
     "text": [
      "0\n",
      "0\n",
      "[2.77 2.53 2.93 2.47 2.68 2.45 2.73 2.75 2.82 2.86 2.77 2.81 2.91 2.45\n",
      " 2.89 2.51 2.92 2.8  2.49 2.46 2.55 2.47 2.66 2.56 2.81 2.56 2.53 3.04\n",
      " 2.53 2.65 2.53 2.57 2.67 2.72 2.77 2.72 2.84 2.88 3.07 2.36 2.43 2.43\n",
      " 2.74 2.32 3.14 3.04 2.75 2.36 2.41 2.61 2.56 2.72 3.1  2.91 2.7  2.34\n",
      " 2.8  2.76 3.11 2.87 2.94 2.5  2.87 2.77 2.76 2.59 2.44 2.51 2.7  2.81\n",
      " 2.68 3.02 2.6  2.96 3.87 3.07 2.9  2.48 2.92 3.17 2.45 2.83 2.66 2.47\n",
      " 2.99 2.62 2.67 2.46 2.42 2.58 2.67 2.54 2.87 2.53 2.65 2.69 2.95 2.81\n",
      " 2.75 3.   2.63 3.06 2.8  2.63 2.94 2.38 2.94 3.28 2.71 3.17 2.3  2.72\n",
      " 2.56 2.75 2.55 2.54 2.4  2.6  2.72 3.19 2.63 2.67 2.53 2.85 2.28 2.84\n",
      " 2.59 2.89 2.86 2.74 2.53 2.68 2.68 2.27 2.48 2.54 2.78 2.63 2.95 2.56\n",
      " 2.6  2.77 2.7  2.44 2.58 2.55 2.67 2.54 2.48 2.81 2.61 2.92 2.5  2.43\n",
      " 2.78 2.49 2.58 2.51 2.98 2.49 3.12 2.72 2.83 2.25 4.31 2.6  2.66 2.45\n",
      " 2.55 2.39 2.58 2.76 3.57 2.83 2.47 2.76 3.01 2.19 2.57 2.79 2.83 2.88\n",
      " 2.68 2.54 2.6  2.8  2.55 2.55 2.46 2.77 2.36 2.49 2.58 2.78 2.75 2.72\n",
      " 3.06 3.32 2.59 2.89 2.73 2.37 2.82 2.35 2.78 2.62 2.64 2.69 2.77 2.44\n",
      " 2.4  2.49 2.73 2.56 2.35 2.37 2.79 2.46 2.34 2.7  2.76 3.42 2.8  2.57\n",
      " 2.38 2.52 2.71 2.37 2.44 2.59 2.86 2.82 2.95 2.48 2.55 2.88 2.86 2.79\n",
      " 2.95 3.05 2.88 3.02 2.76 2.56 2.93 2.91 2.55 2.45 2.72 3.36 3.03 2.84\n",
      " 2.24 2.67 3.1  3.12 2.8  2.54 2.62 2.27 2.75 3.1  2.95 2.58 2.53 3.29\n",
      " 3.04 2.84 2.75 2.6  2.56 2.74 2.79 2.47 2.35 2.53 2.56 2.93 2.52 2.72\n",
      " 2.62 2.52 2.56 2.54 2.36]\n"
     ]
    }
   ],
   "source": [
    "# Fill in the missing data in the dataset (i.e. replace NaN values in both X_train and X_test) \n",
    "from sklearn.impute import SimpleImputer\n",
    "\n",
    "X_test = np.nan_to_num(X_test, np.nanmedian(X_test, axis=0)[0])\n",
    "X_train = np.nan_to_num(X_train, np.nanmedian(X_train, axis=0)[0])\n",
    "#WRITE YOUR CODE HERE\n",
    "print(np.isnan(X_train).sum())\n",
    "print(np.isnan(X_test).sum())\n",
    "print(X_test[:,0])"
   ]
  },
  {
   "cell_type": "code",
   "execution_count": 394,
   "metadata": {
    "deletable": false,
    "editable": false,
    "execution": {
     "iopub.execute_input": "2023-03-01T12:52:16.883246Z",
     "iopub.status.busy": "2023-03-01T12:52:16.882698Z",
     "iopub.status.idle": "2023-03-01T12:52:16.886934Z",
     "shell.execute_reply": "2023-03-01T12:52:16.887301Z"
    },
    "nbgrader": {
     "cell_type": "code",
     "checksum": "073c3a15bbee7865874bd690781b0a00",
     "grade": true,
     "grade_id": "p3tt",
     "locked": true,
     "points": 1,
     "schema_version": 3,
     "solution": false
    }
   },
   "outputs": [],
   "source": [
    "assert_equal(np.isnan(X_train).sum(),0)\n",
    "assert_equal(np.isnan(X_test).sum(),0)\n"
   ]
  },
  {
   "cell_type": "markdown",
   "metadata": {},
   "source": [
    "# Check that you get exactly the same result using your own method and sklearn's.\n",
    "\n"
   ]
  },
  {
   "cell_type": "code",
   "execution_count": 464,
   "metadata": {
    "deletable": false,
    "execution": {
     "iopub.execute_input": "2023-03-01T12:52:16.890269Z",
     "iopub.status.busy": "2023-03-01T12:52:16.889856Z",
     "iopub.status.idle": "2023-03-01T12:52:16.891799Z",
     "shell.execute_reply": "2023-03-01T12:52:16.892205Z"
    },
    "nbgrader": {
     "cell_type": "code",
     "checksum": "bdf76e360b282d29596f2e5ac46aaa11",
     "grade": true,
     "grade_id": "check",
     "locked": false,
     "points": 0,
     "schema_version": 3,
     "solution": true
    }
   },
   "outputs": [
    {
     "ename": "TypeError",
     "evalue": "assert_equal() missing 1 required positional argument: 'desired'",
     "output_type": "error",
     "traceback": [
      "\u001b[0;31m---------------------------------------------------------------------------\u001b[0m",
      "\u001b[0;31mTypeError\u001b[0m                                 Traceback (most recent call last)",
      "\u001b[0;32m/var/folders/5x/kl0ttwmn26v7_2rdrw520mwc0000gn/T/ipykernel_40041/718150697.py\u001b[0m in \u001b[0;36m<module>\u001b[0;34m\u001b[0m\n\u001b[1;32m      1\u001b[0m \u001b[0;31m#WRITE YOUR CODE HERE\u001b[0m\u001b[0;34m\u001b[0m\u001b[0;34m\u001b[0m\u001b[0m\n\u001b[0;32m----> 2\u001b[0;31m \u001b[0massert_equal\u001b[0m\u001b[0;34m(\u001b[0m\u001b[0mX_test\u001b[0m\u001b[0;34m,\u001b[0m \u001b[0;34m)\u001b[0m\u001b[0;34m\u001b[0m\u001b[0;34m\u001b[0m\u001b[0m\n\u001b[0m\u001b[1;32m      3\u001b[0m \u001b[0massert_equal\u001b[0m\u001b[0;34m(\u001b[0m\u001b[0mX_train\u001b[0m\u001b[0;34m,\u001b[0m \u001b[0;34m)\u001b[0m\u001b[0;34m\u001b[0m\u001b[0;34m\u001b[0m\u001b[0m\n",
      "\u001b[0;31mTypeError\u001b[0m: assert_equal() missing 1 required positional argument: 'desired'"
     ]
    }
   ],
   "source": [
    "#WRITE YOUR CODE HERE\n",
    "assert_equal(X_test, )\n",
    "assert_equal(X_train, )"
   ]
  },
  {
   "cell_type": "markdown",
   "metadata": {
    "deletable": false,
    "editable": false,
    "nbgrader": {
     "cell_type": "markdown",
     "checksum": "38b76197c5b46d846914527a5c510406",
     "grade": false,
     "grade_id": "knn",
     "locked": true,
     "schema_version": 3,
     "solution": false
    }
   },
   "source": [
    "# KNN\n",
    "\n",
    "Make now the KNN regression algorithm from scratch.\n",
    "\n",
    "* use euclidean again \n",
    "* use `np.argsort` and `[:k]` to find the indexes of the k nearest neighbor rows\n",
    "* use so called *fancy indexing* on numpy array \n",
    "    * `X_train[[2,5,3]]` gives the 2D array with the 2nd, 5th and 3rd row of `X_train`.\n",
    "\n",
    "\n",
    "## Evaluate with RMSE (root mean square error)\n",
    "\n",
    "1. Program the formula for RMSE from scratch \n",
    "2. Compute `Y_predicted`\n",
    "3. Compute the RMSE for the kNN algorithm on this dataset.\n",
    "\n",
    "## Do the same for $R^2$."
   ]
  },
  {
   "cell_type": "code",
   "execution_count": 477,
   "metadata": {
    "deletable": false,
    "execution": {
     "iopub.execute_input": "2023-03-01T12:52:16.902448Z",
     "iopub.status.busy": "2023-03-01T12:52:16.902044Z",
     "iopub.status.idle": "2023-03-01T12:52:16.904235Z",
     "shell.execute_reply": "2023-03-01T12:52:16.904608Z"
    },
    "nbgrader": {
     "cell_type": "code",
     "checksum": "63e4f8ae0510c29ba830d74056beaf8b",
     "grade": true,
     "grade_id": "knna",
     "locked": false,
     "points": 1,
     "schema_version": 3,
     "solution": true
    }
   },
   "outputs": [
    {
     "data": {
      "text/plain": [
       "(1832.19, array([421.09]))"
      ]
     },
     "execution_count": 477,
     "metadata": {},
     "output_type": "execute_result"
    }
   ],
   "source": [
    "from scipy.spatial.distance import euclidean\n",
    "\n",
    "\n",
    "def  knn(ExamplesX,ExamplesY,instance,k=5):\n",
    "    kNN_Y = [ExamplesY[i] for i in np.argsort([euclidean(instance, node) for node in ExamplesX])[:k]]\n",
    "    kNN_Y = mode(kNN_Y)[0][0]\n",
    "    return kNN_Y.mean()\n",
    "\n",
    "\n",
    "knn(X_train,Y_train,X_test[0,:]), Y_test[0]\n",
    "\n"
   ]
  },
  {
   "cell_type": "code",
   "execution_count": 424,
   "metadata": {
    "deletable": false,
    "execution": {
     "iopub.execute_input": "2023-03-01T12:52:16.909411Z",
     "iopub.status.busy": "2023-03-01T12:52:16.909055Z",
     "iopub.status.idle": "2023-03-01T12:52:16.911295Z",
     "shell.execute_reply": "2023-03-01T12:52:16.911671Z"
    },
    "nbgrader": {
     "cell_type": "code",
     "checksum": "190680a65e316cd45d86a9de00fdefcf",
     "grade": false,
     "grade_id": "rmse",
     "locked": false,
     "schema_version": 3,
     "solution": true
    }
   },
   "outputs": [
    {
     "data": {
      "text/plain": [
       "0.0"
      ]
     },
     "execution_count": 424,
     "metadata": {},
     "output_type": "execute_result"
    }
   ],
   "source": [
    "# import math \n",
    "def rmse(u,v): ## u, v are 1D arrays of the same length\n",
    "    #WRITE YOUR CODE HERE\n",
    "    u,v = np.array(u), np.array(v)\n",
    "    return math.sqrt(sum((u - v)**2)/ len(u))\n",
    "\n",
    "rmse([2,3,5,6,7,34],[2,3,5,6,7,34])"
   ]
  },
  {
   "cell_type": "code",
   "execution_count": 471,
   "metadata": {
    "deletable": false,
    "execution": {
     "iopub.execute_input": "2023-03-01T12:52:16.917474Z",
     "iopub.status.busy": "2023-03-01T12:52:16.917112Z",
     "iopub.status.idle": "2023-03-01T12:52:16.919260Z",
     "shell.execute_reply": "2023-03-01T12:52:16.919749Z"
    },
    "nbgrader": {
     "cell_type": "code",
     "checksum": "7f3d13fa820f4376dfb6452f6d49f57b",
     "grade": false,
     "grade_id": "rsquare",
     "locked": false,
     "schema_version": 3,
     "solution": true
    }
   },
   "outputs": [
    {
     "data": {
      "text/plain": [
       "1.0"
      ]
     },
     "execution_count": 471,
     "metadata": {},
     "output_type": "execute_result"
    }
   ],
   "source": [
    "def rsquare(predicted,true): ## u, v are 1D arrays of the same length\n",
    "    #WRITE YOUR CODE HERE\n",
    "    predicted,true = np.array(predicted), np.array(true)\n",
    "    RSS = sum((predicted - true)**2)\n",
    "    TSS = sum((predicted - np.mean(true))**2)\n",
    "    return 1- (RSS / TSS)\n",
    "    \n",
    "rsquare([2,3,5,6,7,34],[2,3,5,6,7,34])"
   ]
  },
  {
   "cell_type": "code",
   "execution_count": 493,
   "metadata": {
    "deletable": false,
    "execution": {
     "iopub.execute_input": "2023-03-01T12:52:16.978320Z",
     "iopub.status.busy": "2023-03-01T12:52:16.977975Z",
     "iopub.status.idle": "2023-03-01T12:52:18.235811Z",
     "shell.execute_reply": "2023-03-01T12:52:18.236165Z"
    },
    "nbgrader": {
     "cell_type": "code",
     "checksum": "229cde3a51a5e470df6afd06b6f710fc",
     "grade": true,
     "grade_id": "knneval",
     "locked": false,
     "points": 1,
     "schema_version": 3,
     "solution": true
    }
   },
   "outputs": [
    {
     "name": "stdout",
     "output_type": "stream",
     "text": [
      "1832.19\n"
     ]
    },
    {
     "data": {
      "text/plain": [
       "((), None)"
      ]
     },
     "execution_count": 493,
     "metadata": {},
     "output_type": "execute_result"
    }
   ],
   "source": [
    "Y_predicted = knn(X_train,Y_train,X_test[0,:])\n",
    "# RMSE= rmse(Y_predicted, Y_test)\n",
    "print(Y_predicted)\n",
    "#WRITE YOUR CODE HERE\n",
    "\n",
    "Y_predicted.shape,RMSE "
   ]
  },
  {
   "cell_type": "markdown",
   "metadata": {
    "deletable": false,
    "editable": false,
    "nbgrader": {
     "cell_type": "markdown",
     "checksum": "4ba78569e3bb8f2422dbcb6ab4d4cd84",
     "grade": false,
     "grade_id": "testb",
     "locked": true,
     "schema_version": 3,
     "solution": false
    }
   },
   "source": [
    "# What is happening here?\n",
    "\n",
    "* Explain what we are doing in the next cell.\n",
    "* Is this according to your intuition?"
   ]
  },
  {
   "cell_type": "code",
   "execution_count": null,
   "metadata": {
    "execution": {
     "iopub.execute_input": "2023-03-01T12:52:18.240893Z",
     "iopub.status.busy": "2023-03-01T12:52:18.239738Z",
     "iopub.status.idle": "2023-03-01T12:52:18.245856Z",
     "shell.execute_reply": "2023-03-01T12:52:18.246261Z"
    }
   },
   "outputs": [],
   "source": [
    "from sklearn.neighbors import KNeighborsRegressor\n",
    "\n",
    "neigh = KNeighborsRegressor(n_neighbors=5)\n",
    "neigh.fit(X_train, Y_train)\n",
    "\n",
    "Y_predicted2= neigh.predict(X_test )\n",
    "\n",
    "rmse(Y_predicted2,Y_test)\n"
   ]
  },
  {
   "cell_type": "markdown",
   "metadata": {
    "deletable": false,
    "nbgrader": {
     "cell_type": "markdown",
     "checksum": "8d1ca72ff085ab72c8951c792d8f8f29",
     "grade": true,
     "grade_id": "test2",
     "locked": false,
     "points": 0,
     "schema_version": 3,
     "solution": true
    }
   },
   "source": [
    "YOUR ANSWER HERE"
   ]
  },
  {
   "cell_type": "markdown",
   "metadata": {
    "deletable": false,
    "editable": false,
    "nbgrader": {
     "cell_type": "markdown",
     "checksum": "2644c2cf1e7224dab94d89ec534a4f6f",
     "grade": false,
     "grade_id": "norm",
     "locked": true,
     "schema_version": 3,
     "solution": false
    }
   },
   "source": [
    "# Normalization\n",
    "\n",
    "\n",
    "## Z- transformation\n",
    "\n",
    "* We transform the data such that each kolom has a mean of 0 and a standard deviation of 1.\n",
    "\n",
    "## Unit normalization\n",
    "\n",
    "* We transform the data such that each row has unit norm.\n",
    "* A unit normn of a vector $v$ means that its length equals 1, that is $\\sqrt{v\\cdot v}$ equals 1, where $v\\cdot v$ is the dot product of $v$ with itself, that is $\\Sigma_i v_i\\cdot v_i$.\n",
    "\n",
    "\n",
    "## Your task\n",
    "\n",
    "* Implement both normalisations of a matrix and **make tests to check that they work correctly**.\n",
    "    * Check out `np.linalg.norm?`\n",
    "    * Tests are real computer tests. Not a print that you then check with your eyes.\n",
    "    * So use `assert` statements, or make a test which returns True.\n",
    "    * Of course you may add a useful print. \n",
    "* Do not use predefined functions for these normalisations, but program them from the here given definitions.\n",
    "* Finally check that they give the same results as the [scikit learn normalizer](https://scikit-learn.org/stable/modules/preprocessing.html#normalization) and [standardizer](https://scikit-learn.org/stable/modules/preprocessing.html#standardization-or-mean-removal-and-variance-scaling)."
   ]
  },
  {
   "cell_type": "code",
   "execution_count": 526,
   "metadata": {
    "deletable": false,
    "execution": {
     "iopub.execute_input": "2023-03-01T12:52:18.255769Z",
     "iopub.status.busy": "2023-03-01T12:52:18.255421Z",
     "iopub.status.idle": "2023-03-01T12:52:18.261029Z",
     "shell.execute_reply": "2023-03-01T12:52:18.261437Z"
    },
    "nbgrader": {
     "cell_type": "code",
     "checksum": "4559dfcb0f478f9587b3405ae98ceb8d",
     "grade": false,
     "grade_id": "norma",
     "locked": false,
     "schema_version": 3,
     "solution": true
    }
   },
   "outputs": [
    {
     "data": {
      "text/plain": [
       "array([[-1.63347475e-06, -1.52815032e-05, -1.06396599e-05, ...,\n",
       "        -0.00000000e+00, -2.17762997e-02, -4.79699188e-02],\n",
       "       [-1.62086105e-06, -1.72681617e-05, -7.51146113e-06, ...,\n",
       "        -0.00000000e+00, -1.86001689e-02, -7.26738594e-03],\n",
       "       [-2.02449960e-06, -1.97341409e-05, -5.53110950e-06, ...,\n",
       "        -5.92844119e-05, -1.70032739e-02, -8.88578732e-02],\n",
       "       ...,\n",
       "       [-1.84160088e-06, -1.61329283e-05, -4.72383240e-06, ...,\n",
       "        -0.00000000e+00, -2.72683067e-02, -6.94069099e-03],\n",
       "       [-1.87313514e-06, -1.51301387e-05, -5.81491785e-06, ...,\n",
       "        -0.00000000e+00, -2.82023516e-02, -6.67391114e-03],\n",
       "       [-1.65239531e-06, -1.55337773e-05, -9.54226758e-06, ...,\n",
       "        -0.00000000e+00, -1.82854570e-02, -6.87699178e-03]])"
      ]
     },
     "execution_count": 526,
     "metadata": {},
     "output_type": "execute_result"
    }
   ],
   "source": [
    "# Assume M is a np.array\n",
    "def standardize(M):\n",
    "    #WRITE YOUR CODE HERE\n",
    "    return (M - np.mean(M)) / np.std(M)\n",
    "    \n",
    "    \n",
    "def normalize(X):\n",
    "    #WRITE YOUR CODE HERE\n",
    "    return (X - np.min(X)) / (np.min(X) - np.max(X))\n",
    "\n",
    "\n",
    "    \n",
    "X = np.array([[ 1., -1.,  2.],\n",
    "                    [ 2.,  0.,  0.],\n",
    "                   [ 0.,  1., -1.]])  \n",
    "\n",
    "np.std(standardize(X))\n",
    "\n",
    "\n",
    "normalize(X_train)\n"
   ]
  },
  {
   "cell_type": "markdown",
   "metadata": {
    "deletable": false,
    "editable": false,
    "nbgrader": {
     "cell_type": "markdown",
     "checksum": "75e3b3cb9e22cdb2f0606c9e307207ab",
     "grade": false,
     "grade_id": "normc",
     "locked": true,
     "schema_version": 3,
     "solution": false
    }
   },
   "source": [
    "Here in the answer cell below:\n",
    "\n",
    "* your own tests\n",
    "*  tests that scikit learn functions do the same\n"
   ]
  },
  {
   "cell_type": "code",
   "execution_count": null,
   "metadata": {
    "deletable": false,
    "execution": {
     "iopub.execute_input": "2023-03-01T12:52:18.265299Z",
     "iopub.status.busy": "2023-03-01T12:52:18.264933Z",
     "iopub.status.idle": "2023-03-01T12:52:18.279483Z",
     "shell.execute_reply": "2023-03-01T12:52:18.279886Z"
    },
    "nbgrader": {
     "cell_type": "code",
     "checksum": "2f624bdba3eb3f8eba6a99ff18a1232d",
     "grade": true,
     "grade_id": "norma1",
     "locked": false,
     "points": 1,
     "schema_version": 3,
     "solution": true
    }
   },
   "outputs": [],
   "source": [
    "#WRITE YOUR CODE HERE"
   ]
  },
  {
   "cell_type": "code",
   "execution_count": null,
   "metadata": {
    "deletable": false,
    "editable": false,
    "execution": {
     "iopub.execute_input": "2023-03-01T12:52:18.288806Z",
     "iopub.status.busy": "2023-03-01T12:52:18.288409Z",
     "iopub.status.idle": "2023-03-01T12:52:18.294603Z",
     "shell.execute_reply": "2023-03-01T12:52:18.294955Z"
    },
    "nbgrader": {
     "cell_type": "code",
     "checksum": "5e70f68788ae8b60a40a4e4c36c2fcc9",
     "grade": true,
     "grade_id": "normt",
     "locked": true,
     "points": 1,
     "schema_version": 3,
     "solution": false
    }
   },
   "outputs": [],
   "source": [
    "assert_equal(X.shape, normalize(X).shape)\n",
    "assert_equal(X.shape, standardize(X).shape)\n"
   ]
  },
  {
   "cell_type": "markdown",
   "metadata": {
    "deletable": false,
    "editable": false,
    "id": "TJIk0ppWpnUV",
    "nbgrader": {
     "cell_type": "markdown",
     "checksum": "5cf5c1b96c99fb45335b32e5d095cb3e",
     "grade": false,
     "grade_id": "cell-5f6424ae3678e3c9",
     "locked": true,
     "schema_version": 3,
     "solution": false
    }
   },
   "source": [
    "### Question 3\n",
    " \n",
    " \n",
    "* Do the KNN regression again but now on the normalized data.\n",
    "* Conclude."
   ]
  },
  {
   "cell_type": "code",
   "execution_count": null,
   "metadata": {
    "deletable": false,
    "execution": {
     "iopub.execute_input": "2023-03-01T12:52:18.426935Z",
     "iopub.status.busy": "2023-03-01T12:52:18.354701Z",
     "iopub.status.idle": "2023-03-01T12:52:24.255568Z",
     "shell.execute_reply": "2023-03-01T12:52:24.255946Z"
    },
    "id": "BQc0v7GCdZpV",
    "nbgrader": {
     "cell_type": "code",
     "checksum": "4a7ea5b2db20746db0e405409c584c7b",
     "grade": true,
     "grade_id": "cell-40087f3cfc1918c7",
     "locked": false,
     "points": 1,
     "schema_version": 3,
     "solution": true
    },
    "pycharm": {
     "is_executing": false
    }
   },
   "outputs": [],
   "source": [
    "#WRITE YOUR CODE HERE"
   ]
  },
  {
   "cell_type": "markdown",
   "metadata": {
    "deletable": false,
    "editable": false,
    "nbgrader": {
     "cell_type": "markdown",
     "checksum": "4a6b9e72cc2b6f4706c1ab7af66e5156",
     "grade": false,
     "grade_id": "imp",
     "locked": true,
     "schema_version": 3,
     "solution": false
    }
   },
   "source": [
    "# Improving KNN\n",
    "\n",
    "With KNN each neighbour is equal, as we take the mean or the majority class. Now, we may change KNN by *weighing* the imprtance of the neighbors, for instance with the distance or similarity. \n",
    "\n",
    "Implement that improvement:\n",
    "\n",
    "* find an easy way to create weights from distances.\n",
    "* normalize these weighjts so that the weights of all neighbours add up to 1.\n",
    "* find out the wonderfullness of the *dot product*, see how you take the dot product of 2 numpy arrays, and, well, use it to compute the weighted mean, basically by saying *weights times values*. \n",
    "\n",
    "* Work it out using the tips dataset for which you predict the tip from the total bill.\n",
    "* Do all steps we do in an ML project and predict the tip using KNN regression with weighted neighbors.\n",
    "\n",
    " "
   ]
  },
  {
   "cell_type": "code",
   "execution_count": null,
   "metadata": {
    "deletable": false,
    "editable": false,
    "execution": {
     "iopub.execute_input": "2023-03-01T12:52:24.259608Z",
     "iopub.status.busy": "2023-03-01T12:52:24.259244Z",
     "iopub.status.idle": "2023-03-01T12:52:24.504365Z",
     "shell.execute_reply": "2023-03-01T12:52:24.504774Z"
    },
    "nbgrader": {
     "cell_type": "code",
     "checksum": "d56cd9b30778dee679b53b68f647f331",
     "grade": false,
     "grade_id": "tips",
     "locked": true,
     "schema_version": 3,
     "solution": false
    }
   },
   "outputs": [],
   "source": [
    "tips = sns.load_dataset('tips')\n",
    "print(tips.shape)\n",
    "sns.regplot(x='total_bill', y='tip', data=tips);\n",
    "tips.head()"
   ]
  },
  {
   "cell_type": "markdown",
   "metadata": {
    "deletable": false,
    "editable": false,
    "nbgrader": {
     "cell_type": "markdown",
     "checksum": "7b3433b895657bfef19543a09d5139f0",
     "grade": false,
     "grade_id": "mf",
     "locked": true,
     "schema_version": 3,
     "solution": false
    }
   },
   "source": [
    "# Male vs Female\n",
    "\n",
    "We  wonder if males tip differently than females. We first investigate visually. Then we compute.\n",
    "\n",
    "1. Add `hue='sex'` to the `sns.scatterplot` command. \n",
    "2. Simply plot two regplots on top of each other, one for the males, one for the females.\n",
    "   * Of course you use Boolean indexing to restrict `data` to the required sex.\n",
    "3. Read up what those shaded areas in the `regplot` mean. Can you draw a conclusion about male vs female tipping?\n",
    "4. Finally run your weighted KNN and a scikit learn linear regression, and plot the regression line, the true values and the KNN-predicted tips for the test-set. Can you conclude something?"
   ]
  },
  {
   "cell_type": "code",
   "execution_count": null,
   "metadata": {
    "deletable": false,
    "execution": {
     "iopub.execute_input": "2023-03-01T12:52:24.529149Z",
     "iopub.status.busy": "2023-03-01T12:52:24.516208Z",
     "iopub.status.idle": "2023-03-01T12:52:24.797469Z",
     "shell.execute_reply": "2023-03-01T12:52:24.798010Z"
    },
    "nbgrader": {
     "cell_type": "code",
     "checksum": "d326fdefd47d967724c6dc6ddb493576",
     "grade": true,
     "grade_id": "mfa",
     "locked": false,
     "points": 0,
     "schema_version": 3,
     "solution": true
    }
   },
   "outputs": [],
   "source": [
    "#WRITE YOUR CODE HERE"
   ]
  },
  {
   "cell_type": "code",
   "execution_count": null,
   "metadata": {},
   "outputs": [],
   "source": []
  }
 ],
 "metadata": {
  "colab": {
   "collapsed_sections": [
    "mvRc3NfNpnX_",
    "jEVT2ICapnYY",
    "9VnA1f6gpnZF",
    "r0tPQjwcpnZq",
    "ToGW3LxdpnZy",
    "xtQdj-BJpnaK",
    "23xaVneOdZrC"
   ],
   "name": "Practical Assignment 1 - 2021 Answer.ipynb",
   "provenance": [],
   "toc_visible": true
  },
  "kernelspec": {
   "display_name": "Python 3 (ipykernel)",
   "language": "python",
   "name": "python3"
  },
  "language_info": {
   "codemirror_mode": {
    "name": "ipython",
    "version": 3
   },
   "file_extension": ".py",
   "mimetype": "text/x-python",
   "name": "python",
   "nbconvert_exporter": "python",
   "pygments_lexer": "ipython3",
   "version": "3.9.7"
  },
  "pycharm": {
   "stem_cell": {
    "cell_type": "raw",
    "metadata": {
     "collapsed": false
    },
    "source": []
   }
  },
  "toc": {
   "nav_menu": {},
   "number_sections": false,
   "sideBar": true,
   "skip_h1_title": false,
   "title_cell": "Table of Contents",
   "title_sidebar": "Contents",
   "toc_cell": false,
   "toc_position": {},
   "toc_section_display": true,
   "toc_window_display": false
  }
 },
 "nbformat": 4,
 "nbformat_minor": 1
}

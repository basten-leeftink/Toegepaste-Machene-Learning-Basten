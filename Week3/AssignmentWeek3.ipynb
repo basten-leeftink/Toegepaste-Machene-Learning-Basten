{
 "cells": [
  {
   "cell_type": "markdown",
   "id": "f5e9f87d",
   "metadata": {
    "nbgrader": {
     "grade": false,
     "grade_id": "privacy",
     "locked": false,
     "schema_version": 3,
     "solution": false
    }
   },
   "source": [
    "# Assignment Applied Machine Learning BSc IK \n",
    "\n",
    "## Notebook made by\n",
    "\n",
    "**Gebruik graag dit formaat**\n",
    "\n",
    "* Voor de namen:  voornaam rest van je naam, voornaam rest van je naam,....\n",
    "* je studentnummers: hetzelfde: scheidt met `,`\n",
    "* je emails: hetzelfde: scheidt met `,`\n",
    "* voor je groep: **alleen de hoofdletter** (iets als  `A` of `B` dus)\n",
    "\n",
    "__Namen__: \n",
    "\n",
    "__Emails__: \n",
    "\n",
    "__Student ids__ : \n",
    "\n",
    "__Groep__ : VervangMijDoorEenHoofdletter"
   ]
  },
  {
   "cell_type": "markdown",
   "id": "a80a53f0",
   "metadata": {},
   "source": [
    "## Toelichting\n",
    "\n",
    "* Een aantal opgaven worden automatisch nagekeken. Bij vrijwel alle opdrachten staan er een paar tests onder de opdracht, dit is voornamelijk om te zorgen dat je de juiste type output geeft. Dit zijn dus *NIET* alle tests, die komen er bij het graden nog bij.\n",
    "* Elke vraag is 1 punt waard, tenzij anders aangegeven. Soms is die punt onderverdeeld in deelpunten, maar niet altijd. \n",
    "\n",
    "## Voor het inleveren!\n",
    "\n",
    "* Pas niet de cellen aan, vooral niet die je niet kunt editen. Dit levert problemen op bij nakijken. Twijfel je of je per ongeluk iets hebt gewijzigd, kopieer dan bij inleveren je antwoorden naar een nieuw bestand, zodat het niet fout kan gaan.\n",
    "\n",
    "* Zorg dat de code goed runt van boven naar beneden, verifieer dat door boven in Kernel -> Restart & Run All uit te voeren\n",
    "\n",
    "## Na het inleveren!\n",
    "\n",
    "* Het gebeurt erg vaak dat mensen een \"leeg bestand\" inleveren. Vaak een andere versie van de opgave die nog ergens op je computer rondslingerde. Zonde van al je werk toch!\n",
    "* Dus, lever **minstens een half uur voor tijd in**. Download dan wat je hebt ingeleverd op Canvas. Geef het een andere naam om verwarring te voorkomen. En draai alle cellen, en bekijk het. Geen syntax fouten? Alle vragen gemaakt? Dan zit het vast wel goed, en hoef je niet in de zenuwen te zitten."
   ]
  },
  {
   "cell_type": "markdown",
   "id": "6d7f8d91",
   "metadata": {
    "deletable": false,
    "editable": false,
    "nbgrader": {
     "cell_type": "markdown",
     "checksum": "b093f381ee492221a8bc06649c8601fd",
     "grade": false,
     "grade_id": "i",
     "locked": true,
     "schema_version": 3,
     "solution": false
    }
   },
   "source": [
    "# Applied Machine Learning W3\n",
    "\n",
    "In the assignment for this week the focus will be on evaluation, where we take a look at confusion matrices, different metrics, and evaluation techniques such as cross validation and confidence intervals. As always, the exercises are mostly independent of each other, so if you get stuck somewhere, try doing a different part of the assignment, and come back to it later."
   ]
  },
  {
   "cell_type": "markdown",
   "id": "6c901ff1",
   "metadata": {
    "deletable": false,
    "editable": false,
    "nbgrader": {
     "cell_type": "markdown",
     "checksum": "b2a998a1b45fc2c2bfb5ec35a33a7724",
     "grade": false,
     "grade_id": "cell-17d642854ee293ff",
     "locked": true,
     "schema_version": 3,
     "solution": false,
     "task": false
    }
   },
   "source": [
    "## Index\n",
    "\n",
    "1. [Confusion Matrices](#conf_mat)\n",
    "2. [Evaluation DIY](#eval1)\n",
    "3. [Evluation with sklearn](#eval2)\n",
    "4. [Cross Validation & Confidence Intervals](#cross_val)\n",
    "5. [Baselines](#baselines)\n",
    "6. [More Theory Questions](#theory)\n",
    "7. [contagiousness Vs. Deadliness](#contag)"
   ]
  },
  {
   "cell_type": "code",
   "execution_count": 222,
   "id": "f2d84b09",
   "metadata": {
    "deletable": false,
    "editable": false,
    "nbgrader": {
     "cell_type": "code",
     "checksum": "fdcc0ffa834e813a679dbabd48d37198",
     "grade": false,
     "grade_id": "imp",
     "locked": true,
     "schema_version": 3,
     "solution": false
    }
   },
   "outputs": [],
   "source": [
    "import os\n",
    "import sklearn\n",
    "import numpy as np\n",
    "import pandas as pd\n",
    "import seaborn as sns\n",
    "\n",
    "# testing\n",
    "from nose.tools import assert_count_equal, assert_equal, assert_almost_equals\n",
    "from numpy.testing import *\n",
    "from numpy.testing import assert_equal\n",
    "from pandas.testing import assert_frame_equal\n",
    "\n",
    "# Please do not remove this: \n",
    "np.random.seed(31415)"
   ]
  },
  {
   "cell_type": "markdown",
   "id": "fec61cd3",
   "metadata": {
    "deletable": false,
    "editable": false,
    "nbgrader": {
     "cell_type": "markdown",
     "checksum": "fd6af72842db55bc91059959b9a997b1",
     "grade": false,
     "grade_id": "cell-d0313968d002d66f",
     "locked": true,
     "schema_version": 3,
     "solution": false,
     "task": false
    }
   },
   "source": [
    "<a id=\"conf_mat\" />"
   ]
  },
  {
   "cell_type": "markdown",
   "id": "766ce2ce",
   "metadata": {
    "deletable": false,
    "editable": false,
    "nbgrader": {
     "cell_type": "markdown",
     "checksum": "d98adc42b9c9b213c178b3f2f47fa1bb",
     "grade": false,
     "grade_id": "vw",
     "locked": true,
     "schema_version": 3,
     "solution": false
    }
   },
   "source": [
    "# Confusion Matrix\n",
    "\n",
    "In the class we looked at the following example Confusion Matrix with multiple classes:\n",
    "\n",
    "\n",
    "* example  with 3 classes, N=1000\n",
    "    * priors 700,200,100\n",
    "    * diagonal : 600,50,10\n",
    "    * predicted classes: 900,80,20\n",
    "* Compute, precision, recall, F1 per class and  accuracy, macro values, weighted values over all classes.\n",
    "\n",
    "## Your turn\n",
    "\n",
    "* Create an example yourself, with maybe more classes and completely different numbers.\n",
    "* Compute precision and recall per class alongside the table, indicate very very clearly what you are doing, and the order of things.\n",
    "* Do it on paper with pencil and nice colors, make a photo, put it on the web, and create a hyperlink in the answer cell to your picture(s)."
   ]
  },
  {
   "cell_type": "markdown",
   "id": "5bef38be",
   "metadata": {
    "deletable": false,
    "nbgrader": {
     "cell_type": "markdown",
     "checksum": "e56e49330e1d114fdac1ad312f90feed",
     "grade": true,
     "grade_id": "vwa",
     "locked": false,
     "points": 1,
     "schema_version": 3,
     "solution": true
    }
   },
   "source": [
    "YOUR ANSWER HERE"
   ]
  },
  {
   "cell_type": "markdown",
   "id": "35de9129",
   "metadata": {
    "deletable": false,
    "editable": false,
    "nbgrader": {
     "cell_type": "markdown",
     "checksum": "6037eb4556e456eb1df4a969b05c861b",
     "grade": false,
     "grade_id": "cell-820a1a4af2bdc91c",
     "locked": true,
     "schema_version": 3,
     "solution": false,
     "task": false
    }
   },
   "source": [
    "<a id=\"eval1\" />"
   ]
  },
  {
   "cell_type": "markdown",
   "id": "8a96879c",
   "metadata": {
    "deletable": false,
    "editable": false,
    "nbgrader": {
     "cell_type": "markdown",
     "checksum": "7ac8cb7975696759736ef6d1cbbb0a55",
     "grade": false,
     "grade_id": "q1q",
     "locked": true,
     "schema_version": 3,
     "solution": false
    }
   },
   "source": [
    "# Evaluating a model\n",
    "\n",
    "In this exercise we will be creating a complete ML pipeline where we load in a dataset, prepare it for classification by splitting it in train and test, run a classifier, and evaluate the results of this classifier.\n",
    "\n",
    "We start by loading in the dataset, this code is already given for you.\n"
   ]
  },
  {
   "cell_type": "code",
   "execution_count": 223,
   "id": "7d001add",
   "metadata": {
    "deletable": false,
    "editable": false,
    "nbgrader": {
     "cell_type": "code",
     "checksum": "eed72d774f347dd8d089c635bdabfdf0",
     "grade": false,
     "grade_id": "data",
     "locked": true,
     "schema_version": 3,
     "solution": false
    }
   },
   "outputs": [
    {
     "name": "stdout",
     "output_type": "stream",
     "text": [
      "(1941, 34)\n"
     ]
    },
    {
     "data": {
      "text/html": [
       "<div>\n",
       "<style scoped>\n",
       "    .dataframe tbody tr th:only-of-type {\n",
       "        vertical-align: middle;\n",
       "    }\n",
       "\n",
       "    .dataframe tbody tr th {\n",
       "        vertical-align: top;\n",
       "    }\n",
       "\n",
       "    .dataframe thead th {\n",
       "        text-align: right;\n",
       "    }\n",
       "</style>\n",
       "<table border=\"1\" class=\"dataframe\">\n",
       "  <thead>\n",
       "    <tr style=\"text-align: right;\">\n",
       "      <th></th>\n",
       "      <th>X_Minimum</th>\n",
       "      <th>X_Maximum</th>\n",
       "      <th>Y_Minimum</th>\n",
       "      <th>Y_Maximum</th>\n",
       "      <th>Pixels_Areas</th>\n",
       "      <th>X_Perimeter</th>\n",
       "      <th>Y_Perimeter</th>\n",
       "      <th>Sum_of_Luminosity</th>\n",
       "      <th>Minimum_of_Luminosity</th>\n",
       "      <th>Maximum_of_Luminosity</th>\n",
       "      <th>...</th>\n",
       "      <th>Orientation_Index</th>\n",
       "      <th>Luminosity_Index</th>\n",
       "      <th>SigmoidOfAreas</th>\n",
       "      <th>Pastry</th>\n",
       "      <th>Z_Scratch</th>\n",
       "      <th>K_Scatch</th>\n",
       "      <th>Stains</th>\n",
       "      <th>Dirtiness</th>\n",
       "      <th>Bumps</th>\n",
       "      <th>Other_Faults</th>\n",
       "    </tr>\n",
       "  </thead>\n",
       "  <tbody>\n",
       "    <tr>\n",
       "      <th>0</th>\n",
       "      <td>42</td>\n",
       "      <td>50</td>\n",
       "      <td>270900</td>\n",
       "      <td>270944</td>\n",
       "      <td>267</td>\n",
       "      <td>17</td>\n",
       "      <td>44</td>\n",
       "      <td>24220</td>\n",
       "      <td>76</td>\n",
       "      <td>108</td>\n",
       "      <td>...</td>\n",
       "      <td>0.8182</td>\n",
       "      <td>-0.2913</td>\n",
       "      <td>0.5822</td>\n",
       "      <td>1</td>\n",
       "      <td>0</td>\n",
       "      <td>0</td>\n",
       "      <td>0</td>\n",
       "      <td>0</td>\n",
       "      <td>0</td>\n",
       "      <td>0</td>\n",
       "    </tr>\n",
       "    <tr>\n",
       "      <th>1</th>\n",
       "      <td>645</td>\n",
       "      <td>651</td>\n",
       "      <td>2538079</td>\n",
       "      <td>2538108</td>\n",
       "      <td>108</td>\n",
       "      <td>10</td>\n",
       "      <td>30</td>\n",
       "      <td>11397</td>\n",
       "      <td>84</td>\n",
       "      <td>123</td>\n",
       "      <td>...</td>\n",
       "      <td>0.7931</td>\n",
       "      <td>-0.1756</td>\n",
       "      <td>0.2984</td>\n",
       "      <td>1</td>\n",
       "      <td>0</td>\n",
       "      <td>0</td>\n",
       "      <td>0</td>\n",
       "      <td>0</td>\n",
       "      <td>0</td>\n",
       "      <td>0</td>\n",
       "    </tr>\n",
       "    <tr>\n",
       "      <th>2</th>\n",
       "      <td>829</td>\n",
       "      <td>835</td>\n",
       "      <td>1553913</td>\n",
       "      <td>1553931</td>\n",
       "      <td>71</td>\n",
       "      <td>8</td>\n",
       "      <td>19</td>\n",
       "      <td>7972</td>\n",
       "      <td>99</td>\n",
       "      <td>125</td>\n",
       "      <td>...</td>\n",
       "      <td>0.6667</td>\n",
       "      <td>-0.1228</td>\n",
       "      <td>0.2150</td>\n",
       "      <td>1</td>\n",
       "      <td>0</td>\n",
       "      <td>0</td>\n",
       "      <td>0</td>\n",
       "      <td>0</td>\n",
       "      <td>0</td>\n",
       "      <td>0</td>\n",
       "    </tr>\n",
       "    <tr>\n",
       "      <th>3</th>\n",
       "      <td>853</td>\n",
       "      <td>860</td>\n",
       "      <td>369370</td>\n",
       "      <td>369415</td>\n",
       "      <td>176</td>\n",
       "      <td>13</td>\n",
       "      <td>45</td>\n",
       "      <td>18996</td>\n",
       "      <td>99</td>\n",
       "      <td>126</td>\n",
       "      <td>...</td>\n",
       "      <td>0.8444</td>\n",
       "      <td>-0.1568</td>\n",
       "      <td>0.5212</td>\n",
       "      <td>1</td>\n",
       "      <td>0</td>\n",
       "      <td>0</td>\n",
       "      <td>0</td>\n",
       "      <td>0</td>\n",
       "      <td>0</td>\n",
       "      <td>0</td>\n",
       "    </tr>\n",
       "    <tr>\n",
       "      <th>4</th>\n",
       "      <td>1289</td>\n",
       "      <td>1306</td>\n",
       "      <td>498078</td>\n",
       "      <td>498335</td>\n",
       "      <td>2409</td>\n",
       "      <td>60</td>\n",
       "      <td>260</td>\n",
       "      <td>246930</td>\n",
       "      <td>37</td>\n",
       "      <td>126</td>\n",
       "      <td>...</td>\n",
       "      <td>0.9338</td>\n",
       "      <td>-0.1992</td>\n",
       "      <td>1.0000</td>\n",
       "      <td>1</td>\n",
       "      <td>0</td>\n",
       "      <td>0</td>\n",
       "      <td>0</td>\n",
       "      <td>0</td>\n",
       "      <td>0</td>\n",
       "      <td>0</td>\n",
       "    </tr>\n",
       "  </tbody>\n",
       "</table>\n",
       "<p>5 rows × 34 columns</p>\n",
       "</div>"
      ],
      "text/plain": [
       "   X_Minimum  X_Maximum  Y_Minimum  Y_Maximum  Pixels_Areas  X_Perimeter  \\\n",
       "0         42         50     270900     270944           267           17   \n",
       "1        645        651    2538079    2538108           108           10   \n",
       "2        829        835    1553913    1553931            71            8   \n",
       "3        853        860     369370     369415           176           13   \n",
       "4       1289       1306     498078     498335          2409           60   \n",
       "\n",
       "   Y_Perimeter  Sum_of_Luminosity  Minimum_of_Luminosity  \\\n",
       "0           44              24220                     76   \n",
       "1           30              11397                     84   \n",
       "2           19               7972                     99   \n",
       "3           45              18996                     99   \n",
       "4          260             246930                     37   \n",
       "\n",
       "   Maximum_of_Luminosity  ...  Orientation_Index  Luminosity_Index  \\\n",
       "0                    108  ...             0.8182           -0.2913   \n",
       "1                    123  ...             0.7931           -0.1756   \n",
       "2                    125  ...             0.6667           -0.1228   \n",
       "3                    126  ...             0.8444           -0.1568   \n",
       "4                    126  ...             0.9338           -0.1992   \n",
       "\n",
       "   SigmoidOfAreas  Pastry  Z_Scratch  K_Scatch  Stains  Dirtiness  Bumps  \\\n",
       "0          0.5822       1          0         0       0          0      0   \n",
       "1          0.2984       1          0         0       0          0      0   \n",
       "2          0.2150       1          0         0       0          0      0   \n",
       "3          0.5212       1          0         0       0          0      0   \n",
       "4          1.0000       1          0         0       0          0      0   \n",
       "\n",
       "   Other_Faults  \n",
       "0             0  \n",
       "1             0  \n",
       "2             0  \n",
       "3             0  \n",
       "4             0  \n",
       "\n",
       "[5 rows x 34 columns]"
      ]
     },
     "execution_count": 223,
     "metadata": {},
     "output_type": "execute_result"
    }
   ],
   "source": [
    "def loadfile():\n",
    "    if 'faults.csv.gz' in os.listdir():\n",
    "        return 'faults.csv.gz'\n",
    "    elif os.path.exists('../../data/Week1/'):\n",
    "        return '../../data/Week3/faults.csv.gz'\n",
    "    elif os.path.exists('../../../data/Week1/'):\n",
    "        return '../../../data/Week3/faults.csv.gz'\n",
    "    \n",
    "df= pd.read_csv(loadfile())\n",
    "print(df.shape)\n",
    "df.head()"
   ]
  },
  {
   "cell_type": "markdown",
   "id": "75fb935e",
   "metadata": {
    "deletable": false,
    "editable": false,
    "nbgrader": {
     "cell_type": "markdown",
     "checksum": "9abc2cabdc834380f048c1602638a37d",
     "grade": false,
     "grade_id": "cell-1ef94baba8de2110",
     "locked": true,
     "schema_version": 3,
     "solution": false,
     "task": false
    }
   },
   "source": [
    "The above dataframe contains data about the faults of machines. It is a multiclass classification problem with 6 fault classes and a 7th \"other\" class. It has 27 explanatory variables. Let's make a piechart of the data so that we can get a bit of a feel for the data."
   ]
  },
  {
   "cell_type": "code",
   "execution_count": 224,
   "id": "1403afee",
   "metadata": {
    "deletable": false,
    "editable": false,
    "nbgrader": {
     "cell_type": "code",
     "checksum": "79e25c11a167e63d02d1260da483f642",
     "grade": false,
     "grade_id": "target",
     "locked": true,
     "schema_version": 3,
     "solution": false
    }
   },
   "outputs": [
    {
     "data": {
      "text/plain": [
       "Other_Faults    673\n",
       "Bumps           402\n",
       "K_Scatch        391\n",
       "Z_Scratch       190\n",
       "Pastry          158\n",
       "Stains           72\n",
       "Dirtiness        55\n",
       "dtype: int64"
      ]
     },
     "execution_count": 224,
     "metadata": {},
     "output_type": "execute_result"
    },
    {
     "data": {
      "image/png": "[encoded data removed]",
      "text/plain": [
       "<Figure size 432x288 with 1 Axes>"
      ]
     },
     "metadata": {},
     "output_type": "display_data"
    }
   ],
   "source": [
    "classes= ['Pastry', 'Z_Scratch', 'K_Scatch', 'Stains',\n",
    "       'Dirtiness', 'Bumps', 'Other_Faults']\n",
    "df[classes].sum().plot(kind='pie', title='Distribution of the classes among the 1941 instances.');\n",
    "df[classes].sum().sort_values(ascending=False)"
   ]
  },
  {
   "cell_type": "markdown",
   "id": "02116c7b",
   "metadata": {
    "deletable": false,
    "editable": false,
    "nbgrader": {
     "cell_type": "markdown",
     "checksum": "47fc154f0475689bbe2acf2fc1ea6c60",
     "grade": false,
     "grade_id": "cell-8f9ac0272b48d77e",
     "locked": true,
     "schema_version": 3,
     "solution": false,
     "task": false
    }
   },
   "source": [
    "Next up is actually running the experiment, which we are going to to in the steps provided below.\n",
    "\n",
    "### Start up\n",
    "1. Add a column `target` to `df` which contains the label names from the `classes` as values and a row has label `X` as value in that column iff `df[X]==1`. (maybe there is a `numpy` function you can use?)\n",
    "2. Drop the original columns of the labels from the dataframe. \n",
    "3. Do a stratified 70-30 data train test split. \n",
    "    * Indicate and check visually that the data is split stratified, so each class also has a 70-30 split.\n",
    "4. Create `y_pred` using KNN. You may want to normalize the data first.\n",
    "\n",
    "### Evaluate\n",
    "\n",
    "1. Create the confusion table based on `y_pred` and `y_test` from scratch, that is not using any `sklearn` functions. \n",
    "    2. Also show it nicely using `sns.heatmap`. \n",
    "2. Compute precision, recall and F1 for each label.\n",
    "3. Compute accuracy.\n",
    "4. Compute Macro, micro and weighted versions of precision, recall and F1.\n",
    "5. Create at least two non-learned rule based baseline predictions, compute evaluation metrics and put these together with the scores for your KNN model into a clear table."
   ]
  },
  {
   "cell_type": "markdown",
   "id": "e32dca98",
   "metadata": {
    "deletable": false,
    "editable": false,
    "nbgrader": {
     "cell_type": "markdown",
     "checksum": "94965af8a1994f30b42ad6d5c7210456",
     "grade": false,
     "grade_id": "cell-ae9a9e52704e94cd",
     "locked": true,
     "schema_version": 3,
     "solution": false,
     "task": false
    }
   },
   "source": [
    "### Starting up"
   ]
  },
  {
   "cell_type": "code",
   "execution_count": 262,
   "id": "e350ef54",
   "metadata": {
    "deletable": false,
    "nbgrader": {
     "cell_type": "code",
     "checksum": "0b7b603743a4dd9b4de236a7a36bf731",
     "grade": false,
     "grade_id": "q11",
     "locked": false,
     "schema_version": 3,
     "solution": true,
     "task": false
    },
    "tags": []
   },
   "outputs": [
    {
     "name": "stdout",
     "output_type": "stream",
     "text": [
      "{'Pastry': (array([  0,   1,   2,   3,   4,   5,   6,   7,   8,   9,  10,  11,  12,\n",
      "        13,  14,  15,  16,  17,  18,  19,  20,  21,  22,  23,  24,  25,\n",
      "        26,  27,  28,  29,  30,  31,  32,  33,  34,  35,  36,  37,  38,\n",
      "        39,  40,  41,  42,  43,  44,  45,  46,  47,  48,  49,  50,  51,\n",
      "        52,  53,  54,  55,  56,  57,  58,  59,  60,  61,  62,  63,  64,\n",
      "        65,  66,  67,  68,  69,  70,  71,  72,  73,  74,  75,  76,  77,\n",
      "        78,  79,  80,  81,  82,  83,  84,  85,  86,  87,  88,  89,  90,\n",
      "        91,  92,  93,  94,  95,  96,  97,  98,  99, 100, 101, 102, 103,\n",
      "       104, 105, 106, 107, 108, 109, 110, 111, 112, 113, 114, 115, 116,\n",
      "       117, 118, 119, 120, 121, 122, 123, 124, 125, 126, 127, 128, 129,\n",
      "       130, 131, 132, 133, 134, 135, 136, 137, 138, 139, 140, 141, 142,\n",
      "       143, 144, 145, 146, 147, 148, 149, 150, 151, 152, 153, 154, 155,\n",
      "       156, 157]),), 'Z_Scratch': (array([158, 159, 160, 161, 162, 163, 164, 165, 166, 167, 168, 169, 170,\n",
      "       171, 172, 173, 174, 175, 176, 177, 178, 179, 180, 181, 182, 183,\n",
      "       184, 185, 186, 187, 188, 189, 190, 191, 192, 193, 194, 195, 196,\n",
      "       197, 198, 199, 200, 201, 202, 203, 204, 205, 206, 207, 208, 209,\n",
      "       210, 211, 212, 213, 214, 215, 216, 217, 218, 219, 220, 221, 222,\n",
      "       223, 224, 225, 226, 227, 228, 229, 230, 231, 232, 233, 234, 235,\n",
      "       236, 237, 238, 239, 240, 241, 242, 243, 244, 245, 246, 247, 248,\n",
      "       249, 250, 251, 252, 253, 254, 255, 256, 257, 258, 259, 260, 261,\n",
      "       262, 263, 264, 265, 266, 267, 268, 269, 270, 271, 272, 273, 274,\n",
      "       275, 276, 277, 278, 279, 280, 281, 282, 283, 284, 285, 286, 287,\n",
      "       288, 289, 290, 291, 292, 293, 294, 295, 296, 297, 298, 299, 300,\n",
      "       301, 302, 303, 304, 305, 306, 307, 308, 309, 310, 311, 312, 313,\n",
      "       314, 315, 316, 317, 318, 319, 320, 321, 322, 323, 324, 325, 326,\n",
      "       327, 328, 329, 330, 331, 332, 333, 334, 335, 336, 337, 338, 339,\n",
      "       340, 341, 342, 343, 344, 345, 346, 347]),), 'K_Scatch': (array([348, 349, 350, 351, 352, 353, 354, 355, 356, 357, 358, 359, 360,\n",
      "       361, 362, 363, 364, 365, 366, 367, 368, 369, 370, 371, 372, 373,\n",
      "       374, 375, 376, 377, 378, 379, 380, 381, 382, 383, 384, 385, 386,\n",
      "       387, 388, 389, 390, 391, 392, 393, 394, 395, 396, 397, 398, 399,\n",
      "       400, 401, 402, 403, 404, 405, 406, 407, 408, 409, 410, 411, 412,\n",
      "       413, 414, 415, 416, 417, 418, 419, 420, 421, 422, 423, 424, 425,\n",
      "       426, 427, 428, 429, 430, 431, 432, 433, 434, 435, 436, 437, 438,\n",
      "       439, 440, 441, 442, 443, 444, 445, 446, 447, 448, 449, 450, 451,\n",
      "       452, 453, 454, 455, 456, 457, 458, 459, 460, 461, 462, 463, 464,\n",
      "       465, 466, 467, 468, 469, 470, 471, 472, 473, 474, 475, 476, 477,\n",
      "       478, 479, 480, 481, 482, 483, 484, 485, 486, 487, 488, 489, 490,\n",
      "       491, 492, 493, 494, 495, 496, 497, 498, 499, 500, 501, 502, 503,\n",
      "       504, 505, 506, 507, 508, 509, 510, 511, 512, 513, 514, 515, 516,\n",
      "       517, 518, 519, 520, 521, 522, 523, 524, 525, 526, 527, 528, 529,\n",
      "       530, 531, 532, 533, 534, 535, 536, 537, 538, 539, 540, 541, 542,\n",
      "       543, 544, 545, 546, 547, 548, 549, 550, 551, 552, 553, 554, 555,\n",
      "       556, 557, 558, 559, 560, 561, 562, 563, 564, 565, 566, 567, 568,\n",
      "       569, 570, 571, 572, 573, 574, 575, 576, 577, 578, 579, 580, 581,\n",
      "       582, 583, 584, 585, 586, 587, 588, 589, 590, 591, 592, 593, 594,\n",
      "       595, 596, 597, 598, 599, 600, 601, 602, 603, 604, 605, 606, 607,\n",
      "       608, 609, 610, 611, 612, 613, 614, 615, 616, 617, 618, 619, 620,\n",
      "       621, 622, 623, 624, 625, 626, 627, 628, 629, 630, 631, 632, 633,\n",
      "       634, 635, 636, 637, 638, 639, 640, 641, 642, 643, 644, 645, 646,\n",
      "       647, 648, 649, 650, 651, 652, 653, 654, 655, 656, 657, 658, 659,\n",
      "       660, 661, 662, 663, 664, 665, 666, 667, 668, 669, 670, 671, 672,\n",
      "       673, 674, 675, 676, 677, 678, 679, 680, 681, 682, 683, 684, 685,\n",
      "       686, 687, 688, 689, 690, 691, 692, 693, 694, 695, 696, 697, 698,\n",
      "       699, 700, 701, 702, 703, 704, 705, 706, 707, 708, 709, 710, 711,\n",
      "       712, 713, 714, 715, 716, 717, 718, 719, 720, 721, 722, 723, 724,\n",
      "       725, 726, 727, 728, 729, 730, 731, 732, 733, 734, 735, 736, 737,\n",
      "       738]),), 'Stains': (array([739, 740, 741, 742, 743, 744, 745, 746, 747, 748, 749, 750, 751,\n",
      "       752, 753, 754, 755, 756, 757, 758, 759, 760, 761, 762, 763, 764,\n",
      "       765, 766, 767, 768, 769, 770, 771, 772, 773, 774, 775, 776, 777,\n",
      "       778, 779, 780, 781, 782, 783, 784, 785, 786, 787, 788, 789, 790,\n",
      "       791, 792, 793, 794, 795, 796, 797, 798, 799, 800, 801, 802, 803,\n",
      "       804, 805, 806, 807, 808, 809, 810]),), 'Dirtiness': (array([811, 812, 813, 814, 815, 816, 817, 818, 819, 820, 821, 822, 823,\n",
      "       824, 825, 826, 827, 828, 829, 830, 831, 832, 833, 834, 835, 836,\n",
      "       837, 838, 839, 840, 841, 842, 843, 844, 845, 846, 847, 848, 849,\n",
      "       850, 851, 852, 853, 854, 855, 856, 857, 858, 859, 860, 861, 862,\n",
      "       863, 864, 865]),), 'Bumps': (array([ 866,  867,  868,  869,  870,  871,  872,  873,  874,  875,  876,\n",
      "        877,  878,  879,  880,  881,  882,  883,  884,  885,  886,  887,\n",
      "        888,  889,  890,  891,  892,  893,  894,  895,  896,  897,  898,\n",
      "        899,  900,  901,  902,  903,  904,  905,  906,  907,  908,  909,\n",
      "        910,  911,  912,  913,  914,  915,  916,  917,  918,  919,  920,\n",
      "        921,  922,  923,  924,  925,  926,  927,  928,  929,  930,  931,\n",
      "        932,  933,  934,  935,  936,  937,  938,  939,  940,  941,  942,\n",
      "        943,  944,  945,  946,  947,  948,  949,  950,  951,  952,  953,\n",
      "        954,  955,  956,  957,  958,  959,  960,  961,  962,  963,  964,\n",
      "        965,  966,  967,  968,  969,  970,  971,  972,  973,  974,  975,\n",
      "        976,  977,  978,  979,  980,  981,  982,  983,  984,  985,  986,\n",
      "        987,  988,  989,  990,  991,  992,  993,  994,  995,  996,  997,\n",
      "        998,  999, 1000, 1001, 1002, 1003, 1004, 1005, 1006, 1007, 1008,\n",
      "       1009, 1010, 1011, 1012, 1013, 1014, 1015, 1016, 1017, 1018, 1019,\n",
      "       1020, 1021, 1022, 1023, 1024, 1025, 1026, 1027, 1028, 1029, 1030,\n",
      "       1031, 1032, 1033, 1034, 1035, 1036, 1037, 1038, 1039, 1040, 1041,\n",
      "       1042, 1043, 1044, 1045, 1046, 1047, 1048, 1049, 1050, 1051, 1052,\n",
      "       1053, 1054, 1055, 1056, 1057, 1058, 1059, 1060, 1061, 1062, 1063,\n",
      "       1064, 1065, 1066, 1067, 1068, 1069, 1070, 1071, 1072, 1073, 1074,\n",
      "       1075, 1076, 1077, 1078, 1079, 1080, 1081, 1082, 1083, 1084, 1085,\n",
      "       1086, 1087, 1088, 1089, 1090, 1091, 1092, 1093, 1094, 1095, 1096,\n",
      "       1097, 1098, 1099, 1100, 1101, 1102, 1103, 1104, 1105, 1106, 1107,\n",
      "       1108, 1109, 1110, 1111, 1112, 1113, 1114, 1115, 1116, 1117, 1118,\n",
      "       1119, 1120, 1121, 1122, 1123, 1124, 1125, 1126, 1127, 1128, 1129,\n",
      "       1130, 1131, 1132, 1133, 1134, 1135, 1136, 1137, 1138, 1139, 1140,\n",
      "       1141, 1142, 1143, 1144, 1145, 1146, 1147, 1148, 1149, 1150, 1151,\n",
      "       1152, 1153, 1154, 1155, 1156, 1157, 1158, 1159, 1160, 1161, 1162,\n",
      "       1163, 1164, 1165, 1166, 1167, 1168, 1169, 1170, 1171, 1172, 1173,\n",
      "       1174, 1175, 1176, 1177, 1178, 1179, 1180, 1181, 1182, 1183, 1184,\n",
      "       1185, 1186, 1187, 1188, 1189, 1190, 1191, 1192, 1193, 1194, 1195,\n",
      "       1196, 1197, 1198, 1199, 1200, 1201, 1202, 1203, 1204, 1205, 1206,\n",
      "       1207, 1208, 1209, 1210, 1211, 1212, 1213, 1214, 1215, 1216, 1217,\n",
      "       1218, 1219, 1220, 1221, 1222, 1223, 1224, 1225, 1226, 1227, 1228,\n",
      "       1229, 1230, 1231, 1232, 1233, 1234, 1235, 1236, 1237, 1238, 1239,\n",
      "       1240, 1241, 1242, 1243, 1244, 1245, 1246, 1247, 1248, 1249, 1250,\n",
      "       1251, 1252, 1253, 1254, 1255, 1256, 1257, 1258, 1259, 1260, 1261,\n",
      "       1262, 1263, 1264, 1265, 1266, 1267]),), 'Other_Faults': (array([1268, 1269, 1270, 1271, 1272, 1273, 1274, 1275, 1276, 1277, 1278,\n",
      "       1279, 1280, 1281, 1282, 1283, 1284, 1285, 1286, 1287, 1288, 1289,\n",
      "       1290, 1291, 1292, 1293, 1294, 1295, 1296, 1297, 1298, 1299, 1300,\n",
      "       1301, 1302, 1303, 1304, 1305, 1306, 1307, 1308, 1309, 1310, 1311,\n",
      "       1312, 1313, 1314, 1315, 1316, 1317, 1318, 1319, 1320, 1321, 1322,\n",
      "       1323, 1324, 1325, 1326, 1327, 1328, 1329, 1330, 1331, 1332, 1333,\n",
      "       1334, 1335, 1336, 1337, 1338, 1339, 1340, 1341, 1342, 1343, 1344,\n",
      "       1345, 1346, 1347, 1348, 1349, 1350, 1351, 1352, 1353, 1354, 1355,\n",
      "       1356, 1357, 1358, 1359, 1360, 1361, 1362, 1363, 1364, 1365, 1366,\n",
      "       1367, 1368, 1369, 1370, 1371, 1372, 1373, 1374, 1375, 1376, 1377,\n",
      "       1378, 1379, 1380, 1381, 1382, 1383, 1384, 1385, 1386, 1387, 1388,\n",
      "       1389, 1390, 1391, 1392, 1393, 1394, 1395, 1396, 1397, 1398, 1399,\n",
      "       1400, 1401, 1402, 1403, 1404, 1405, 1406, 1407, 1408, 1409, 1410,\n",
      "       1411, 1412, 1413, 1414, 1415, 1416, 1417, 1418, 1419, 1420, 1421,\n",
      "       1422, 1423, 1424, 1425, 1426, 1427, 1428, 1429, 1430, 1431, 1432,\n",
      "       1433, 1434, 1435, 1436, 1437, 1438, 1439, 1440, 1441, 1442, 1443,\n",
      "       1444, 1445, 1446, 1447, 1448, 1449, 1450, 1451, 1452, 1453, 1454,\n",
      "       1455, 1456, 1457, 1458, 1459, 1460, 1461, 1462, 1463, 1464, 1465,\n",
      "       1466, 1467, 1468, 1469, 1470, 1471, 1472, 1473, 1474, 1475, 1476,\n",
      "       1477, 1478, 1479, 1480, 1481, 1482, 1483, 1484, 1485, 1486, 1487,\n",
      "       1488, 1489, 1490, 1491, 1492, 1493, 1494, 1495, 1496, 1497, 1498,\n",
      "       1499, 1500, 1501, 1502, 1503, 1504, 1505, 1506, 1507, 1508, 1509,\n",
      "       1510, 1511, 1512, 1513, 1514, 1515, 1516, 1517, 1518, 1519, 1520,\n",
      "       1521, 1522, 1523, 1524, 1525, 1526, 1527, 1528, 1529, 1530, 1531,\n",
      "       1532, 1533, 1534, 1535, 1536, 1537, 1538, 1539, 1540, 1541, 1542,\n",
      "       1543, 1544, 1545, 1546, 1547, 1548, 1549, 1550, 1551, 1552, 1553,\n",
      "       1554, 1555, 1556, 1557, 1558, 1559, 1560, 1561, 1562, 1563, 1564,\n",
      "       1565, 1566, 1567, 1568, 1569, 1570, 1571, 1572, 1573, 1574, 1575,\n",
      "       1576, 1577, 1578, 1579, 1580, 1581, 1582, 1583, 1584, 1585, 1586,\n",
      "       1587, 1588, 1589, 1590, 1591, 1592, 1593, 1594, 1595, 1596, 1597,\n",
      "       1598, 1599, 1600, 1601, 1602, 1603, 1604, 1605, 1606, 1607, 1608,\n",
      "       1609, 1610, 1611, 1612, 1613, 1614, 1615, 1616, 1617, 1618, 1619,\n",
      "       1620, 1621, 1622, 1623, 1624, 1625, 1626, 1627, 1628, 1629, 1630,\n",
      "       1631, 1632, 1633, 1634, 1635, 1636, 1637, 1638, 1639, 1640, 1641,\n",
      "       1642, 1643, 1644, 1645, 1646, 1647, 1648, 1649, 1650, 1651, 1652,\n",
      "       1653, 1654, 1655, 1656, 1657, 1658, 1659, 1660, 1661, 1662, 1663,\n",
      "       1664, 1665, 1666, 1667, 1668, 1669, 1670, 1671, 1672, 1673, 1674,\n",
      "       1675, 1676, 1677, 1678, 1679, 1680, 1681, 1682, 1683, 1684, 1685,\n",
      "       1686, 1687, 1688, 1689, 1690, 1691, 1692, 1693, 1694, 1695, 1696,\n",
      "       1697, 1698, 1699, 1700, 1701, 1702, 1703, 1704, 1705, 1706, 1707,\n",
      "       1708, 1709, 1710, 1711, 1712, 1713, 1714, 1715, 1716, 1717, 1718,\n",
      "       1719, 1720, 1721, 1722, 1723, 1724, 1725, 1726, 1727, 1728, 1729,\n",
      "       1730, 1731, 1732, 1733, 1734, 1735, 1736, 1737, 1738, 1739, 1740,\n",
      "       1741, 1742, 1743, 1744, 1745, 1746, 1747, 1748, 1749, 1750, 1751,\n",
      "       1752, 1753, 1754, 1755, 1756, 1757, 1758, 1759, 1760, 1761, 1762,\n",
      "       1763, 1764, 1765, 1766, 1767, 1768, 1769, 1770, 1771, 1772, 1773,\n",
      "       1774, 1775, 1776, 1777, 1778, 1779, 1780, 1781, 1782, 1783, 1784,\n",
      "       1785, 1786, 1787, 1788, 1789, 1790, 1791, 1792, 1793, 1794, 1795,\n",
      "       1796, 1797, 1798, 1799, 1800, 1801, 1802, 1803, 1804, 1805, 1806,\n",
      "       1807, 1808, 1809, 1810, 1811, 1812, 1813, 1814, 1815, 1816, 1817,\n",
      "       1818, 1819, 1820, 1821, 1822, 1823, 1824, 1825, 1826, 1827, 1828,\n",
      "       1829, 1830, 1831, 1832, 1833, 1834, 1835, 1836, 1837, 1838, 1839,\n",
      "       1840, 1841, 1842, 1843, 1844, 1845, 1846, 1847, 1848, 1849, 1850,\n",
      "       1851, 1852, 1853, 1854, 1855, 1856, 1857, 1858, 1859, 1860, 1861,\n",
      "       1862, 1863, 1864, 1865, 1866, 1867, 1868, 1869, 1870, 1871, 1872,\n",
      "       1873, 1874, 1875, 1876, 1877, 1878, 1879, 1880, 1881, 1882, 1883,\n",
      "       1884, 1885, 1886, 1887, 1888, 1889, 1890, 1891, 1892, 1893, 1894,\n",
      "       1895, 1896, 1897, 1898, 1899, 1900, 1901, 1902, 1903, 1904, 1905,\n",
      "       1906, 1907, 1908, 1909, 1910, 1911, 1912, 1913, 1914, 1915, 1916,\n",
      "       1917, 1918, 1919, 1920, 1921, 1922, 1923, 1924, 1925, 1926, 1927,\n",
      "       1928, 1929, 1930, 1931, 1932, 1933, 1934, 1935, 1936, 1937, 1938,\n",
      "       1939, 1940]),)}\n"
     ]
    },
    {
     "name": "stderr",
     "output_type": "stream",
     "text": [
      "/var/folders/5x/kl0ttwmn26v7_2rdrw520mwc0000gn/T/ipykernel_76390/2346781355.py:21: SettingWithCopyWarning: \n",
      "A value is trying to be set on a copy of a slice from a DataFrame\n",
      "\n",
      "See the caveats in the documentation: https://pandas.pydata.org/pandas-docs/stable/user_guide/indexing.html#returning-a-view-versus-a-copy\n",
      "  new_df['target'][y] = i\n"
     ]
    },
    {
     "data": {
      "text/plain": [
       "6    673\n",
       "5    402\n",
       "2    391\n",
       "1    190\n",
       "0    158\n",
       "3     72\n",
       "4     55\n",
       "Name: target, dtype: int64"
      ]
     },
     "execution_count": 262,
     "metadata": {},
     "output_type": "execute_result"
    },
    {
     "data": {
      "image/png": "[encoded data removed]",
      "text/plain": [
       "<Figure size 432x288 with 1 Axes>"
      ]
     },
     "metadata": {},
     "output_type": "display_data"
    }
   ],
   "source": [
    "# start by adding the new column\n",
    "\n",
    "# Fill in the right code in the line below\n",
    "df['target'] = None\n",
    "new_df = df.drop(classes, axis=1)\n",
    "# after adding the column, make matrices of the data for easy use\n",
    "\n",
    "#WRITE YOUR CODE HERE\n",
    "\n",
    "# temp = {klas: df[klas] for _ in df for klas in classes}\n",
    "\n",
    "new_df =df.drop(classes, axis=1)\n",
    "\n",
    "index = {x:np.where(df[x] == 1) for x in classes}\n",
    "\n",
    "print(index)\n",
    "\n",
    "i = 0\n",
    "for x in index:\n",
    "    for y in index[x]:\n",
    "        new_df['target'][y] = i\n",
    "    i += 1\n",
    "new_df['target'] = new_df['target'].astype(int)\n",
    "\n",
    "faults_X, faults_y = np.array(new_df.iloc[:, :-1]), np.array(new_df['target'])\n",
    "\n",
    "T=pd.Series(new_df.target).value_counts()\n",
    "T.plot(kind='pie', title='Distribution of the classes among the 1941 instances.');\n",
    "T"
   ]
  },
  {
   "cell_type": "code",
   "execution_count": 263,
   "id": "d91fb65b-68fe-4fda-a6c8-dd5ac7627684",
   "metadata": {
    "deletable": false,
    "editable": false,
    "nbgrader": {
     "cell_type": "code",
     "checksum": "0b6463822633230ab8df31a80a199c16",
     "grade": true,
     "grade_id": "cell-f72efeebd7e10d21",
     "locked": true,
     "points": 1,
     "schema_version": 3,
     "solution": false,
     "task": false
    },
    "tags": []
   },
   "outputs": [],
   "source": [
    "assert_equal(new_df['target'].min(), 0)\n",
    "assert_equal(new_df['target'].max(), 6)"
   ]
  },
  {
   "cell_type": "markdown",
   "id": "fae6abe6",
   "metadata": {
    "deletable": false,
    "editable": false,
    "nbgrader": {
     "cell_type": "markdown",
     "checksum": "06cac6ed1b6c634622b06780418b4f76",
     "grade": false,
     "grade_id": "cell-3e77154f87be49cc",
     "locked": true,
     "schema_version": 3,
     "solution": false,
     "task": false
    }
   },
   "source": [
    "Now that we have added the target column to the data we can create the train test split of the data, you may use `sklearn` for this."
   ]
  },
  {
   "cell_type": "code",
   "execution_count": 264,
   "id": "cfb3f10d",
   "metadata": {
    "deletable": false,
    "nbgrader": {
     "cell_type": "code",
     "checksum": "ea26f38b8fc1d6038d7062745cd12c9a",
     "grade": false,
     "grade_id": "q12",
     "locked": false,
     "schema_version": 3,
     "solution": true,
     "task": false
    },
    "tags": []
   },
   "outputs": [],
   "source": [
    "# start up split\n",
    "from sklearn.model_selection import train_test_split\n",
    "train_X, test_X, train_y, test_y = train_test_split(new_df.drop('target', axis=1), new_df['target'], test_size=0.3, train_size= 0.7, random_state=0, stratify=new_df['target'])\n"
   ]
  },
  {
   "cell_type": "code",
   "execution_count": 265,
   "id": "a6f65b68-40b3-4d99-a89e-a8c0e6afee70",
   "metadata": {
    "deletable": false,
    "editable": false,
    "nbgrader": {
     "cell_type": "code",
     "checksum": "cf5ef466a65b893209375461ee9b08b6",
     "grade": true,
     "grade_id": "cell-be05b35e89687da6",
     "locked": true,
     "points": 1,
     "schema_version": 3,
     "solution": false,
     "task": false
    }
   },
   "outputs": [
    {
     "name": "stdout",
     "output_type": "stream",
     "text": [
      "Distribution of labels in the train set\n",
      "6    0.346834\n",
      "5    0.206922\n",
      "2    0.201767\n",
      "1    0.097938\n",
      "0    0.081738\n",
      "3    0.036819\n",
      "4    0.027982\n",
      "Name: target, dtype: float64\n",
      "\n",
      "Distribution of labels in the test set\n",
      "6    0.346484\n",
      "5    0.207547\n",
      "2    0.200686\n",
      "1    0.097770\n",
      "0    0.080617\n",
      "3    0.037736\n",
      "4    0.029160\n",
      "Name: target, dtype: float64\n"
     ]
    }
   ],
   "source": [
    "# run the following print statements, if the proportions are similar\n",
    "# it means that stratification is working correctly\n",
    "\n",
    "print(\"Distribution of labels in the train set\")\n",
    "print(pd.Series(train_y).value_counts(normalize=True))\n",
    "print()\n",
    "print(\"Distribution of labels in the test set\")\n",
    "print(pd.Series(test_y).value_counts(normalize=True))\n"
   ]
  },
  {
   "cell_type": "code",
   "execution_count": 266,
   "id": "b04e5b28",
   "metadata": {},
   "outputs": [],
   "source": [
    "train_X=(train_X-train_X.mean())/train_X.std()\n",
    "test_X=(test_X-test_X.mean())/test_X.std()\n",
    "\n"
   ]
  },
  {
   "cell_type": "markdown",
   "id": "94f7bf97",
   "metadata": {
    "deletable": false,
    "editable": false,
    "nbgrader": {
     "cell_type": "markdown",
     "checksum": "0de28c49d9d3e963d475daafa4e98573",
     "grade": false,
     "grade_id": "cell-d8e74da0bb9a5c47",
     "locked": true,
     "schema_version": 3,
     "solution": false,
     "task": false
    }
   },
   "source": [
    "Next up is running the K Nearest Neighbours algorithm on the data, complete the function below, where you are allowed to use the sklearn function `KNeighborsClassifier`, we do this in a fucntion so that we can experiment with parameters later if we want to."
   ]
  },
  {
   "cell_type": "code",
   "execution_count": 267,
   "id": "cc6285ae",
   "metadata": {
    "deletable": false,
    "nbgrader": {
     "cell_type": "code",
     "checksum": "b7f06b98fb738ccce85cd48c829552fa",
     "grade": false,
     "grade_id": "q13",
     "locked": false,
     "schema_version": 3,
     "solution": true,
     "task": false
    },
    "tags": []
   },
   "outputs": [
    {
     "data": {
      "text/plain": [
       "array([0, 1, 0, 5, 2, 6, 5, 2, 2, 2, 3, 5, 2, 6, 0, 4, 2, 6, 1, 3, 1, 1,\n",
       "       2, 4, 6, 5, 2, 2, 5, 2, 6, 2, 6, 5, 4, 5, 0, 6, 6, 6, 4, 2, 0, 6,\n",
       "       0, 5, 5, 2, 5, 2, 6, 5, 6, 3, 6, 6, 6, 2, 6, 6, 6, 5, 6, 6, 2, 2,\n",
       "       1, 0, 6, 6, 1, 0, 6, 5, 5, 5, 6, 6, 2, 6, 5, 6, 6, 2, 0, 5, 2, 2,\n",
       "       0, 6, 5, 5, 6, 6, 5, 2, 0, 2, 1, 6, 5, 6, 6, 5, 5, 6, 6, 5, 5, 2,\n",
       "       3, 6, 2, 1, 0, 6, 6, 0, 5, 6, 5, 6, 2, 6, 5, 6, 5, 5, 6, 5, 3, 6,\n",
       "       2, 2, 6, 1, 5, 6, 5, 5, 6, 5, 1, 6, 1, 5, 1, 6, 5, 5, 6, 6, 4, 1,\n",
       "       2, 1, 1, 6, 5, 0, 1, 0, 2, 1, 6, 6, 2, 2, 1, 1, 2, 1, 1, 6, 2, 6,\n",
       "       6, 1, 5, 1, 2, 6, 2, 5, 0, 6, 5, 6, 5, 1, 6, 5, 6, 6, 1, 2, 5, 1,\n",
       "       2, 6, 1, 1, 6, 2, 5, 6, 5, 0, 5, 4, 2, 2, 2, 2, 5, 6, 6, 0, 3, 2,\n",
       "       5, 5, 6, 4, 2, 6, 6, 1, 6, 5, 5, 6, 6, 1, 2, 4, 6, 5, 5, 6, 6, 2,\n",
       "       6, 6, 5, 3, 5, 4, 6, 6, 5, 5, 6, 6, 6, 1, 6, 4, 2, 6, 0, 6, 6, 6,\n",
       "       6, 1, 2, 0, 3, 6, 5, 5, 6, 6, 0, 3, 5, 2, 5, 5, 2, 1, 5, 6, 5, 2,\n",
       "       2, 2, 6, 5, 2, 6, 2, 6, 6, 5, 5, 6, 5, 6, 4, 3, 6, 2, 6, 6, 6, 1,\n",
       "       2, 5, 5, 5, 6, 6, 1, 0, 6, 5, 6, 1, 1, 1, 5, 3, 5, 5, 2, 1, 0, 0,\n",
       "       6, 2, 6, 2, 6, 4, 4, 2, 0, 6, 5, 2, 2, 0, 2, 5, 5, 1, 6, 6, 5, 2,\n",
       "       2, 6, 1, 5, 6, 5, 2, 1, 6, 5, 3, 5, 6, 6, 2, 6, 1, 6, 5, 1, 5, 6,\n",
       "       2, 2, 2, 0, 0, 5, 6, 0, 5, 5, 1, 2, 2, 5, 1, 1, 0, 6, 6, 6, 5, 4,\n",
       "       6, 6, 2, 6, 6, 4, 5, 2, 2, 6, 5, 6, 5, 6, 4, 2, 1, 6, 6, 5, 3, 5,\n",
       "       2, 5, 2, 5, 6, 2, 6, 2, 6, 2, 6, 2, 2, 5, 6, 6, 2, 6, 6, 6, 5, 1,\n",
       "       2, 5, 5, 5, 2, 2, 5, 2, 5, 6, 6, 5, 6, 6, 5, 4, 1, 6, 0, 5, 6, 1,\n",
       "       5, 2, 2, 2, 6, 6, 5, 6, 5, 4, 6, 2, 5, 5, 1, 0, 1, 2, 6, 6, 5, 0,\n",
       "       6, 4, 6, 6, 6, 5, 6, 2, 3, 2, 3, 2, 5, 2, 2, 5, 6, 0, 0, 1, 5, 6,\n",
       "       6, 6, 6, 3, 2, 6, 0, 5, 0, 2, 0, 1, 1, 3, 2, 1, 2, 2, 6, 3, 0, 2,\n",
       "       5, 2, 3, 2, 5, 5, 3, 6, 1, 6, 6, 6, 6, 5, 6, 5, 1, 5, 5, 5, 5, 6,\n",
       "       1, 6, 2, 5, 1, 5, 6, 5, 6, 5, 2, 6, 4, 6, 6, 2, 5, 5, 2, 4, 6, 1,\n",
       "       5, 6, 6, 1, 1, 6, 5, 2, 5, 6, 4])"
      ]
     },
     "execution_count": 267,
     "metadata": {},
     "output_type": "execute_result"
    }
   ],
   "source": [
    "# start up knn and compute the predictions\n",
    "from sklearn.neighbors import KNeighborsClassifier\n",
    "\n",
    "def knn_predict(train_features, train_labels, test_features, num_neighbors=5):\n",
    "    y_pred = None\n",
    "\n",
    "    classifier = KNeighborsClassifier(n_neighbors=num_neighbors)\n",
    "    classifier.fit(train_features,train_labels)\n",
    "    y_pred = classifier.predict(test_features)\n",
    "\n",
    "    return np.array(y_pred)\n",
    "\n",
    "# DONT CHANGE THE LINE BELOW\n",
    "y_pred = knn_predict(train_X, train_y, test_X, num_neighbors=5)\n",
    "y_pred"
   ]
  },
  {
   "cell_type": "code",
   "execution_count": null,
   "id": "a54f85be",
   "metadata": {
    "deletable": false,
    "editable": false,
    "nbgrader": {
     "cell_type": "code",
     "checksum": "83cc47a1983a74956f55073957e0d935",
     "grade": true,
     "grade_id": "q1333",
     "locked": true,
     "points": 1,
     "schema_version": 3,
     "solution": false,
     "task": false
    },
    "tags": []
   },
   "outputs": [],
   "source": []
  },
  {
   "cell_type": "markdown",
   "id": "fcab0465",
   "metadata": {
    "deletable": false,
    "editable": false,
    "nbgrader": {
     "cell_type": "markdown",
     "checksum": "b9e324f4ea246ea63eb6880f8b937c14",
     "grade": false,
     "grade_id": "cell-c8faffe9abc94681",
     "locked": true,
     "schema_version": 3,
     "solution": false,
     "task": false
    }
   },
   "source": [
    "### Evaluation\n",
    "\n",
    "Next up is creating the confusion matrix of the gold standard labels and our predictions. You are not allowed to use sklearn functions for this. Also, make sure that your code will work for any input of a gold standard array and a predicted array, regardless of the number of classes, so do not hardcode this!\n",
    "\n",
    "**Hints**\n",
    "We are following the definition of the confusion matrix where a row is the predicted class and the column is an actual class, like the first example in the HC slides with apples and oranges. (and the opposite of the wikipedia definition)"
   ]
  },
  {
   "cell_type": "code",
   "execution_count": 268,
   "id": "2887665a",
   "metadata": {
    "deletable": false,
    "nbgrader": {
     "cell_type": "code",
     "checksum": "b0f528bdbfabe987f9f9bc0fd6d1e944",
     "grade": false,
     "grade_id": "q1",
     "locked": false,
     "schema_version": 3,
     "solution": true,
     "task": false
    }
   },
   "outputs": [
    {
     "data": {
      "text/plain": [
       "array([[ 26.,   1.,   0.,   0.,   0.,   6.,  14.],\n",
       "       [  0.,  50.,   1.,   0.,   0.,   1.,   5.],\n",
       "       [  1.,   0., 108.,   0.,   0.,   2.,   6.],\n",
       "       [  0.,   0.,   0.,  20.,   0.,   1.,   1.],\n",
       "       [  0.,   0.,   0.,   0.,  15.,   0.,   2.],\n",
       "       [  5.,   4.,   0.,   0.,   3.,  87.,  22.],\n",
       "       [  7.,   9.,   4.,   0.,   4.,  41., 137.]])"
      ]
     },
     "execution_count": 268,
     "metadata": {},
     "output_type": "execute_result"
    }
   ],
   "source": [
    "# we expect the rows in the matrix to be predicted classes, and the columns to be the numbers for the gold\n",
    "# standard classses, this is different from the sklearn representation!\n",
    "\n",
    "def construct_confusion_matrix(gold_standard_labels, predicted_labels):\n",
    "    # we will give you the first part, we create an empty square matrix\n",
    "    # the size of the number of labels in the gold standard, understand why?\n",
    "    number_of_classes = len(np.unique(gold_standard_labels))\n",
    "    confusion_matrix = np.zeros((number_of_classes, number_of_classes))\n",
    "    list_classes = gold_standard_labels.to_list()\n",
    "    \n",
    "    \n",
    "    for index in range(len(gold_standard_labels)):\n",
    "        index_true = list_classes[index] \n",
    "        index_predicted = predicted_labels[index]\n",
    "        confusion_matrix[index_true][index_predicted] += 1\n",
    "        \n",
    "    return confusion_matrix\n",
    "\n",
    "\n",
    "construct_confusion_matrix(test_y, y_pred)"
   ]
  },
  {
   "cell_type": "code",
   "execution_count": null,
   "id": "80dd0a92",
   "metadata": {
    "deletable": false,
    "editable": false,
    "nbgrader": {
     "cell_type": "code",
     "checksum": "906d89269ee14d28ffc96e8b1420d164",
     "grade": true,
     "grade_id": "cell-e21219e88ed9717f",
     "locked": true,
     "points": 1,
     "schema_version": 3,
     "solution": false,
     "task": false
    }
   },
   "outputs": [],
   "source": []
  },
  {
   "cell_type": "markdown",
   "id": "486df1ee",
   "metadata": {
    "deletable": false,
    "editable": false,
    "nbgrader": {
     "cell_type": "markdown",
     "checksum": "fad600b456c2e9db10d1a40f16399ba5",
     "grade": false,
     "grade_id": "cell-679432b9edcb080a",
     "locked": true,
     "schema_version": 3,
     "solution": false,
     "task": false
    }
   },
   "source": [
    "In the cell below make a nice confusion matrix here using `y_pred` and `sns.heatmap`"
   ]
  },
  {
   "cell_type": "code",
   "execution_count": 269,
   "id": "ba336bbe",
   "metadata": {
    "deletable": false,
    "nbgrader": {
     "cell_type": "code",
     "checksum": "ea40c65e77307627655d7206fdbf3a29",
     "grade": true,
     "grade_id": "cell-b20a9f8ee2ed06f4",
     "locked": false,
     "points": 1,
     "schema_version": 3,
     "solution": true,
     "task": false
    }
   },
   "outputs": [
    {
     "data": {
      "text/plain": [
       "<AxesSubplot:>"
      ]
     },
     "execution_count": 269,
     "metadata": {},
     "output_type": "execute_result"
    },
    {
     "data": {
      "image/png": "[encoded data removed]",
      "text/plain": [
       "<Figure size 432x288 with 2 Axes>"
      ]
     },
     "metadata": {
      "needs_background": "light"
     },
     "output_type": "display_data"
    }
   ],
   "source": [
    "import seaborn as sns\n",
    "\n",
    "sns.heatmap(construct_confusion_matrix(test_y, y_pred), annot=True)\n"
   ]
  },
  {
   "cell_type": "markdown",
   "id": "8ace570d",
   "metadata": {
    "deletable": false,
    "editable": false,
    "nbgrader": {
     "cell_type": "markdown",
     "checksum": "9f1626700cf0c02d26af090b184ef473",
     "grade": false,
     "grade_id": "cell-cbdefa9bfeff267f",
     "locked": true,
     "schema_version": 3,
     "solution": false,
     "task": false
    }
   },
   "source": [
    "### Calculating Accuracy, Precision Recall and F1 through the confusion matrix\n",
    "\n",
    "Next up is calculating accuracy, precision, recall and F1. For this exercise you are not allowed to use the functions from sklearn, but you have to implement them yourself using the confusion matrix. Your task is to fill in the functions below, where the behaviour is similar to sklearn, where you can give in an 'average' parameter, which calculates the metrics with different weighting schemes.\n",
    "\n",
    "**Hints**\n",
    "- Try to think about precision and recall in terms of rows and columns in the confusion matrix, this should make the calculations relatively straightforward to implement in numpy.\n",
    "- you can use `np.diag` to get the values on the diagonal of the confusion matrix.\n",
    "- For F1 you can use the functions of precision and recall you wrote, but use the `None` option for weighting and calculate the different weights using these arrays, to avoid successive rounding errors in your results. Then use `np.nan_to_num` on the raw F1 array in case we have precision and recall both equal to 0."
   ]
  },
  {
   "cell_type": "code",
   "execution_count": 270,
   "id": "12c14028",
   "metadata": {
    "deletable": false,
    "nbgrader": {
     "cell_type": "code",
     "checksum": "fe4c486d8ee817b7d003dff9f2de5479",
     "grade": false,
     "grade_id": "q2",
     "locked": false,
     "schema_version": 3,
     "solution": true,
     "task": false
    }
   },
   "outputs": [],
   "source": [
    "# complete the below functions, where you implement the following types for each metric:\n",
    "# None: return the metric for each label separately, thus returning an array of size num_classes\n",
    "# 'macro': return the macro weighted metric\n",
    "# 'micro': returns the micro weighted metric\n",
    "# 'weighted': returns the class weighted metric\n",
    "\n",
    "# As a warmup, calculate accuracy over the entire test set\n",
    "def accuracy(confusion_matrix):     \n",
    "    return sum(np.diag(confusion_matrix))/ sum(sum(confusion_matrix))\n",
    "\n",
    "def precision(confusion_matrix, average): \n",
    "    assert average in [None, 'macro', 'micro', 'weighted']\n",
    "    #WRITE YOUR CODE HERE\n",
    "    if average == None:\n",
    "        return np.diag(confusion_matrix)/np.sum(confusion_matrix, axis=0)\n",
    "    \n",
    "    elif average == 'micro':\n",
    "        return accuracy(confusion_matrix)\n",
    "    \n",
    "    elif average == 'macro':\n",
    "        return np.mean(np.diag(confusion_matrix)/np.sum(confusion_matrix, axis=0))\n",
    "    \n",
    "    elif average == 'weighted':\n",
    "        return np.average(np.diag(confusion_matrix)/np.sum(confusion_matrix, axis=0), weights=np.sum(confusion_matrix, axis=1))\n",
    "\n",
    "def recall(confusion_matrix, average): \n",
    "    assert average in [None, 'macro', 'micro', 'weighted']\n",
    "    #WRITE YOUR CODE HERE\n",
    "    if average == None:\n",
    "        return np.diag(confusion_matrix)/np.sum(confusion_matrix, axis=1)\n",
    "    \n",
    "    elif average == 'micro':\n",
    "        return accuracy(confusion_matrix)\n",
    "    \n",
    "    elif average == 'macro':\n",
    "        return np.mean(np.diag(confusion_matrix)/np.sum(confusion_matrix, axis=1))\n",
    "    \n",
    "    elif average == 'weighted':\n",
    "        return np.average(np.diag(confusion_matrix)/np.sum(confusion_matrix, axis=1), weights=np.sum(confusion_matrix, axis=1))\n",
    "\n",
    "def f1(confusion_matrix, average):\n",
    "    assert average in [None, 'macro', 'micro', 'weighted']\n",
    "    f1 = 2 * precision(confusion_matrix, None) * recall(confusion_matrix, None) / (precision(confusion_matrix, None) + recall(confusion_matrix, None))\n",
    "    total = np.sum(confusion_matrix, axis=1)\n",
    "    \n",
    "    if average == None:\n",
    "        return f1\n",
    "    \n",
    "    elif average == 'micro':\n",
    "        return accuracy(confusion_matrix)\n",
    "    \n",
    "    elif average == 'macro':\n",
    "        return np.mean(f1)\n",
    "    \n",
    "    elif average == 'weighted':\n",
    "        return np.sum(f1 * total) / np.sum(total)\n"
   ]
  },
  {
   "cell_type": "code",
   "execution_count": 271,
   "id": "407295eb",
   "metadata": {},
   "outputs": [
    {
     "name": "stdout",
     "output_type": "stream",
     "text": [
      "0.7598627787307034\n",
      "0.7598627787307033\n"
     ]
    }
   ],
   "source": [
    "from sklearn.metrics import precision_score, recall_score, f1_score\n",
    "average = [None, 'macro', 'micro', 'weighted']\n",
    "print(f1_score(test_y, y_pred, average='micro'))\n",
    "print(f1(construct_confusion_matrix(test_y, y_pred), average='micro'))\n",
    "\n"
   ]
  },
  {
   "cell_type": "code",
   "execution_count": 272,
   "id": "825cfc3d",
   "metadata": {
    "deletable": false,
    "editable": false,
    "nbgrader": {
     "cell_type": "code",
     "checksum": "d33379f6c9dcde7f09d391f9f0734cd9",
     "grade": true,
     "grade_id": "q25353",
     "locked": true,
     "points": 0.5,
     "schema_version": 3,
     "solution": false,
     "task": false
    }
   },
   "outputs": [],
   "source": [
    "test_matrix = np.array([[1, 2, 0],\n",
    "                       [0, 3, 1],\n",
    "                       [0, 5, 2]])\n",
    "\n",
    "assert_equal(type(precision(test_matrix, None)), np.ndarray)\n",
    "assert_equal(type(recall(test_matrix, None)), np.ndarray)\n",
    "assert_equal(type(f1(test_matrix, None)), np.ndarray)\n"
   ]
  },
  {
   "cell_type": "code",
   "execution_count": 273,
   "id": "c6d3025f",
   "metadata": {
    "deletable": false,
    "editable": false,
    "nbgrader": {
     "cell_type": "code",
     "checksum": "b65a6c43cf9b948e8033f50ca9123117",
     "grade": true,
     "grade_id": "q4",
     "locked": true,
     "points": 0.5,
     "schema_version": 3,
     "solution": false,
     "task": false
    }
   },
   "outputs": [],
   "source": [
    "# Compute Macro, micro and weighted versions of precision, recall and F1.\n",
    "# TODO: also use round to check here to make sure that we dont get small rounding differences\n",
    "test_matrix = np.array([[1, 2, 0],\n",
    "                       [0, 3, 1],\n",
    "                       [0, 5, 2]])\n",
    "\n",
    "assert_equal(type(precision(test_matrix, \"macro\")), np.float64)\n",
    "assert_equal(type(recall(test_matrix, \"macro\")), np.float64)\n",
    "assert_equal(type(f1(test_matrix, \"macro\")), np.float64)\n",
    "\n",
    "assert_equal(type(precision(test_matrix, \"micro\")), np.float64)\n",
    "assert_equal(type(recall(test_matrix, \"micro\")), np.float64)\n",
    "assert_equal(type(f1(test_matrix, \"micro\")), np.float64)\n",
    "\n",
    "assert_equal(type(precision(test_matrix, \"weighted\")), np.float64)\n",
    "assert_equal(type(recall(test_matrix, \"weighted\")), np.float64)\n",
    "assert_equal(type(f1(test_matrix, \"weighted\")), np.float64)\n"
   ]
  },
  {
   "cell_type": "markdown",
   "id": "810bc587",
   "metadata": {
    "deletable": false,
    "editable": false,
    "nbgrader": {
     "cell_type": "markdown",
     "checksum": "03a8b1e4e942de002213cbe9fc3fcfb8",
     "grade": false,
     "grade_id": "cell-f7263a05fc5a2d43",
     "locked": true,
     "schema_version": 3,
     "solution": false,
     "task": false
    }
   },
   "source": [
    "<a id=\"eval2\" />"
   ]
  },
  {
   "cell_type": "markdown",
   "id": "2b96ba9b",
   "metadata": {
    "deletable": false,
    "editable": false,
    "nbgrader": {
     "cell_type": "markdown",
     "checksum": "3d81cc1402fcabc84c6926b37bb57d67",
     "grade": false,
     "grade_id": "ev2",
     "locked": true,
     "schema_version": 3,
     "solution": false
    }
   },
   "source": [
    "# Evaluate again\n",
    "\n",
    "1.  Figure out how you can make a nice evaluation report using `sklearn`. Make such a report with `sklearn`.\n",
    "2. Then make the same report using yoiur own functions. You need to add the support, and possibly more. Do that of course."
   ]
  },
  {
   "cell_type": "markdown",
   "id": "219f9168",
   "metadata": {
    "deletable": false,
    "editable": false,
    "nbgrader": {
     "cell_type": "markdown",
     "checksum": "2a2e227393b0e5a343db917c69ba1108",
     "grade": false,
     "grade_id": "cell-6c9ce99ce465de88",
     "locked": true,
     "schema_version": 3,
     "solution": false,
     "task": false
    }
   },
   "source": [
    "#tip: nice sklearn summary table that gives precision, recall, f1, support. Use that ;)\n",
    "Also make the same report with your own functions, think about support as well"
   ]
  },
  {
   "cell_type": "code",
   "execution_count": 274,
   "id": "902885fc",
   "metadata": {
    "deletable": false,
    "nbgrader": {
     "cell_type": "code",
     "checksum": "5f754e68b6854beed981d964308d61bc",
     "grade": true,
     "grade_id": "ev2a",
     "locked": false,
     "points": 1,
     "schema_version": 3,
     "solution": true
    }
   },
   "outputs": [
    {
     "name": "stdout",
     "output_type": "stream",
     "text": [
      "Precision None: [ True  True  True  True  True  True  True]\n",
      "Recall None: [ True  True  True  True  True  True  True]\n",
      "F1 None: [ True  True  True  True  True  True  True]\n",
      "Precision macro: True\n",
      "Recall macro: True\n",
      "F1 macro: True\n",
      "Precision micro: True\n",
      "Recall micro: True\n",
      "F1 micro: True\n",
      "Precision weighted: True\n",
      "Recall weighted: True\n",
      "F1 weighted: True\n"
     ]
    }
   ],
   "source": [
    "from sklearn.metrics import precision_score, recall_score, f1_score\n",
    "average = [None, 'macro', 'micro', 'weighted']\n",
    "matrix = construct_confusion_matrix(test_y, y_pred)\n",
    "\n",
    "for item in average:\n",
    "    print(\"Precision {}: {}\".format(item, precision(matrix, item).round(3) == precision_score(test_y, y_pred, average=item).round(3)))\n",
    "    print(\"Recall {}: {}\".format(item, recall(matrix, item).round(3) == recall_score(test_y, y_pred, average=item).round(3)))\n",
    "    print(\"F1 {}: {}\".format(item, f1(matrix, item).round(3) == f1_score(test_y, y_pred, average=item).round(3)))"
   ]
  },
  {
   "cell_type": "markdown",
   "id": "f0ccce10",
   "metadata": {
    "deletable": false,
    "editable": false,
    "nbgrader": {
     "cell_type": "markdown",
     "checksum": "74023b41590c6964a556386f2e9cd770",
     "grade": false,
     "grade_id": "cell-7b0b0aebfdcd2ac0",
     "locked": true,
     "schema_version": 3,
     "solution": false,
     "task": false
    }
   },
   "source": [
    "<a id=\"cross_val\" />"
   ]
  },
  {
   "cell_type": "markdown",
   "id": "1e387a3b",
   "metadata": {
    "deletable": false,
    "editable": false,
    "nbgrader": {
     "cell_type": "markdown",
     "checksum": "5031ca6fbb0b3820b1510bc124e83457",
     "grade": false,
     "grade_id": "cv",
     "locked": true,
     "schema_version": 3,
     "solution": false
    }
   },
   "source": [
    "# Cross validation\n",
    "\n",
    "* Do 5 fold cV for the KNN Classifier that we used in the previous exercise and the faults dataset, using the original `faults_X` and `faults_y arrays` we defined in the beginning.\n",
    "* Does that make sense for the small classes? Think, experiment, look, and make a decision.\n",
    "* Then run it. \n",
    "* Show for each class the distribution of the F1 values. Choose yourself how.\n",
    "* Compute the confidence intervals. \n",
    "* What can you conclude?\n",
    "\n",
    "For this exercise your are allowed to use functions from sklearn, and also use the `f1_score` from sklearn.\n",
    "\n",
    "**Hints**\n",
    "- If you calculate the F1 for each class individually, you can use a numpy array to store the results for each split, and then use numpy functions to easily calculate the confidence intervals.\n",
    "\n",
    "Remember, we calculate confidence intervals for a class using $\\mu \\pm \\frac{\\sigma}{\\sqrt{k}}$ where k is the number of folds."
   ]
  },
  {
   "cell_type": "code",
   "execution_count": 275,
   "id": "dbbca5d1",
   "metadata": {
    "deletable": false,
    "nbgrader": {
     "cell_type": "code",
     "checksum": "ea49d99c6ff731ac9d569f0184264333",
     "grade": true,
     "grade_id": "cvaa",
     "locked": false,
     "points": 1,
     "schema_version": 3,
     "solution": true,
     "task": false
    }
   },
   "outputs": [
    {
     "name": "stderr",
     "output_type": "stream",
     "text": [
      "/Users/basten/opt/anaconda3/lib/python3.9/site-packages/sklearn/linear_model/_logistic.py:763: ConvergenceWarning: lbfgs failed to converge (status=1):\n",
      "STOP: TOTAL NO. of ITERATIONS REACHED LIMIT.\n",
      "\n",
      "Increase the number of iterations (max_iter) or scale the data as shown in:\n",
      "    https://scikit-learn.org/stable/modules/preprocessing.html\n",
      "Please also refer to the documentation for alternative solver options:\n",
      "    https://scikit-learn.org/stable/modules/linear_model.html#logistic-regression\n",
      "  n_iter_i = _check_optimize_result(\n",
      "/Users/basten/opt/anaconda3/lib/python3.9/site-packages/sklearn/linear_model/_logistic.py:763: ConvergenceWarning: lbfgs failed to converge (status=1):\n",
      "STOP: TOTAL NO. of ITERATIONS REACHED LIMIT.\n",
      "\n",
      "Increase the number of iterations (max_iter) or scale the data as shown in:\n",
      "    https://scikit-learn.org/stable/modules/preprocessing.html\n",
      "Please also refer to the documentation for alternative solver options:\n",
      "    https://scikit-learn.org/stable/modules/linear_model.html#logistic-regression\n",
      "  n_iter_i = _check_optimize_result(\n",
      "/Users/basten/opt/anaconda3/lib/python3.9/site-packages/sklearn/linear_model/_logistic.py:763: ConvergenceWarning: lbfgs failed to converge (status=1):\n",
      "STOP: TOTAL NO. of ITERATIONS REACHED LIMIT.\n",
      "\n",
      "Increase the number of iterations (max_iter) or scale the data as shown in:\n",
      "    https://scikit-learn.org/stable/modules/preprocessing.html\n",
      "Please also refer to the documentation for alternative solver options:\n",
      "    https://scikit-learn.org/stable/modules/linear_model.html#logistic-regression\n",
      "  n_iter_i = _check_optimize_result(\n"
     ]
    },
    {
     "name": "stdout",
     "output_type": "stream",
     "text": [
      "[0.42159383 0.49742268 0.47938144 0.38402062 0.3943299 ]\n"
     ]
    },
    {
     "name": "stderr",
     "output_type": "stream",
     "text": [
      "/Users/basten/opt/anaconda3/lib/python3.9/site-packages/sklearn/linear_model/_logistic.py:763: ConvergenceWarning: lbfgs failed to converge (status=1):\n",
      "STOP: TOTAL NO. of ITERATIONS REACHED LIMIT.\n",
      "\n",
      "Increase the number of iterations (max_iter) or scale the data as shown in:\n",
      "    https://scikit-learn.org/stable/modules/preprocessing.html\n",
      "Please also refer to the documentation for alternative solver options:\n",
      "    https://scikit-learn.org/stable/modules/linear_model.html#logistic-regression\n",
      "  n_iter_i = _check_optimize_result(\n",
      "/Users/basten/opt/anaconda3/lib/python3.9/site-packages/sklearn/linear_model/_logistic.py:763: ConvergenceWarning: lbfgs failed to converge (status=1):\n",
      "STOP: TOTAL NO. of ITERATIONS REACHED LIMIT.\n",
      "\n",
      "Increase the number of iterations (max_iter) or scale the data as shown in:\n",
      "    https://scikit-learn.org/stable/modules/preprocessing.html\n",
      "Please also refer to the documentation for alternative solver options:\n",
      "    https://scikit-learn.org/stable/modules/linear_model.html#logistic-regression\n",
      "  n_iter_i = _check_optimize_result(\n"
     ]
    }
   ],
   "source": [
    "from sklearn.model_selection import KFold, cross_val_score\n",
    "from sklearn.linear_model import LogisticRegression\n",
    "from sklearn.neighbors import KNeighborsClassifier\n",
    "from sklearn.metrics import f1_score, classification_report\n",
    "\n",
    "# Don't forget about the `knn_predict` function you wrote!\n",
    "\n",
    "#WRITE YOUR CODE HERE\n",
    "logreg = LogisticRegression()\n",
    "scores = cross_val_score(logreg, faults_X, faults_y, cv=5)\n",
    "\n",
    "print(scores)"
   ]
  },
  {
   "cell_type": "code",
   "execution_count": null,
   "id": "1f14ea2e",
   "metadata": {},
   "outputs": [],
   "source": []
  },
  {
   "cell_type": "markdown",
   "id": "5e74c290",
   "metadata": {
    "deletable": false,
    "editable": false,
    "nbgrader": {
     "cell_type": "markdown",
     "checksum": "69f4d9bf56844ed33d81f2b589cbf91b",
     "grade": false,
     "grade_id": "cell-0c4fd92462e86b67",
     "locked": true,
     "schema_version": 3,
     "solution": false,
     "task": false
    }
   },
   "source": [
    "<a id=\"baselines\" />"
   ]
  },
  {
   "cell_type": "markdown",
   "id": "d278f799",
   "metadata": {
    "deletable": false,
    "editable": false,
    "nbgrader": {
     "cell_type": "markdown",
     "checksum": "217eef2b7b1fb57793ee707fd95e7825",
     "grade": false,
     "grade_id": "baseline",
     "locked": true,
     "schema_version": 3,
     "solution": false
    }
   },
   "source": [
    "# Baselines\n",
    "\n",
    "Next we are going to implement some very simple baselines that do not use any information from the features, but instead rely only on the label. As with the previous functions, make sure that they work for any label column, so don't hardcode things! As these functions don't rely on the input features , the only input you get is the y label column, and a parameter that specifies the number of samples in the test set.\n",
    "\n",
    "## Majority class\n",
    "\n",
    "* Always choose the majority class\n",
    "\n",
    "## Random \n",
    "\n",
    "* With $C$ classes, let each class have $\\frac{1}{C}$ chance.\n",
    "\n",
    "## Weighted Random \n",
    "\n",
    "*  Let each class have $P(C)$ chance.\n",
    "    * $P(C)$ = fraction of C-instances in the population.\n",
    "    \n",
    "## Compute \n",
    "\n",
    "* Make a clear table with macro, micro, and weighted versions precision, recall and F1 for these three baselines for the `faults` dataset.  Clearly indicate how and why you decided to calculate things the way you did."
   ]
  },
  {
   "cell_type": "code",
   "execution_count": 260,
   "id": "1a29ee92",
   "metadata": {
    "deletable": false,
    "nbgrader": {
     "cell_type": "code",
     "checksum": "19e09fd5a4db47f4c92988a8a2cf876b",
     "grade": false,
     "grade_id": "baselinea",
     "locked": false,
     "schema_version": 3,
     "solution": true,
     "task": false
    }
   },
   "outputs": [
    {
     "data": {
      "text/plain": [
       "[0, 0, 0, 0, 0, 0, 0, 0, 0, 0, 0, 0, 0, 0, 0, 0, 0, 0, 0, 0]"
      ]
     },
     "execution_count": 260,
     "metadata": {},
     "output_type": "execute_result"
    }
   ],
   "source": [
    "from collections import Counter\n",
    "# Majority class\n",
    "from scipy.stats import mode # what does this function return, how can you use it?\n",
    "\n",
    "def majority_class(input_labels, test_size):\n",
    "    output_labels = []\n",
    "    #WRITE YOUR CODE HERE\n",
    "    return[Counter(input_labels).most_common(1)[0][0] for _ in range(test_size)]\n",
    "    \n",
    "majority_class([0, 1, 0, 1], test_size=20)"
   ]
  },
  {
   "cell_type": "code",
   "execution_count": 261,
   "id": "ac37c03c",
   "metadata": {
    "deletable": false,
    "editable": false,
    "nbgrader": {
     "cell_type": "code",
     "checksum": "eee68bcab51b829cd9d1aae15e4f0c6e",
     "grade": true,
     "grade_id": "cell-b81e0fa41487d31c",
     "locked": true,
     "points": 1,
     "schema_version": 3,
     "solution": false,
     "task": false
    }
   },
   "outputs": [],
   "source": [
    "assert_equal(len(majority_class([0, 1, 0, 1], test_size=20)), 20)"
   ]
  },
  {
   "cell_type": "code",
   "execution_count": 306,
   "id": "59803a59-91b3-4303-ad69-c1269f46c4a2",
   "metadata": {
    "deletable": false,
    "nbgrader": {
     "cell_type": "code",
     "checksum": "51db3c4ada581d2a9f85d85975b3ccea",
     "grade": false,
     "grade_id": "cell-bc805a237f704eab",
     "locked": false,
     "schema_version": 3,
     "solution": true,
     "task": false
    },
    "tags": []
   },
   "outputs": [
    {
     "data": {
      "text/plain": [
       "[0, 1, 1, 1, 1, 0, 0, 0, 0, 1, 0, 1, 0, 0, 0, 0, 0, 1, 0, 0]"
      ]
     },
     "execution_count": 306,
     "metadata": {},
     "output_type": "execute_result"
    }
   ],
   "source": [
    "from numpy.random import randint\n",
    "import random\n",
    "\n",
    "\n",
    "def random(input_labels, test_size): \n",
    "    output_labels = []\n",
    "    #WRITE YOUR CODE HERE\n",
    "#     [random.choice(input_labels) for x in range(test_size)]\n",
    "#     print(min(input_labels), max(input_labels))\n",
    "    return [randint(min(input_labels), max(input_labels)+1) for x in range(test_size)]\n",
    "random([0, 1, 0, 1], 20)"
   ]
  },
  {
   "cell_type": "code",
   "execution_count": 307,
   "id": "082868be",
   "metadata": {
    "deletable": false,
    "editable": false,
    "nbgrader": {
     "cell_type": "code",
     "checksum": "88e686a6470926183502b79e50141625",
     "grade": true,
     "grade_id": "cell-1a365d9077f59356",
     "locked": true,
     "points": 1,
     "schema_version": 3,
     "solution": false,
     "task": false
    }
   },
   "outputs": [],
   "source": [
    "assert_equal(len(random([0, 1, 0, 1], test_size=20)), 20)"
   ]
  },
  {
   "cell_type": "code",
   "execution_count": 311,
   "id": "1c95a5ad",
   "metadata": {
    "deletable": false,
    "nbgrader": {
     "cell_type": "code",
     "checksum": "06bd90ef27e3329808fe685a9d32a81e",
     "grade": false,
     "grade_id": "cell-9f81af4ac37df57f",
     "locked": false,
     "schema_version": 3,
     "solution": true,
     "task": false
    }
   },
   "outputs": [],
   "source": [
    "# Hint: have a look at the numpy.random.choice function with a distribution\n",
    "# Another hint: you can get counts of unique values with np.unique (look at the documentation)\n",
    "# which you can use to the probabilities for your distribution\n",
    "from numpy.random import choice\n",
    "\n",
    "def weighted_random(input_labels, test_size):\n",
    "    output_labels = []\n",
    "    labels, counts = np.unique(input_labels, return_counts=True)\n",
    "    label_count = dict(zip(labels, counts))\n",
    "    \n",
    "    weighted = [(label_count[i] / len(input_labels)) for i in label_count]\n",
    "    \n",
    "    output_labels = np.random.choice(labels[-1] + 1, size=test_size, p=weighted)\n",
    "    \n",
    "    return np.array(output_labels)\n"
   ]
  },
  {
   "cell_type": "code",
   "execution_count": 312,
   "id": "1a685306",
   "metadata": {
    "deletable": false,
    "editable": false,
    "nbgrader": {
     "cell_type": "code",
     "checksum": "8c9a7617e989106a71dbd7b2a72559b2",
     "grade": true,
     "grade_id": "cell-ba75f549511618ae",
     "locked": true,
     "points": 1,
     "schema_version": 3,
     "solution": false,
     "task": false
    }
   },
   "outputs": [],
   "source": [
    "assert_equal(len(random([0, 1, 0, 1], test_size=20)), 20)"
   ]
  },
  {
   "cell_type": "markdown",
   "id": "c1a6c899",
   "metadata": {
    "deletable": false,
    "editable": false,
    "nbgrader": {
     "cell_type": "markdown",
     "checksum": "0d43700aac70208ebf8da7eeba823880",
     "grade": false,
     "grade_id": "cell-ba14eb817d76890b",
     "locked": true,
     "schema_version": 3,
     "solution": false,
     "task": false
    }
   },
   "source": [
    "Now construct your table with results using the functions we just wrote above"
   ]
  },
  {
   "cell_type": "code",
   "execution_count": 317,
   "id": "25af52c3",
   "metadata": {
    "deletable": false,
    "nbgrader": {
     "cell_type": "code",
     "checksum": "705037543b4a1b0b360644659858b7a1",
     "grade": true,
     "grade_id": "cell-38debba006f4fad0",
     "locked": false,
     "points": 1,
     "schema_version": 3,
     "solution": true,
     "task": false
    }
   },
   "outputs": [
    {
     "data": {
      "text/html": [
       "<div>\n",
       "<style scoped>\n",
       "    .dataframe tbody tr th:only-of-type {\n",
       "        vertical-align: middle;\n",
       "    }\n",
       "\n",
       "    .dataframe tbody tr th {\n",
       "        vertical-align: top;\n",
       "    }\n",
       "\n",
       "    .dataframe thead th {\n",
       "        text-align: right;\n",
       "    }\n",
       "</style>\n",
       "<table border=\"1\" class=\"dataframe\">\n",
       "  <thead>\n",
       "    <tr style=\"text-align: right;\">\n",
       "      <th></th>\n",
       "      <th>Majority Class</th>\n",
       "      <th>Random</th>\n",
       "      <th>Weighted Random</th>\n",
       "    </tr>\n",
       "  </thead>\n",
       "  <tbody>\n",
       "    <tr>\n",
       "      <th>0</th>\n",
       "      <td>0</td>\n",
       "      <td>0</td>\n",
       "      <td>0</td>\n",
       "    </tr>\n",
       "    <tr>\n",
       "      <th>1</th>\n",
       "      <td>0</td>\n",
       "      <td>0</td>\n",
       "      <td>0</td>\n",
       "    </tr>\n",
       "    <tr>\n",
       "      <th>2</th>\n",
       "      <td>0</td>\n",
       "      <td>0</td>\n",
       "      <td>1</td>\n",
       "    </tr>\n",
       "    <tr>\n",
       "      <th>3</th>\n",
       "      <td>0</td>\n",
       "      <td>0</td>\n",
       "      <td>1</td>\n",
       "    </tr>\n",
       "    <tr>\n",
       "      <th>4</th>\n",
       "      <td>0</td>\n",
       "      <td>1</td>\n",
       "      <td>1</td>\n",
       "    </tr>\n",
       "    <tr>\n",
       "      <th>5</th>\n",
       "      <td>0</td>\n",
       "      <td>1</td>\n",
       "      <td>1</td>\n",
       "    </tr>\n",
       "    <tr>\n",
       "      <th>6</th>\n",
       "      <td>0</td>\n",
       "      <td>1</td>\n",
       "      <td>1</td>\n",
       "    </tr>\n",
       "    <tr>\n",
       "      <th>7</th>\n",
       "      <td>0</td>\n",
       "      <td>1</td>\n",
       "      <td>0</td>\n",
       "    </tr>\n",
       "    <tr>\n",
       "      <th>8</th>\n",
       "      <td>0</td>\n",
       "      <td>1</td>\n",
       "      <td>1</td>\n",
       "    </tr>\n",
       "    <tr>\n",
       "      <th>9</th>\n",
       "      <td>0</td>\n",
       "      <td>1</td>\n",
       "      <td>0</td>\n",
       "    </tr>\n",
       "    <tr>\n",
       "      <th>10</th>\n",
       "      <td>0</td>\n",
       "      <td>1</td>\n",
       "      <td>0</td>\n",
       "    </tr>\n",
       "    <tr>\n",
       "      <th>11</th>\n",
       "      <td>0</td>\n",
       "      <td>0</td>\n",
       "      <td>1</td>\n",
       "    </tr>\n",
       "    <tr>\n",
       "      <th>12</th>\n",
       "      <td>0</td>\n",
       "      <td>1</td>\n",
       "      <td>0</td>\n",
       "    </tr>\n",
       "    <tr>\n",
       "      <th>13</th>\n",
       "      <td>0</td>\n",
       "      <td>1</td>\n",
       "      <td>1</td>\n",
       "    </tr>\n",
       "    <tr>\n",
       "      <th>14</th>\n",
       "      <td>0</td>\n",
       "      <td>0</td>\n",
       "      <td>1</td>\n",
       "    </tr>\n",
       "    <tr>\n",
       "      <th>15</th>\n",
       "      <td>0</td>\n",
       "      <td>1</td>\n",
       "      <td>0</td>\n",
       "    </tr>\n",
       "    <tr>\n",
       "      <th>16</th>\n",
       "      <td>0</td>\n",
       "      <td>0</td>\n",
       "      <td>0</td>\n",
       "    </tr>\n",
       "    <tr>\n",
       "      <th>17</th>\n",
       "      <td>0</td>\n",
       "      <td>0</td>\n",
       "      <td>0</td>\n",
       "    </tr>\n",
       "    <tr>\n",
       "      <th>18</th>\n",
       "      <td>0</td>\n",
       "      <td>0</td>\n",
       "      <td>0</td>\n",
       "    </tr>\n",
       "    <tr>\n",
       "      <th>19</th>\n",
       "      <td>0</td>\n",
       "      <td>0</td>\n",
       "      <td>0</td>\n",
       "    </tr>\n",
       "  </tbody>\n",
       "</table>\n",
       "</div>"
      ],
      "text/plain": [
       "    Majority Class  Random  Weighted Random\n",
       "0                0       0                0\n",
       "1                0       0                0\n",
       "2                0       0                1\n",
       "3                0       0                1\n",
       "4                0       1                1\n",
       "5                0       1                1\n",
       "6                0       1                1\n",
       "7                0       1                0\n",
       "8                0       1                1\n",
       "9                0       1                0\n",
       "10               0       1                0\n",
       "11               0       0                1\n",
       "12               0       1                0\n",
       "13               0       1                1\n",
       "14               0       0                1\n",
       "15               0       1                0\n",
       "16               0       0                0\n",
       "17               0       0                0\n",
       "18               0       0                0\n",
       "19               0       0                0"
      ]
     },
     "execution_count": 317,
     "metadata": {},
     "output_type": "execute_result"
    }
   ],
   "source": [
    "data = {\"Majority Class\": majority_class([0, 1, 0, 1], test_size=20), \"Random\":random([0, 1, 0, 1], 20), \"Weighted Random\": weighted_random([0, 1, 0, 1], test_size=20)}\n",
    "pd.DataFrame.from_dict(data)"
   ]
  },
  {
   "cell_type": "markdown",
   "id": "77c542c4",
   "metadata": {
    "deletable": false,
    "editable": false,
    "nbgrader": {
     "cell_type": "markdown",
     "checksum": "67801d95300b43d5abff5d6351ee1fe5",
     "grade": false,
     "grade_id": "cell-5fa897c7dbda8349",
     "locked": true,
     "schema_version": 3,
     "solution": false,
     "task": false
    }
   },
   "source": [
    "<a id =\"theory\" />"
   ]
  },
  {
   "cell_type": "markdown",
   "id": "4e9e6202",
   "metadata": {
    "deletable": false,
    "editable": false,
    "nbgrader": {
     "cell_type": "markdown",
     "checksum": "4ed95da71836a01f98992dadd85543f0",
     "grade": false,
     "grade_id": "th",
     "locked": true,
     "schema_version": 3,
     "solution": false
    }
   },
   "source": [
    "# Part 3: theory\n",
    "\n",
    "The following questions are about precision, recall and accuracy.\n",
    "\n",
    "Suppose you have a disease that occurs in 1 in a 100 people, and you have a test with an accuracy of .95. Meaning that in 95 percent of the case you correctly predict whether someone has the disease or not: The sum of the elements on the diagonal divided by the sum of all elements in the confusion matrix is .95.\n",
    "\n",
    "1. What is de maximum (variable `maxR`) and minimal (`minR`) *recall* for the disease-class with these numbers?\n",
    "2. What is de maximum (variable `maxP`) and minimal (`minP`) *precision* for the disease-class with these numbers?\n",
    "\n",
    "**Hint** Construct a confusion matrix where you try different settings, make sure the numbers add up to the right totals.\n",
    "\n",
    "## OLD DUTCH TEXT\n",
    "\n",
    "Deze vragen gaan over precisie, recall en accuraatheid.\n",
    "\n",
    "Stel je hebt een ziekte die bij 1 op de 100 mensen voorkomt. En je hebt een test met een accuraatheid van .95. Dit laatste betekent dat je in 95% van de gevallen juist voorspelt of iemand de ziekte heeft of niet. Anders gezegd: de som van de elementen op de diagonaal van de confusion matrix gedeeld door het totaal aantal elementen is .95.\n",
    "\n",
    "1. Wat is de maximale(variabele `maxR`) en minimale (`minR`) *recall* voor de ziekte-klasse bij deze gegevens?\n",
    "2. Wat is de maximale (`maxP`) en minimale (`minP`) *precision* voor de ziekte-klasse bij deze gegevens?\n",
    "\n",
    "**Hint** Maak een confusion matrix waarin je verschillende settings uitprobeert. Zorg er steeds voor dat alles netjes optelt. \n",
    "\n"
   ]
  },
  {
   "cell_type": "code",
   "execution_count": null,
   "id": "ad6fee4f",
   "metadata": {
    "deletable": false,
    "nbgrader": {
     "cell_type": "code",
     "checksum": "9e68ec312daa4a819a80b293ee63e600",
     "grade": false,
     "grade_id": "tha",
     "locked": false,
     "schema_version": 3,
     "solution": true
    }
   },
   "outputs": [],
   "source": [
    "minP = None  # precisie\n",
    "maxP = None\n",
    "minR = None  # recall\n",
    "maxR = None\n",
    "\n",
    "#WRITE YOUR CODE HERE"
   ]
  },
  {
   "cell_type": "code",
   "execution_count": null,
   "id": "f670afda",
   "metadata": {
    "deletable": false,
    "editable": false,
    "nbgrader": {
     "cell_type": "code",
     "checksum": "4147daefc34e8b6378ab82ffcd495794",
     "grade": true,
     "grade_id": "tht",
     "locked": true,
     "points": 1,
     "schema_version": 3,
     "solution": false
    }
   },
   "outputs": [],
   "source": [
    "for m in {minP, maxP, minR, maxR}:\n",
    "    assert 0 <= m <= 1"
   ]
  },
  {
   "cell_type": "markdown",
   "id": "10a60538",
   "metadata": {
    "deletable": false,
    "editable": false,
    "nbgrader": {
     "cell_type": "markdown",
     "checksum": "8386fa56edec98eb4e9cdae4d41336a3",
     "grade": false,
     "grade_id": "th2b",
     "locked": true,
     "schema_version": 3,
     "solution": false
    }
   },
   "source": [
    "## Variant \n",
    "\n",
    "Dezelde vraag als boven, maar nu hebben 5 op de 100 mensen de ziekte en hebben we juist een accuraatheid van .99"
   ]
  },
  {
   "cell_type": "code",
   "execution_count": null,
   "id": "e4c3017a",
   "metadata": {
    "deletable": false,
    "nbgrader": {
     "cell_type": "code",
     "checksum": "b40d9ee7b419bb975e8bf714673bf0b8",
     "grade": false,
     "grade_id": "th2a",
     "locked": false,
     "schema_version": 3,
     "solution": true
    }
   },
   "outputs": [],
   "source": [
    "minP = None  # precisie\n",
    "maxP = None\n",
    "minR = None  # recall\n",
    "maxR = None\n",
    "\n",
    "#WRITE YOUR CODE HERE"
   ]
  },
  {
   "cell_type": "code",
   "execution_count": null,
   "id": "d1392562",
   "metadata": {
    "deletable": false,
    "editable": false,
    "nbgrader": {
     "cell_type": "code",
     "checksum": "c8cae35434829e05de6cbbe0a82f9861",
     "grade": true,
     "grade_id": "th2t",
     "locked": true,
     "points": 1,
     "schema_version": 3,
     "solution": false
    }
   },
   "outputs": [],
   "source": [
    "for m in {minP, maxP, minR, maxR}:\n",
    "    assert 0 <= m <= 1"
   ]
  },
  {
   "cell_type": "markdown",
   "id": "1bd92de2",
   "metadata": {
    "deletable": false,
    "editable": false,
    "nbgrader": {
     "cell_type": "markdown",
     "checksum": "beaab30797b4c2fcea880fc25f10f1bb",
     "grade": false,
     "grade_id": "cell-cdff11c95603116e",
     "locked": true,
     "schema_version": 3,
     "solution": false,
     "task": false
    }
   },
   "source": [
    "<a id=\"contag\" />"
   ]
  },
  {
   "cell_type": "markdown",
   "id": "0a62ca1a",
   "metadata": {
    "deletable": false,
    "editable": false,
    "nbgrader": {
     "cell_type": "markdown",
     "checksum": "df8d6edb01f675d52da6941853da2409",
     "grade": false,
     "grade_id": "c1",
     "locked": true,
     "schema_version": 3,
     "solution": false
    }
   },
   "source": [
    "# Part 4: What is worse: contagiousness of or deadliness?\n",
    "\n",
    "\n",
    "Source: <https://www.nrc.nl/nieuws/2020/12/31/verdachte-virusvariant-met-opvallend-veel-mutaties-a4025804>\n",
    "\n",
    "> What is worse: contagiousness or deadliness? At first glance you might think the second is. In the media there is thus also a sense of relief that the new variant of the virus is more more contagious, but less deadly than the existing variants. But is this justified? Adam Kucharski of the London School of Hygiene and Tropical Medicine [argued on Twitter](https://twitter.com/AdamJKucharski/status/1343567425107881986) that it is not.He gave the following numerical example\n",
    "\n",
    ">Suppose R = 1.1. This means that on average ten people will infect eleven other people. Now suppose the generation time is 6 days i.e. it takes 6 days for those ten people to have infected these eleven people. This in 30 days this 'tree of contagion' splits 5 times, once each six days. Now suppose that of all people that become infected 0.8 percent die of the illness and the at the start we started with on day zero with 10.000 infected people. Then after one month we have $10.000 × (1,1)^5 × 0,8\\% = 129$ people that have died.\n",
    "\n",
    ">What happens when a mutation causes the virus to become 50 percent more deadly? If we will in the above formula with the changed deadliness we get the following: (1,1)^5 × (0,8\\% × 1,5) = 193 $ people dying from the virus.\n",
    "\n",
    ">Now what happens when the virus becomes 50 percent more contagious? Again, we can change the contagiousness in the formula and recalculate: $10.000 × (1,1 × 1,5)^5 × 0,8\\% = 978$, meaning we now have almost a thousand people dying from the virus\n",
    "\n",
    ">How is this possible? The deadliness of the virus is linearly correlated with the number of infrected people, while the number of infected people is related exponentially with the number of infected people, which we can also observe in the formula.\n",
    "\n",
    "* Run the code below and try to understand what happens, do you understand why there is a difference in the number of dead in period 0, why it is the same for period 1, and why it starts to diverge after period 1?\n",
    "* Check that the number of dead at the end of the month in the article is the same as the number at week 5 in the table.\n",
    "* And see how we can very easily make a plot from spreadsheet data like this? We will be using this more in the coming weeks and explore even more cool ways of plotting data and results.\n",
    "\n",
    "## Is it actually correct?\n",
    "1. The formula is of course correct, however the outcome is not. Because if you have an R of 1.1 for a month you ahve had 6 'generations', and the total number of infected people is much higher than $10.000 x (1,1)^5$. Calculate how much more in the fuction `aantal_geinfecteerden_na_periodes`.\n",
    "\n",
    "2. The same goes for the number of people that have died after a month, calculate this as well.\n",
    "\n",
    "\n",
    "\n",
    "# OLD DUTCH VERSION\n",
    ">Wat is erger: besmettelijkheid of dodelijkheid? Op het eerste gezicht denk je het tweede. In de media is dan ook opluchting te bespeuren dat het virus weliswaar besmettelijker is, maar geen ernstiger ziekteverloop veroorzaakt. Maar is dat terecht? Adam Kucharski van de London School of Hygiene and Tropical Medicine [betoogde op Twitter](https://twitter.com/AdamJKucharski/status/1343567425107881986) van niet. Hij gaf het volgende getallenvoorbeeld:\n",
    "\n",
    ">Stel, R is 1,1. Dat wil zeggen dat tien besmette personen gemiddeld elf anderen besmetten. Stel, de generatietijd is zes dagen: het duurt zes dagen tot die tien mensen elf anderen hebben besmet, dus in 30 dagen vertakt die ‘besmettingsboom’ zich vijf keer. Stel, van alle besmette mensen overlijdt 0,8 procent. En stel, op tijdstip nul zijn 10.000 mensen besmet. Dan levert dat na een maand $10.000 × (1,1)^5 × 0,8\\% = 129$ doden op.\n",
    "\n",
    ">Wat gebeurt er dan als het virus door een mutatie 50 procent dodelijker wordt? Dan zijn na een maand $10.000 x (1,1)^5 × (0,8\\% × 1,5) = 193 $\n",
    "mensen overleden.\n",
    "\n",
    ">Als het virus door een mutatie echter 50 procent besmettelijker wordt, dan ligt het dodental bijna vijf keer zo hoog: $10.000 × (1,1 × 1,5)^5 × 0,8\\% = 978$ doden.\n",
    "\n",
    "\n",
    ">Hoe dat kan? De dodelijkheid correleert lineair met het aantal doden, maar voor besmettelijkheid is dat verband exponentieel.\n",
    "\n",
    "* Run onderstaande code. Snap wat er gebeurt. Snap je het verschil in aantal doden voor periode 0. En waarom is het gelijk in periode 1, en gaat het daarna (steeds sneller) uit elkaar lopen?\n",
    "* Check dat het aantal doden aan het eind van de maand in het artikel hetzelfde is als in de tabel bij periode 5.\n",
    "* En kijk eens hoe makkelijk je een plotje van zo'n spreadsheet maakt. Ideaal toch? Later in de cursus leren we hier meer over.\n",
    "\n",
    "## Klopt het wel? (1pt)\n",
    "\n",
    "1. De formule klopt natuurlijk, maar de uitkomst niet. Want als je een maand met een R van 1.1 zit heb je 6 \"generaties\", en dus in totaal veel meer besmette mensen gehad dan $10.000 x (1,1)^5$.  **Hoeveel meer dan?** **Bereken dat in de functie `aantal_geinfecteerden_na_periodes`.**\n",
    "2. En dus hebben we na een maand ook een ander aantal overledenen.  Bereken dat eens.\n"
   ]
  },
  {
   "cell_type": "code",
   "execution_count": 318,
   "id": "677436a0",
   "metadata": {
    "deletable": false,
    "editable": false,
    "nbgrader": {
     "cell_type": "code",
     "checksum": "15db10991c82c2f4d3f1164667e1529f",
     "grade": false,
     "grade_id": "c2",
     "locked": true,
     "schema_version": 3,
     "solution": false
    }
   },
   "outputs": [
    {
     "data": {
      "text/html": [
       "<div>\n",
       "<style scoped>\n",
       "    .dataframe tbody tr th:only-of-type {\n",
       "        vertical-align: middle;\n",
       "    }\n",
       "\n",
       "    .dataframe tbody tr th {\n",
       "        vertical-align: top;\n",
       "    }\n",
       "\n",
       "    .dataframe thead th {\n",
       "        text-align: right;\n",
       "    }\n",
       "</style>\n",
       "<table border=\"1\" class=\"dataframe\">\n",
       "  <thead>\n",
       "    <tr style=\"text-align: right;\">\n",
       "      <th></th>\n",
       "      <th>dodelijker</th>\n",
       "      <th>besmettelijker</th>\n",
       "    </tr>\n",
       "    <tr>\n",
       "      <th>Periode</th>\n",
       "      <th></th>\n",
       "      <th></th>\n",
       "    </tr>\n",
       "  </thead>\n",
       "  <tbody>\n",
       "    <tr>\n",
       "      <th>0</th>\n",
       "      <td>120</td>\n",
       "      <td>80</td>\n",
       "    </tr>\n",
       "    <tr>\n",
       "      <th>1</th>\n",
       "      <td>132</td>\n",
       "      <td>132</td>\n",
       "    </tr>\n",
       "    <tr>\n",
       "      <th>2</th>\n",
       "      <td>145</td>\n",
       "      <td>218</td>\n",
       "    </tr>\n",
       "    <tr>\n",
       "      <th>3</th>\n",
       "      <td>160</td>\n",
       "      <td>359</td>\n",
       "    </tr>\n",
       "    <tr>\n",
       "      <th>4</th>\n",
       "      <td>176</td>\n",
       "      <td>593</td>\n",
       "    </tr>\n",
       "    <tr>\n",
       "      <th>5</th>\n",
       "      <td>193</td>\n",
       "      <td>978</td>\n",
       "    </tr>\n",
       "  </tbody>\n",
       "</table>\n",
       "</div>"
      ],
      "text/plain": [
       "         dodelijker  besmettelijker\n",
       "Periode                            \n",
       "0               120              80\n",
       "1               132             132\n",
       "2               145             218\n",
       "3               160             359\n",
       "4               176             593\n",
       "5               193             978"
      ]
     },
     "execution_count": 318,
     "metadata": {},
     "output_type": "execute_result"
    },
    {
     "data": {
      "image/png": "[encoded data removed]",
      "text/plain": [
       "<Figure size 432x288 with 1 Axes>"
      ]
     },
     "metadata": {
      "needs_background": "light"
     },
     "output_type": "display_data"
    }
   ],
   "source": [
    "# zoals in het artikel\n",
    "def aantaldoden(aantalbesmet=10**4,\n",
    "                overlijdingsratio=.008,\n",
    "                R=1.1,\n",
    "                hoeveelerger=1.5,\n",
    "                aantalperiodes=5):\n",
    "    return {\n",
    "        'dodelijker':\n",
    "        round(aantalbesmet * (R)**aantalperiodes * overlijdingsratio *\n",
    "              hoeveelerger),\n",
    "        'besmettelijker':\n",
    "        round(aantalbesmet * (R * hoeveelerger)**aantalperiodes *\n",
    "              overlijdingsratio)\n",
    "    }\n",
    "\n",
    "\n",
    "# 50 % erger\n",
    "A = {P: aantaldoden(hoeveelerger=1.5, aantalperiodes=P) for P in range(0, 6)}\n",
    "A = pd.DataFrame(A).T\n",
    "A.index.name = 'Periode'\n",
    "A.plot(kind='bar', title='Aantal doden van geinfecteerden in periode x.')\n",
    "A"
   ]
  },
  {
   "cell_type": "code",
   "execution_count": 321,
   "id": "9361d765",
   "metadata": {
    "deletable": false,
    "nbgrader": {
     "cell_type": "code",
     "checksum": "80b84b681b0ed01683cd4f5049b08af3",
     "grade": false,
     "grade_id": "c2a",
     "locked": false,
     "schema_version": 3,
     "solution": true
    }
   },
   "outputs": [
    {
     "data": {
      "text/plain": [
       "0     10000\n",
       "1     11000\n",
       "2     12100\n",
       "3     13310\n",
       "4     14641\n",
       "5     16105\n",
       "6     17716\n",
       "7     19487\n",
       "8     21436\n",
       "9     23579\n",
       "10    25937\n",
       "11    28531\n",
       "12    31384\n",
       "13    34523\n",
       "14    37975\n",
       "15    41772\n",
       "16    45950\n",
       "17    50545\n",
       "18    55599\n",
       "19    61159\n",
       "20    67275\n",
       "dtype: int64"
      ]
     },
     "execution_count": 321,
     "metadata": {},
     "output_type": "execute_result"
    },
    {
     "data": {
      "image/png": "[encoded data removed]",
      "text/plain": [
       "<Figure size 432x288 with 1 Axes>"
      ]
     },
     "metadata": {
      "needs_background": "light"
     },
     "output_type": "display_data"
    }
   ],
   "source": [
    "def aantal_geinfecteerden_na_periodes(\n",
    "    aantalperiodes=6,\n",
    "    aantalbesmet=10**4,\n",
    "    R=1.1,\n",
    "):\n",
    "    '''Geef het totaal aantal geinfecteerde mensen terug na aantalperiodes generaties/periodes.\n",
    "    Rond af op een geheel getal.'''\n",
    "    #WRITE YOUR CODE HERE\n",
    "    return round(aantalbesmet * (R)**aantalperiodes)\n",
    "\n",
    "B = pd.Series({\n",
    "    P: round(aantal_geinfecteerden_na_periodes(aantalperiodes=P))\n",
    "    for P in range(21)\n",
    "})\n",
    "B.plot(kind='bar')\n",
    "B"
   ]
  },
  {
   "cell_type": "code",
   "execution_count": 322,
   "id": "556de592",
   "metadata": {
    "deletable": false,
    "editable": false,
    "nbgrader": {
     "cell_type": "code",
     "checksum": "272cbd6ccb2e37ab9b484d9310c3085c",
     "grade": true,
     "grade_id": "c2t",
     "locked": true,
     "points": 1,
     "schema_version": 3,
     "solution": false
    }
   },
   "outputs": [],
   "source": [
    "assert isinstance(aantal_geinfecteerden_na_periodes(), int)\n",
    "\n"
   ]
  },
  {
   "cell_type": "markdown",
   "id": "e8ad279a",
   "metadata": {
    "deletable": false,
    "editable": false,
    "nbgrader": {
     "cell_type": "markdown",
     "checksum": "042d881891d1d0feedc4e0a6ea5e3efe",
     "grade": false,
     "grade_id": "cc1",
     "locked": true,
     "schema_version": 3,
     "solution": false
    }
   },
   "source": [
    "## Altered dataframe (1pt)\n",
    "\n",
    "Example the code above again, where we construct teh dataframe `A`. Alter the code such that you print the correct numbers acorrding to the text above, and store this in dataframe `AA`. `AA` will have the same shape and index as `A`, just different numbers\n",
    "\n",
    "* Also observe the difference between the titles of the two plots.\n",
    "\n",
    "\n",
    "## Aangepast dataframe (1pt)\n",
    "\n",
    "Bekijk de code hierboven nog eens waarin het Dataframe `A` gemaakt werd. Pas die code aan, zodat je daarmee het dataframe `AA` maakt dat de juiste aantallen print. `AA` heeft dezelfde *shape* als `A`, en ook dezelfde index en kolom namen. Alleen de waardes zijn anders. \n",
    "\n",
    "* Apprecieer ook het verschil in de titels tussen de twee plotjes."
   ]
  },
  {
   "cell_type": "code",
   "execution_count": 340,
   "id": "d9c7fd2e",
   "metadata": {
    "deletable": false,
    "nbgrader": {
     "cell_type": "code",
     "checksum": "c72cf90703cc0b139f2e333f45077971",
     "grade": false,
     "grade_id": "cc1a",
     "locked": false,
     "schema_version": 3,
     "solution": true
    }
   },
   "outputs": [
    {
     "name": "stdout",
     "output_type": "stream",
     "text": [
      "             0\n",
      "Periode       \n",
      "0        10000\n",
      "1        11000\n",
      "2        12100\n",
      "3        13310\n",
      "4        14641\n",
      "5        16105\n"
     ]
    },
    {
     "data": {
      "image/png": "[encoded data removed]",
      "text/plain": [
       "<Figure size 432x288 with 1 Axes>"
      ]
     },
     "metadata": {
      "needs_background": "light"
     },
     "output_type": "display_data"
    }
   ],
   "source": [
    "AA = {P: [aantal_geinfecteerden_na_periodes(aantalperiodes=P)] for P in range(0, 6)}\n",
    "AA = pd.DataFrame.from_dict(AA).T\n",
    "AA.index.name = 'Periode'\n",
    "\n",
    "#WRITE YOUR CODE HERE\n",
    "\n",
    "T = 'Totaal aantal doden na x periodes van 6 dagen.'\n",
    "AA.plot(kind='bar', title=T)\n",
    "print(AA)\n",
    "\n",
    "\n",
    "#WRITE YOUR CODE HERE"
   ]
  },
  {
   "cell_type": "code",
   "execution_count": 339,
   "id": "981e2dd7",
   "metadata": {
    "deletable": false,
    "editable": false,
    "nbgrader": {
     "cell_type": "code",
     "checksum": "07711104e8c2da3ce90f817e18977d3c",
     "grade": true,
     "grade_id": "cc1t",
     "locked": true,
     "points": 1,
     "schema_version": 3,
     "solution": false
    }
   },
   "outputs": [
    {
     "ename": "AttributeError",
     "evalue": "'dict' object has no attribute 'shape'",
     "output_type": "error",
     "traceback": [
      "\u001b[0;31m---------------------------------------------------------------------------\u001b[0m",
      "\u001b[0;31mAttributeError\u001b[0m                            Traceback (most recent call last)",
      "\u001b[0;32m/var/folders/5x/kl0ttwmn26v7_2rdrw520mwc0000gn/T/ipykernel_76390/933253858.py\u001b[0m in \u001b[0;36m<module>\u001b[0;34m\u001b[0m\n\u001b[0;32m----> 1\u001b[0;31m \u001b[0massert_equal\u001b[0m\u001b[0;34m(\u001b[0m\u001b[0mAA\u001b[0m\u001b[0;34m.\u001b[0m\u001b[0mshape\u001b[0m\u001b[0;34m,\u001b[0m \u001b[0;34m(\u001b[0m\u001b[0;36m6\u001b[0m\u001b[0;34m,\u001b[0m \u001b[0;36m2\u001b[0m\u001b[0;34m)\u001b[0m\u001b[0;34m)\u001b[0m  \u001b[0;31m# 2 kolommen, 6 rijen\u001b[0m\u001b[0;34m\u001b[0m\u001b[0;34m\u001b[0m\u001b[0m\n\u001b[0m\u001b[1;32m      2\u001b[0m assert_equal(list(AA.index) == list(range(6)),\n\u001b[1;32m      3\u001b[0m              True)  # de index van AA is [0,1,2,3,4,5]\n\u001b[1;32m      4\u001b[0m \u001b[0;34m\u001b[0m\u001b[0m\n",
      "\u001b[0;31mAttributeError\u001b[0m: 'dict' object has no attribute 'shape'"
     ]
    }
   ],
   "source": [
    "assert_equal(AA.shape, (6, 2))  # 2 kolommen, 6 rijen\n",
    "assert_equal(list(AA.index) == list(range(6)),\n",
    "             True)  # de index van AA is [0,1,2,3,4,5]\n",
    "\n"
   ]
  },
  {
   "cell_type": "code",
   "execution_count": null,
   "id": "c95338b6",
   "metadata": {},
   "outputs": [],
   "source": []
  }
 ],
 "metadata": {
  "kernelspec": {
   "display_name": "Python 3 (ipykernel)",
   "language": "python",
   "name": "python3"
  },
  "language_info": {
   "codemirror_mode": {
    "name": "ipython",
    "version": 3
   },
   "file_extension": ".py",
   "mimetype": "text/x-python",
   "name": "python",
   "nbconvert_exporter": "python",
   "pygments_lexer": "ipython3",
   "version": "3.9.7"
  },
  "toc": {
   "nav_menu": {},
   "number_sections": false,
   "sideBar": true,
   "skip_h1_title": false,
   "title_cell": "Table of Contents",
   "title_sidebar": "Contents",
   "toc_cell": false,
   "toc_position": {},
   "toc_section_display": true,
   "toc_window_display": false
  }
 },
 "nbformat": 4,
 "nbformat_minor": 5
}

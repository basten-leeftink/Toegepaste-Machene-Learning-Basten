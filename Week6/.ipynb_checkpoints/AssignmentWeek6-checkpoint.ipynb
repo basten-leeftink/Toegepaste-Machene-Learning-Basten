{
 "cells": [
  {
   "cell_type": "markdown",
   "id": "f905aa96",
   "metadata": {
    "nbgrader": {
     "grade": false,
     "grade_id": "privacy",
     "locked": false,
     "schema_version": 3,
     "solution": false
    }
   },
   "source": [
    "# Assignment Applied Machine Learning BSc IK \n",
    "\n",
    "## Notebook made by\n",
    "\n",
    "**Gebruik graag dit formaat**\n",
    "\n",
    "* Voor de namen:  voornaam rest van je naam, voornaam rest van je naam,....\n",
    "* je studentnummers: hetzelfde: scheidt met `,`\n",
    "* je emails: hetzelfde: scheidt met `,`\n",
    "* voor je groep: **alleen de hoofdletter** (iets als  `A` of `B` dus)\n",
    "\n",
    "__Namen__: Basten Leeftink, Job van Baaren, Mick van den Boer, Stijn Lakeman\n",
    "\n",
    "__Emails__: basten@dds.nl\n",
    "\n",
    "__Student ids__ : \n",
    "\n",
    "__Groep__ : VervangMijDoorEenHoofdletter"
   ]
  },
  {
   "cell_type": "markdown",
   "id": "8b9fb9c6",
   "metadata": {},
   "source": [
    "## Toelichting\n",
    "\n",
    "* Een aantal opgaven worden automatisch nagekeken. Bij vrijwel alle opdrachten staan er een paar tests onder de opdracht, dit is voornamelijk om te zorgen dat je de juiste type output geeft. Dit zijn dus *NIET* alle tests, die komen er bij het graden nog bij.\n",
    "* Elke vraag is 1 punt waard, tenzij anders aangegeven. Soms is die punt onderverdeeld in deelpunten, maar niet altijd. \n",
    "\n",
    "## Voor het inleveren!\n",
    "\n",
    "* Pas niet de cellen aan, vooral niet die je niet kunt editen. Dit levert problemen op bij nakijken. Twijfel je of je per ongeluk iets hebt gewijzigd, kopieer dan bij inleveren je antwoorden naar een nieuw bestand, zodat het niet fout kan gaan.\n",
    "\n",
    "* Zorg dat de code goed runt van boven naar beneden, verifieer dat door boven in Kernel -> Restart & Run All uit te voeren\n",
    "\n",
    "## Na het inleveren!\n",
    "\n",
    "* Het gebeurt erg vaak dat mensen een \"leeg bestand\" inleveren. Vaak een andere versie van de opgave die nog ergens op je computer rondslingerde. Zonde van al je werk toch!\n",
    "* Dus, lever **minstens een half uur voor tijd in**. Download dan wat je hebt ingeleverd op Canvas. Geef het een andere naam om verwarring te voorkomen. En draai alle cellen, en bekijk het. Geen syntax fouten? Alle vragen gemaakt? Dan zit het vast wel goed, en hoef je niet in de zenuwen te zitten."
   ]
  },
  {
   "cell_type": "markdown",
   "id": "dfd9576e",
   "metadata": {
    "deletable": false,
    "editable": false,
    "nbgrader": {
     "cell_type": "markdown",
     "checksum": "bd80cdc0e19a67f9bff05d0e08a99c5e",
     "grade": false,
     "grade_id": "i",
     "locked": true,
     "schema_version": 3,
     "solution": false
    }
   },
   "source": [
    "# Applied Machine Learning W6\n",
    "\n",
    "In the exercises of this week we will be looking more closely at different Machine Learning models, such as decision trees and random forests. We will also be taking our first look at building models for the text domain, which will also be part of the assignment for next week.\n",
    "\n",
    "\n",
    "## Assignment Index\n",
    "\n",
    "- 1.1 [Decision Trees and Random Forests](#random_forests)\n",
    "- 1.2 [Logistic Regression with the Titanic dataset](#titanic)\n",
    "- 1.3 [Text Classification](#text_classification)"
   ]
  },
  {
   "cell_type": "code",
   "execution_count": 1,
   "id": "af12dd95",
   "metadata": {
    "deletable": false,
    "editable": false,
    "nbgrader": {
     "cell_type": "code",
     "checksum": "705b25f855cc865df255378a28191950",
     "grade": false,
     "grade_id": "imp",
     "locked": true,
     "schema_version": 3,
     "solution": false
    }
   },
   "outputs": [],
   "source": [
    "import os\n",
    "import sklearn\n",
    "import pandas as pd\n",
    "import numpy as np\n",
    "import matplotlib.pyplot as plt\n",
    "import seaborn as sns; sns.set()\n",
    "\n",
    "# testing\n",
    "from numpy.testing import *\n",
    "from nose.tools import assert_count_equal, assert_equal, assert_almost_equals\n",
    "from pandas.testing import assert_frame_equal\n",
    "\n",
    "# Please do not remove this: \n",
    "np.random.seed(31415)"
   ]
  },
  {
   "cell_type": "markdown",
   "id": "973ac698",
   "metadata": {
    "deletable": false,
    "editable": false,
    "nbgrader": {
     "cell_type": "markdown",
     "checksum": "b9d02218d9292fa96a5ab35315634db7",
     "grade": false,
     "grade_id": "cell-175428cab90f9597",
     "locked": true,
     "schema_version": 3,
     "solution": false,
     "task": false
    }
   },
   "source": [
    "<a id=\"random_forest\" />"
   ]
  },
  {
   "cell_type": "markdown",
   "id": "69573585",
   "metadata": {
    "deletable": false,
    "editable": false,
    "nbgrader": {
     "cell_type": "markdown",
     "checksum": "c18bdac2685c720bdf5309d57cac4dd6",
     "grade": false,
     "grade_id": "dt",
     "locked": true,
     "schema_version": 3,
     "solution": false
    }
   },
   "source": [
    "# Decision trees and random forests\n",
    "\n",
    "In this for exercise we will be working with decision trees on the familiar digits dataset. We will be using a random forest classifier to classify the images, and do a little exploration on the mistakes that the classifier makes.\n",
    "\n",
    "* Create a random forest classifier for the digits dataset, with a 80-20 test train split.\n",
    "* Evaluate with a report of P, R and F1 for each digit (class) and a confusion matrix.\n",
    "* Not only predict a class, but also compute the probabilities for each class using `predict_proba`.\n",
    "  - You can use `predict_proba` and make binary labels from it, so you only have to run the \n",
    "  prediction code once.\n",
    "* Make an insightful investigation of this probability space.\n",
    "    * which ones are more easily confused (eg, the probability of the winner is not that high and not that far off from the numbefr 2.)\n",
    "    * Write a small report, with insightful tables and graphics.\n"
   ]
  },
  {
   "cell_type": "code",
   "execution_count": 2,
   "id": "4e506cf6",
   "metadata": {
    "deletable": false,
    "editable": false,
    "nbgrader": {
     "cell_type": "code",
     "checksum": "654c88a022ed1aae603f28291f672844",
     "grade": false,
     "grade_id": "cell-0c8deb7a9b103313",
     "locked": true,
     "schema_version": 3,
     "solution": false,
     "task": false
    }
   },
   "outputs": [
    {
     "data": {
      "image/png": "[encoded data removed]",
      "text/plain": [
       "<Figure size 432x432 with 64 Axes>"
      ]
     },
     "metadata": {},
     "output_type": "display_data"
    }
   ],
   "source": [
    "# We give this to you, we load in the dataset and we show a small example of the dataset.\n",
    "from sklearn.datasets import load_digits\n",
    "digits = load_digits()\n",
    "\n",
    "# set up the figure\n",
    "fig = plt.figure(figsize=(6, 6))  # figure size in inches\n",
    "fig.subplots_adjust(left=0, right=1, bottom=0, top=1, hspace=0.05, wspace=0.05)\n",
    "\n",
    "# plot the digits: each image is 8x8 pixels to get a feel for what is in the digits dataset.\n",
    "for i in range(64):\n",
    "    ax = fig.add_subplot(8, 8, i + 1, xticks=[], yticks=[])\n",
    "    ax.imshow(digits.images[i], cmap=plt.cm.binary, interpolation='nearest')\n",
    "    \n",
    "    # label the image with the target value\n",
    "    ax.text(0, 7, str(digits.target[i]))"
   ]
  },
  {
   "cell_type": "code",
   "execution_count": 3,
   "id": "7f74b560-a223-4f5e-b0f5-ec4b73cb1b25",
   "metadata": {
    "deletable": false,
    "nbgrader": {
     "cell_type": "code",
     "checksum": "b4568b5eeff83b9df1c2bfd3f88b88c4",
     "grade": false,
     "grade_id": "cell-c53c408eda935531",
     "locked": false,
     "schema_version": 3,
     "solution": true,
     "task": false
    }
   },
   "outputs": [
    {
     "data": {
      "text/plain": [
       "(array([[38,  0,  0,  0,  1,  0,  0,  0,  0,  0],\n",
       "        [ 0, 37,  0,  0,  0,  1,  0,  0,  0,  0],\n",
       "        [ 0,  0, 27,  0,  0,  0,  0,  0,  0,  0],\n",
       "        [ 0,  0,  0, 39,  0,  1,  0,  0,  0,  0],\n",
       "        [ 0,  0,  0,  0, 36,  0,  0,  0,  0,  0],\n",
       "        [ 0,  0,  0,  1,  1, 37,  0,  0,  0,  0],\n",
       "        [ 0,  0,  0,  0,  0,  0, 44,  0,  1,  0],\n",
       "        [ 0,  0,  0,  0,  0,  0,  0, 29,  0,  1],\n",
       "        [ 0,  2,  1,  0,  0,  0,  0,  1, 29,  0],\n",
       "        [ 0,  0,  0,  0,  0,  1,  0,  1,  0, 31]]),\n",
       " array([[0.02, 0.03, 0.07, 0.02, 0.08, 0.02, 0.  , 0.66, 0.06, 0.04],\n",
       "        [0.01, 0.03, 0.04, 0.29, 0.02, 0.19, 0.1 , 0.01, 0.11, 0.2 ],\n",
       "        [0.  , 0.06, 0.01, 0.01, 0.01, 0.05, 0.  , 0.05, 0.79, 0.02],\n",
       "        [0.01, 0.22, 0.07, 0.01, 0.09, 0.27, 0.12, 0.01, 0.19, 0.01],\n",
       "        [0.  , 0.  , 0.01, 0.  , 0.93, 0.03, 0.02, 0.01, 0.  , 0.  ],\n",
       "        [0.92, 0.  , 0.01, 0.  , 0.03, 0.03, 0.  , 0.01, 0.  , 0.  ],\n",
       "        [0.  , 0.  , 0.  , 0.  , 0.  , 0.01, 0.  , 0.98, 0.01, 0.  ],\n",
       "        [0.  , 0.  , 0.03, 0.03, 0.  , 0.02, 0.03, 0.  , 0.89, 0.  ],\n",
       "        [0.  , 0.01, 0.  , 0.02, 0.  , 0.01, 0.  , 0.9 , 0.02, 0.04],\n",
       "        [0.  , 0.05, 0.13, 0.02, 0.  , 0.  , 0.  , 0.  , 0.8 , 0.  ]]))"
      ]
     },
     "execution_count": 3,
     "metadata": {},
     "output_type": "execute_result"
    }
   ],
   "source": [
    "np.random.seed(31415)# Do not remove this\n",
    "from sklearn.ensemble import RandomForestClassifier\n",
    "from sklearn.model_selection import train_test_split\n",
    "from sklearn.metrics import classification_report, confusion_matrix\n",
    "\n",
    "# Set up the data and split up in train and test\n",
    "X = digits.data\n",
    "y = digits.target\n",
    "X_train, X_test, y_train, y_test = train_test_split(X,y, test_size=0.2) # Replace these with the correct answers\n",
    "\n",
    "# Next is making the classifier and predicting the labels of the digits\n",
    "forest = RandomForestClassifier()\n",
    "forest.fit(X_train, y_train)\n",
    "predicted_probabilities = forest.predict_proba(X_test)\n",
    "predicted_labels = forest.predict(X_test)\n",
    "digits_confusion_matrix = confusion_matrix(y_test, forest.predict(X_test))\n",
    "\n",
    "digits_confusion_matrix, predicted_probabilities[:10]"
   ]
  },
  {
   "cell_type": "code",
   "execution_count": 4,
   "id": "fcb28c7a",
   "metadata": {
    "deletable": false,
    "editable": false,
    "nbgrader": {
     "cell_type": "code",
     "checksum": "6a7c45744350355feb7cefdd2140b7d8",
     "grade": true,
     "grade_id": "cell-b4efb574acdcabde",
     "locked": true,
     "points": 1,
     "schema_version": 3,
     "solution": false,
     "task": false
    }
   },
   "outputs": [],
   "source": [
    "assert_equal(X_train.shape, (1437, 64))\n",
    "assert_equal(X_test.shape, (360, 64))\n",
    "assert_equal(y_train.shape, (1437,))\n",
    "assert_equal(y_test.shape, (360,))\n",
    "assert_equal(predicted_probabilities.shape, (360, 10))\n",
    "assert_equal(predicted_labels.shape, (360,))"
   ]
  },
  {
   "cell_type": "markdown",
   "id": "38c1c86d",
   "metadata": {
    "deletable": false,
    "editable": false,
    "nbgrader": {
     "cell_type": "markdown",
     "checksum": "2e19ca0ea2277dcd1450a13a0b2786b4",
     "grade": false,
     "grade_id": "cell-965112fc0d83ac9f",
     "locked": true,
     "schema_version": 3,
     "solution": false,
     "task": false
    }
   },
   "source": [
    "Below, do a small report on the predicted probabilities, showing easy and hard to classify instances. Also fill in the `most_confused` variable, which should be a list of ten elements, where for each digit you report the digit it was confused by most. "
   ]
  },
  {
   "cell_type": "code",
   "execution_count": 5,
   "id": "c2f56e78",
   "metadata": {
    "deletable": false,
    "nbgrader": {
     "cell_type": "code",
     "checksum": "9837aa26d0502d1e6724f0066d7032d1",
     "grade": false,
     "grade_id": "cell-30cd51f7f488eb7d",
     "locked": false,
     "schema_version": 3,
     "solution": true,
     "task": false
    }
   },
   "outputs": [
    {
     "name": "stdout",
     "output_type": "stream",
     "text": [
      "               0         1         2         3         4         5         6  \\\n",
      "actual                                                                         \n",
      "0       0.000000  0.005128  0.008718  0.002821  0.021538  0.020000  0.027179   \n",
      "1       0.005526  0.000000  0.021842  0.015000  0.033684  0.024211  0.012632   \n",
      "2       0.002222  0.034074  0.000000  0.047407  0.003333  0.011852  0.007037   \n",
      "3       0.003000  0.021500  0.035250  0.000000  0.004250  0.042500  0.011750   \n",
      "4       0.018056  0.032778  0.006667  0.003611  0.000000  0.023889  0.030833   \n",
      "5       0.013846  0.018462  0.014359  0.032051  0.030000  0.000000  0.018462   \n",
      "6       0.015556  0.025111  0.009111  0.006000  0.026667  0.023333  0.000000   \n",
      "7       0.007333  0.016000  0.017333  0.023000  0.029333  0.020333  0.003333   \n",
      "8       0.009091  0.100606  0.061515  0.050606  0.024848  0.033939  0.024242   \n",
      "9       0.011515  0.033030  0.011818  0.050909  0.031515  0.066667  0.006364   \n",
      "\n",
      "               7         8         9  \n",
      "actual                                \n",
      "0       0.009744  0.019231  0.019744  \n",
      "1       0.020263  0.051842  0.051316  \n",
      "2       0.016667  0.046296  0.014444  \n",
      "3       0.018750  0.053000  0.080000  \n",
      "4       0.040556  0.014167  0.016667  \n",
      "5       0.017692  0.027436  0.064615  \n",
      "6       0.004444  0.025556  0.006667  \n",
      "7       0.000000  0.031000  0.038667  \n",
      "8       0.041515  0.000000  0.043333  \n",
      "9       0.044848  0.070000  0.000000  \n"
     ]
    },
    {
     "name": "stderr",
     "output_type": "stream",
     "text": [
      "/var/folders/5x/kl0ttwmn26v7_2rdrw520mwc0000gn/T/ipykernel_24679/483302475.py:5: FutureWarning: Using a non-tuple sequence for multidimensional indexing is deprecated; use `arr[tuple(seq)]` instead of `arr[seq]`. In the future this will be interpreted as an array index, `arr[np.array(seq)]`, which will result either in an error or a different result.\n",
      "  mean_df.values[[np.arange(mean_df.shape[0])]*2] = 0\n"
     ]
    },
    {
     "data": {
      "text/html": [
       "<div>\n",
       "<style scoped>\n",
       "    .dataframe tbody tr th:only-of-type {\n",
       "        vertical-align: middle;\n",
       "    }\n",
       "\n",
       "    .dataframe tbody tr th {\n",
       "        vertical-align: top;\n",
       "    }\n",
       "\n",
       "    .dataframe thead th {\n",
       "        text-align: right;\n",
       "    }\n",
       "</style>\n",
       "<table border=\"1\" class=\"dataframe\">\n",
       "  <thead>\n",
       "    <tr style=\"text-align: right;\">\n",
       "      <th></th>\n",
       "      <th>Class</th>\n",
       "      <th>Most Confused With</th>\n",
       "    </tr>\n",
       "    <tr>\n",
       "      <th>actual</th>\n",
       "      <th></th>\n",
       "      <th></th>\n",
       "    </tr>\n",
       "  </thead>\n",
       "  <tbody>\n",
       "    <tr>\n",
       "      <th>0</th>\n",
       "      <td>0</td>\n",
       "      <td>6</td>\n",
       "    </tr>\n",
       "    <tr>\n",
       "      <th>1</th>\n",
       "      <td>1</td>\n",
       "      <td>8</td>\n",
       "    </tr>\n",
       "    <tr>\n",
       "      <th>2</th>\n",
       "      <td>2</td>\n",
       "      <td>3</td>\n",
       "    </tr>\n",
       "    <tr>\n",
       "      <th>3</th>\n",
       "      <td>3</td>\n",
       "      <td>9</td>\n",
       "    </tr>\n",
       "    <tr>\n",
       "      <th>4</th>\n",
       "      <td>4</td>\n",
       "      <td>7</td>\n",
       "    </tr>\n",
       "    <tr>\n",
       "      <th>5</th>\n",
       "      <td>5</td>\n",
       "      <td>9</td>\n",
       "    </tr>\n",
       "    <tr>\n",
       "      <th>6</th>\n",
       "      <td>6</td>\n",
       "      <td>4</td>\n",
       "    </tr>\n",
       "    <tr>\n",
       "      <th>7</th>\n",
       "      <td>7</td>\n",
       "      <td>9</td>\n",
       "    </tr>\n",
       "    <tr>\n",
       "      <th>8</th>\n",
       "      <td>8</td>\n",
       "      <td>1</td>\n",
       "    </tr>\n",
       "    <tr>\n",
       "      <th>9</th>\n",
       "      <td>9</td>\n",
       "      <td>8</td>\n",
       "    </tr>\n",
       "  </tbody>\n",
       "</table>\n",
       "</div>"
      ],
      "text/plain": [
       "        Class  Most Confused With\n",
       "actual                           \n",
       "0           0                   6\n",
       "1           1                   8\n",
       "2           2                   3\n",
       "3           3                   9\n",
       "4           4                   7\n",
       "5           5                   9\n",
       "6           6                   4\n",
       "7           7                   9\n",
       "8           8                   1\n",
       "9           9                   8"
      ]
     },
     "execution_count": 5,
     "metadata": {},
     "output_type": "execute_result"
    }
   ],
   "source": [
    "df = pd.DataFrame(forest.predict_proba(X_test))\n",
    "df[\"actual\"] = y_test\n",
    "mean_df = df.groupby([\"actual\"]).mean()\n",
    "\n",
    "mean_df.values[[np.arange(mean_df.shape[0])]*2] = 0\n",
    "\n",
    "most_confused = mean_df.idxmax(axis=1) # Fill this in\n",
    "# Hint: maybe set the diagonal to zero?\n",
    "#WRITE YOUR CODE HERE\n",
    "\n",
    "# Also make a nice report on the scores\n",
    "print(mean_df)\n",
    "# Show this in a nice dataframe\n",
    "pd.DataFrame({'Class': range(10), 'Most Confused With': most_confused})"
   ]
  },
  {
   "cell_type": "code",
   "execution_count": null,
   "id": "cf3bb590",
   "metadata": {
    "deletable": false,
    "editable": false,
    "nbgrader": {
     "cell_type": "code",
     "checksum": "2a520eee1f743edf7ca0e4fd91d90269",
     "grade": true,
     "grade_id": "cell-69d04e2935ea567e",
     "locked": true,
     "points": 1,
     "schema_version": 3,
     "solution": false,
     "task": false
    }
   },
   "outputs": [],
   "source": []
  },
  {
   "cell_type": "markdown",
   "id": "54472555",
   "metadata": {
    "deletable": false,
    "editable": false,
    "nbgrader": {
     "cell_type": "markdown",
     "checksum": "40544647a1acaafe50370e89f9550ea1",
     "grade": false,
     "grade_id": "cell-20aef2210d19741c",
     "locked": true,
     "schema_version": 3,
     "solution": false,
     "task": false
    }
   },
   "source": [
    "Write a small report about the predictions of the classifier using `predict_proba`, and discuss the probability space of each true digit class. For instance, argue, using the probabilities which digit class is the easiest to predict correctly, and which one is the hardest. What properties of the probability space make you think it is easy or hard? Don't write a lot, make good pictures. Make the code in the empty cell below."
   ]
  },
  {
   "cell_type": "code",
   "execution_count": 6,
   "id": "69da7209",
   "metadata": {
    "deletable": false,
    "nbgrader": {
     "cell_type": "code",
     "checksum": "066e71b7c06a3a9f673aeccc79e17699",
     "grade": true,
     "grade_id": "cell-2fb61c1e1933993d",
     "locked": false,
     "points": 1,
     "schema_version": 3,
     "solution": true,
     "task": false
    }
   },
   "outputs": [],
   "source": [
    "#WRITE YOUR CODE HERE"
   ]
  },
  {
   "cell_type": "markdown",
   "id": "b03820f8",
   "metadata": {
    "deletable": false,
    "editable": false,
    "nbgrader": {
     "cell_type": "markdown",
     "checksum": "5d2d480038fc8fed3d6ee5a17ffd4c73",
     "grade": false,
     "grade_id": "cell-260ed38a9d7b2f35",
     "locked": true,
     "schema_version": 3,
     "solution": false,
     "task": false
    }
   },
   "source": [
    "<a id=\"titanic\" />"
   ]
  },
  {
   "cell_type": "markdown",
   "id": "3e9958ce",
   "metadata": {
    "deletable": false,
    "editable": false,
    "nbgrader": {
     "cell_type": "markdown",
     "checksum": "21387af09a5062d9803b79d572a8cc84",
     "grade": false,
     "grade_id": "tita",
     "locked": true,
     "schema_version": 3,
     "solution": false
    }
   },
   "source": [
    "# Logistic Regression for the Titanic Dataset\n",
    "\n",
    "In exercise we are going to use logistic regression on the Titanic dataset, similar to what we did last week with linear regression. We are mostly going to perform the same steps as last week, performing a grid search on parameters, and comparing the performance of different models. We are also going to do a bit more in-depth preprocessing, working with categorical variables.\n",
    "\n",
    "## P1 standardization & Categorical Variables\n",
    "\n",
    "* Load the titanic dataset.\n",
    "* Impute the missing data.\n",
    "* Split the dataset into a train and test set with an 80/20 split.\n",
    "* Z-transform all explanatory variables.\n",
    "* Now use logistic  regression to predict survived from the other variables.\n",
    "* Output the regression weights, and compute Rsquare and RMSE.\n",
    "\n",
    "## P2 Grid Search\n",
    "\n",
    "* Split titanic into train, validation, test.\n",
    "* Again, scale the data.\n",
    "* Use the validation set to find optimal values for the the relevant parameters.\n",
    "* Tabulate or plot the outcomes in a handy and insightful manner, \"displaying the grid of possibilities\".\n",
    "* Pick the best model from the validation set, and run this on the the test set.\n",
    "\n",
    "## P3 More Models\n",
    "\n",
    "* Train two other models, SVM and  random forest, as described in the Data Science Handbook notebooks.\n",
    "* Report the scores of the three models in a meaningful way, and conclude.\n",
    "* Are you able to make confidence intervals? Can you say something about significant differences?\n",
    "* Can you indicate where improvements are made, if any?"
   ]
  },
  {
   "cell_type": "code",
   "execution_count": 7,
   "id": "1b60e8a0-1c7a-4a35-b395-a87347994e9f",
   "metadata": {
    "deletable": false,
    "editable": false,
    "nbgrader": {
     "cell_type": "code",
     "checksum": "3562c66ba70ed04827135dbd374b53bf",
     "grade": false,
     "grade_id": "cell-0ae7902a5b183292",
     "locked": true,
     "schema_version": 3,
     "solution": false,
     "task": false
    }
   },
   "outputs": [],
   "source": [
    "from sklearn.metrics import r2_score, mean_squared_error\n",
    "from sklearn.model_selection import train_test_split, GridSearchCV\n",
    "from sklearn.metrics import accuracy_score, precision_score, recall_score, f1_score"
   ]
  },
  {
   "cell_type": "code",
   "execution_count": 8,
   "id": "54ec504d-4518-41c4-a171-6bea975d5dd7",
   "metadata": {
    "deletable": false,
    "editable": false,
    "nbgrader": {
     "cell_type": "code",
     "checksum": "d37614681fdd26d317430d9a784b944a",
     "grade": false,
     "grade_id": "cell-cc402f39b6b44416",
     "locked": true,
     "schema_version": 3,
     "solution": false,
     "task": false
    }
   },
   "outputs": [],
   "source": [
    "# We will load the dataset for you\n",
    "titanic = sns.load_dataset('titanic')\n",
    "# Drop the alive column, this is just another version of the survived column.\n",
    "titanic.drop(['alive', 'pclass', 'embarked', 'who', 'alone', 'adult_male', 'sibsp', 'sex'], axis=1, inplace=True)\n",
    "# For this exercise we are going to work on a subset of the columns"
   ]
  },
  {
   "cell_type": "code",
   "execution_count": 9,
   "id": "6bb48c8c",
   "metadata": {
    "deletable": false,
    "editable": false,
    "nbgrader": {
     "cell_type": "code",
     "checksum": "f3675dbef84dad25016513a92c41f303",
     "grade": false,
     "grade_id": "cell-6cca4dc4310de8d9",
     "locked": true,
     "schema_version": 3,
     "solution": false,
     "task": false
    }
   },
   "outputs": [
    {
     "data": {
      "text/html": [
       "<div>\n",
       "<style scoped>\n",
       "    .dataframe tbody tr th:only-of-type {\n",
       "        vertical-align: middle;\n",
       "    }\n",
       "\n",
       "    .dataframe tbody tr th {\n",
       "        vertical-align: top;\n",
       "    }\n",
       "\n",
       "    .dataframe thead th {\n",
       "        text-align: right;\n",
       "    }\n",
       "</style>\n",
       "<table border=\"1\" class=\"dataframe\">\n",
       "  <thead>\n",
       "    <tr style=\"text-align: right;\">\n",
       "      <th></th>\n",
       "      <th>survived</th>\n",
       "      <th>age</th>\n",
       "      <th>parch</th>\n",
       "      <th>fare</th>\n",
       "      <th>class</th>\n",
       "      <th>deck</th>\n",
       "      <th>embark_town</th>\n",
       "    </tr>\n",
       "  </thead>\n",
       "  <tbody>\n",
       "    <tr>\n",
       "      <th>0</th>\n",
       "      <td>0</td>\n",
       "      <td>22.0</td>\n",
       "      <td>0</td>\n",
       "      <td>7.2500</td>\n",
       "      <td>Third</td>\n",
       "      <td>NaN</td>\n",
       "      <td>Southampton</td>\n",
       "    </tr>\n",
       "    <tr>\n",
       "      <th>1</th>\n",
       "      <td>1</td>\n",
       "      <td>38.0</td>\n",
       "      <td>0</td>\n",
       "      <td>71.2833</td>\n",
       "      <td>First</td>\n",
       "      <td>C</td>\n",
       "      <td>Cherbourg</td>\n",
       "    </tr>\n",
       "    <tr>\n",
       "      <th>2</th>\n",
       "      <td>1</td>\n",
       "      <td>26.0</td>\n",
       "      <td>0</td>\n",
       "      <td>7.9250</td>\n",
       "      <td>Third</td>\n",
       "      <td>NaN</td>\n",
       "      <td>Southampton</td>\n",
       "    </tr>\n",
       "    <tr>\n",
       "      <th>3</th>\n",
       "      <td>1</td>\n",
       "      <td>35.0</td>\n",
       "      <td>0</td>\n",
       "      <td>53.1000</td>\n",
       "      <td>First</td>\n",
       "      <td>C</td>\n",
       "      <td>Southampton</td>\n",
       "    </tr>\n",
       "    <tr>\n",
       "      <th>4</th>\n",
       "      <td>0</td>\n",
       "      <td>35.0</td>\n",
       "      <td>0</td>\n",
       "      <td>8.0500</td>\n",
       "      <td>Third</td>\n",
       "      <td>NaN</td>\n",
       "      <td>Southampton</td>\n",
       "    </tr>\n",
       "  </tbody>\n",
       "</table>\n",
       "</div>"
      ],
      "text/plain": [
       "   survived   age  parch     fare  class deck  embark_town\n",
       "0         0  22.0      0   7.2500  Third  NaN  Southampton\n",
       "1         1  38.0      0  71.2833  First    C    Cherbourg\n",
       "2         1  26.0      0   7.9250  Third  NaN  Southampton\n",
       "3         1  35.0      0  53.1000  First    C  Southampton\n",
       "4         0  35.0      0   8.0500  Third  NaN  Southampton"
      ]
     },
     "execution_count": 9,
     "metadata": {},
     "output_type": "execute_result"
    }
   ],
   "source": [
    "titanic.head()"
   ]
  },
  {
   "cell_type": "markdown",
   "id": "50ae4224",
   "metadata": {
    "deletable": false,
    "editable": false,
    "nbgrader": {
     "cell_type": "markdown",
     "checksum": "bf10be9dbfdeec372cbd72a8ec9e09d7",
     "grade": false,
     "grade_id": "cell-a68c12272b0495dd",
     "locked": true,
     "schema_version": 3,
     "solution": false,
     "task": false
    }
   },
   "source": [
    "## P1 standardization & Categorical Variables\n",
    "\n",
    "Here we will prepare the data for classification and run a first classifier, we will perform several steps, including the one-hot encoding of the categorical variables.\n",
    "\n",
    "* Load the titanic dataset.\n",
    "* Impute the missing data, use the median for the age column, and the mode for the other two column, think about why we do this.\n",
    "* Split the dataset into a train and test set, using an 80/20 split.\n",
    "* Z-transform all explanatory variables.\n",
    "* Now use logistic  regression to predict survived from the other variables.\n",
    "* Output the regression weights, and compute Rsquare and RMSE."
   ]
  },
  {
   "cell_type": "code",
   "execution_count": 10,
   "id": "cf006eb4",
   "metadata": {},
   "outputs": [
    {
     "data": {
      "text/plain": [
       "survived         0\n",
       "age            177\n",
       "parch            0\n",
       "fare             0\n",
       "class            0\n",
       "deck           688\n",
       "embark_town      2\n",
       "dtype: int64"
      ]
     },
     "execution_count": 10,
     "metadata": {},
     "output_type": "execute_result"
    }
   ],
   "source": [
    "titanic.isna().sum()"
   ]
  },
  {
   "cell_type": "code",
   "execution_count": 11,
   "id": "be4c08dd-c632-4668-bea8-952990288a5e",
   "metadata": {
    "deletable": false,
    "nbgrader": {
     "cell_type": "code",
     "checksum": "43c7b1a9230fdcece0fe28cc68d0184e",
     "grade": false,
     "grade_id": "cell-ce8c7f217556cf2c",
     "locked": false,
     "schema_version": 3,
     "solution": true,
     "task": false
    }
   },
   "outputs": [],
   "source": [
    "from sklearn.preprocessing import StandardScaler\n",
    "np.random.seed(31415)# Do not remove this\n",
    "# Do the imputation of the relevant columns below\n",
    "titanic['age'] = titanic['age'].fillna(titanic['age'].median()) # impute with median\n",
    "titanic['deck'] = titanic['deck'].fillna(titanic['deck'].mode()[0]) # impute with mode\n",
    "titanic['embark_town'] = titanic['embark_town'].fillna(titanic['embark_town'].mode()[0]) # impute with mode\n",
    "\n"
   ]
  },
  {
   "cell_type": "markdown",
   "id": "f3c630d1",
   "metadata": {
    "deletable": false,
    "editable": false,
    "nbgrader": {
     "cell_type": "markdown",
     "checksum": "0dd5b36dd453565639f7fb033742643d",
     "grade": false,
     "grade_id": "cell-79983b9eb5ac73b0",
     "locked": true,
     "schema_version": 3,
     "solution": false,
     "task": false
    }
   },
   "source": [
    "## Categorcial Features\n",
    "\n",
    "The titanic dataset contains several categorical features, and we want to use them for our logistic regression. We already touched on this earlier, and mentioned that you can do this using one hot encodings. Fortunately, scikit learn offers easy functions to do this. We will be using a nice sklearn function to do our preprocessing, but also take a look at the code in the cell below and in particular the shapes, and see if you understand why our categorical features would have that shape now.\n",
    "\n",
    "Please fill in the code below where you create one hot encodings for the categorical features, and fill in the `categorical_features` list."
   ]
  },
  {
   "cell_type": "code",
   "execution_count": 12,
   "id": "eed272bb",
   "metadata": {
    "deletable": false,
    "nbgrader": {
     "cell_type": "code",
     "checksum": "9480ef83d9e22863d1b336333e388c9c",
     "grade": false,
     "grade_id": "cell-93d55293e5fb25d7",
     "locked": false,
     "schema_version": 3,
     "solution": true,
     "task": false
    }
   },
   "outputs": [
    {
     "name": "stdout",
     "output_type": "stream",
     "text": [
      "(891, 3)\n",
      "(891, 7)\n",
      "(891, 3)\n"
     ]
    }
   ],
   "source": [
    "from sklearn.preprocessing import OneHotEncoder\n",
    "\n",
    "categorical_features = [\"class\", \"deck\", \"embark_town\"] # Fill in the colum names of the categorical features\n",
    "\n",
    "encoder = OneHotEncoder(sparse=False)\n",
    "categorical_feature_matrix = []\n",
    "for feature in categorical_features:\n",
    "    one_hot_encoded_feature = encoder.fit_transform(titanic[feature].to_numpy().reshape(-1, 1))\n",
    "    # Understand the new shape of the feature?\n",
    "    print(one_hot_encoded_feature.shape)\n",
    "    # now add it to the dataset and drop the original feature\n",
    "    categorical_feature_matrix.append(one_hot_encoded_feature)"
   ]
  },
  {
   "cell_type": "code",
   "execution_count": null,
   "id": "2736440f",
   "metadata": {
    "deletable": false,
    "editable": false,
    "nbgrader": {
     "cell_type": "code",
     "checksum": "ccae78abc1c88224c776c52b262c217e",
     "grade": true,
     "grade_id": "cell-399a24e4d271aa76",
     "locked": true,
     "points": 1,
     "schema_version": 3,
     "solution": false,
     "task": false
    }
   },
   "outputs": [],
   "source": []
  },
  {
   "cell_type": "markdown",
   "id": "aedd436c",
   "metadata": {
    "deletable": false,
    "editable": false,
    "nbgrader": {
     "cell_type": "markdown",
     "checksum": "baacdba8d7c923e541ad72cc8f253c6f",
     "grade": false,
     "grade_id": "cell-8a03e06eca1d9adf",
     "locked": true,
     "schema_version": 3,
     "solution": false,
     "task": false
    }
   },
   "source": [
    "Next up we will divide the data up into train and test, and scale the data using the familiar `StandardScaler`. Remember, we don't want to do this on the categorical features. The easiest way to do this is to get the indices of train and test from `train_test_split`, so that you can select the right indices from both the continous and categorical arrays. Of course you don't have to do anything with the `survived` column, as this will be our target."
   ]
  },
  {
   "cell_type": "markdown",
   "id": "ad4bcd7d",
   "metadata": {},
   "source": [
    "# Soms doet de shape raar, miss door de lage #values?"
   ]
  },
  {
   "cell_type": "code",
   "execution_count": 13,
   "id": "4cd1cdd3",
   "metadata": {
    "deletable": false,
    "nbgrader": {
     "cell_type": "code",
     "checksum": "a57b70b7cf250188a65782aef7eb1892",
     "grade": false,
     "grade_id": "cell-7d161d16981dff1e",
     "locked": false,
     "schema_version": 3,
     "solution": true,
     "task": false
    }
   },
   "outputs": [
    {
     "name": "stdout",
     "output_type": "stream",
     "text": [
      "(712, 6) (179, 6) (712,) (179,)\n"
     ]
    },
    {
     "data": {
      "text/plain": [
       "((712, 16), (179, 16))"
      ]
     },
     "execution_count": 13,
     "metadata": {},
     "output_type": "execute_result"
    }
   ],
   "source": [
    "# look at this function, it works like a Pipeline object, and is super helpful in \n",
    "# our case, where we wanto to apply different transformations to different columns\n",
    "# There is also a really nice example in the documentation! We also want to use the StandardScalar and OneHotEncoder\n",
    "# (although a bit unclear, you can give a list with multiple features for each of the transformers)\n",
    "from sklearn.compose import make_column_transformer\n",
    "\n",
    "continuous_features = [\"age\", \"parch\", \"fare\"] # fill in the categorical features\n",
    "\n",
    "X = titanic.drop(\"survived\", axis=1)\n",
    "\n",
    "X_train, X_test, y_train, y_test = train_test_split(X, titanic[\"survived\"], test_size=0.2)\n",
    "\n",
    "scaler_and_oneh_encoder = make_column_transformer((StandardScaler(), continuous_features),\n",
    "                                                  (OneHotEncoder(), categorical_features))\n",
    " # fill this in, using the right transformer for the right columns with the lists you already made\n",
    "\n",
    "\n",
    "print(X_train.shape, X_test.shape, y_train.shape, y_test.shape)\n",
    "\n",
    "X_train_scaled_and_encoded = scaler_and_oneh_encoder.fit_transform(X_train)\n",
    "X_test_scaled_and_encoded = scaler_and_oneh_encoder.transform(X_test)\n",
    "#Now we Z transform the variables\n",
    "#WRITE YOUR CODE HERE\n",
    "X_train_scaled_and_encoded.shape, X_test_scaled_and_encoded.shape"
   ]
  },
  {
   "cell_type": "code",
   "execution_count": 14,
   "id": "6dda75cf-773c-4f8d-b289-021ebdb2e124",
   "metadata": {
    "deletable": false,
    "editable": false,
    "nbgrader": {
     "cell_type": "code",
     "checksum": "62f56dc1545232515f96453c795ea0ae",
     "grade": true,
     "grade_id": "cell-e7008c5b555cea7b",
     "locked": true,
     "points": 1,
     "schema_version": 3,
     "solution": false,
     "task": false
    }
   },
   "outputs": [],
   "source": [
    "assert_equal(titanic['age'].isna().sum(), 0)\n",
    "# are the sizes of the train and test sets correct?\n",
    "assert_equal(X_train_scaled_and_encoded.shape, (712, 16))\n",
    "assert_equal(X_test_scaled_and_encoded.shape, (179, 16))"
   ]
  },
  {
   "cell_type": "markdown",
   "id": "6506524b",
   "metadata": {
    "deletable": false,
    "editable": false,
    "nbgrader": {
     "cell_type": "markdown",
     "checksum": "07ffedbb535be2d4ed89cac9cc902b2b",
     "grade": false,
     "grade_id": "cell-48dde941fcafc19f",
     "locked": true,
     "schema_version": 3,
     "solution": false,
     "task": false
    }
   },
   "source": [
    "Now that we have processed the data, we will run the logistic classification model, complete the code in the cell below."
   ]
  },
  {
   "cell_type": "code",
   "execution_count": 15,
   "id": "e4073bfc",
   "metadata": {
    "deletable": false,
    "nbgrader": {
     "cell_type": "code",
     "checksum": "77cd80eeb95ae2a701c89e58e9ed5f5a",
     "grade": false,
     "grade_id": "cell-c422b8822caeed66",
     "locked": false,
     "schema_version": 3,
     "solution": true,
     "task": false
    }
   },
   "outputs": [
    {
     "data": {
      "text/plain": [
       "(0.7120786516853933, 0.7262569832402235)"
      ]
     },
     "execution_count": 15,
     "metadata": {},
     "output_type": "execute_result"
    }
   ],
   "source": [
    "from sklearn.linear_model import LogisticRegression\n",
    "from sklearn.metrics import accuracy_score\n",
    "\n",
    "logistic_model = LogisticRegression().fit(X_train_scaled_and_encoded, y_train)\n",
    "predictions = logistic_model.predict(X_test_scaled_and_encoded)\n",
    "regression_weights = logistic_model.coef_\n",
    "r2 = logistic_model.score(X_train_scaled_and_encoded, y_train)\n",
    "rmse = accuracy_score(y_test, predictions)\n",
    "\n",
    "r2, rmse"
   ]
  },
  {
   "cell_type": "code",
   "execution_count": 16,
   "id": "721e68b1",
   "metadata": {
    "deletable": false,
    "editable": false,
    "nbgrader": {
     "cell_type": "code",
     "checksum": "7ab2477213dae33cc66ed9e2aa2a8907",
     "grade": true,
     "grade_id": "cell-187a6c9889346d8e",
     "locked": true,
     "points": 1,
     "schema_version": 3,
     "solution": false,
     "task": false
    }
   },
   "outputs": [],
   "source": [
    "assert_equal(predictions.shape[0], 179)"
   ]
  },
  {
   "cell_type": "markdown",
   "id": "660d45b5",
   "metadata": {
    "deletable": false,
    "editable": false,
    "nbgrader": {
     "cell_type": "markdown",
     "checksum": "bea99d82266a1e6c860012910712f5cf",
     "grade": false,
     "grade_id": "cell-5a2d4cfa4eeed89b",
     "locked": true,
     "schema_version": 3,
     "solution": false,
     "task": false
    }
   },
   "source": [
    "## P2 Grid Search\n",
    "\n",
    "Here, do a grid search over the parameters of the Logistic Regression model, we have already given the ranges\n",
    "for the variables that we want you to try, for this, split the data into train, and test, and use this training with the gridsearch function with the cross validation set to 5. Use the data you created in the previous exercise.\n",
    "\n",
    "HINT: sklearn does not have a function to directly split a dataset into train, validation and test, but you can use `train_test_split` twice, once to create separate train and test sets, and then once more to split the train set into a train and validation portion. Do a 60/20/20 split.\n",
    "\n",
    "Fill in the `best_params` variable, which should be a dict that contains for each parameter the best option that you found. You might get some warnings about convergence, but you can leave these as is."
   ]
  },
  {
   "cell_type": "code",
   "execution_count": 18,
   "id": "7106e5ec-e44d-42f7-b076-d2e18006821d",
   "metadata": {
    "deletable": false,
    "nbgrader": {
     "cell_type": "code",
     "checksum": "bcd6a03e075149c169be977d1bc1eb14",
     "grade": false,
     "grade_id": "cell-c108ccc33931ba14",
     "locked": false,
     "schema_version": 3,
     "solution": true,
     "task": false
    }
   },
   "outputs": [],
   "source": [
    "# np.random.seed(31415)# Do not remove this\n",
    "\n",
    "# # Define parameter grid for grid search\n",
    "# param_grid = {'penalty': ['l1', 'l2'],\n",
    "#               'C': [0.00001, 0.01, 0.1, 1, 10],\n",
    "#               'solver': ['liblinear', 'saga']}\n",
    "\n",
    "# # Perform grid search with cross-validation on the validation set\n",
    "# # to get the best model\n",
    "# best_params = dict() # replace with your answer\n",
    "\n",
    "# X_train, X_test, y_train, y_test = train_test_split(X, titanic[\"survived\"], test_size=0.4)\n",
    "# X_val, X_test, y_val, y_test = train_test_split(X_test, y_test, test_size=0.5)\n",
    "\n",
    "# X_train_scaled_and_encoded = scaler_and_oneh_encoder.fit_transform(X_train)\n",
    "# X_test_scaled_and_encoded = scaler_and_oneh_encoder.fit_transform(X_test)\n",
    "# X_val_scaled_and_encoded = scaler_and_oneh_encoder.fit_transform(X_val)\n",
    "\n",
    "# optimaal = -1\n",
    "\n",
    "# for penalty in param_grid['penalty']:\n",
    "#     for C in param_grid['C']:\n",
    "#         for solver in param_grid['solver']:\n",
    "#             logreg = LogisticRegression(random_state=42, C=C, solver=solver, penalty = penalty)\n",
    "#             value_mean = cross_val_score(logreg, X_test_scaled_and_encoded, y_test, cv=5).mean()\n",
    "#             if value_mean > optimaal:\n",
    "#                 optimaal = value_mean\n",
    "#                 best_params = {'pentalty':penalty, 'C':C, 'solver':solver}\n",
    "# logreg = LogisticRegression(random_state=42, C=best_params['C'], solver=best_params['solver'], penalty = best_params['penalty'])\n",
    "# logreg.fit(X_val_scaled_and_encoded, y_val)\n",
    "# # test_score = cross_val_score(logreg, X_val_scaled_and_encoded, y_val, cv=5)\n",
    "# # print(test_score.mean(), \"test\")\n",
    "\n",
    "\n",
    "\n",
    "# #WRITE YOUR CODE HERE\n",
    "\n",
    "# # Run the best model on the test set\n",
    "# best_model_predictions = None\n",
    "# #WRITE YOUR CODE HERE"
   ]
  },
  {
   "cell_type": "code",
   "execution_count": 19,
   "id": "58893941",
   "metadata": {},
   "outputs": [
    {
     "name": "stdout",
     "output_type": "stream",
     "text": [
      "CPU times: user 2 µs, sys: 1 µs, total: 3 µs\n",
      "Wall time: 4.77 µs\n"
     ]
    },
    {
     "name": "stderr",
     "output_type": "stream",
     "text": [
      "/Users/basten/opt/anaconda3/lib/python3.9/site-packages/sklearn/linear_model/_sag.py:328: ConvergenceWarning: The max_iter was reached which means the coef_ did not converge\n",
      "  warnings.warn(\"The max_iter was reached which means \"\n",
      "/Users/basten/opt/anaconda3/lib/python3.9/site-packages/sklearn/linear_model/_sag.py:328: ConvergenceWarning: The max_iter was reached which means the coef_ did not converge\n",
      "  warnings.warn(\"The max_iter was reached which means \"\n",
      "/Users/basten/opt/anaconda3/lib/python3.9/site-packages/sklearn/linear_model/_sag.py:328: ConvergenceWarning: The max_iter was reached which means the coef_ did not converge\n",
      "  warnings.warn(\"The max_iter was reached which means \"\n",
      "/Users/basten/opt/anaconda3/lib/python3.9/site-packages/sklearn/linear_model/_sag.py:328: ConvergenceWarning: The max_iter was reached which means the coef_ did not converge\n",
      "  warnings.warn(\"The max_iter was reached which means \"\n",
      "/Users/basten/opt/anaconda3/lib/python3.9/site-packages/sklearn/linear_model/_sag.py:328: ConvergenceWarning: The max_iter was reached which means the coef_ did not converge\n",
      "  warnings.warn(\"The max_iter was reached which means \"\n",
      "/Users/basten/opt/anaconda3/lib/python3.9/site-packages/sklearn/linear_model/_sag.py:328: ConvergenceWarning: The max_iter was reached which means the coef_ did not converge\n",
      "  warnings.warn(\"The max_iter was reached which means \"\n",
      "/Users/basten/opt/anaconda3/lib/python3.9/site-packages/sklearn/linear_model/_sag.py:328: ConvergenceWarning: The max_iter was reached which means the coef_ did not converge\n",
      "  warnings.warn(\"The max_iter was reached which means \"\n",
      "/Users/basten/opt/anaconda3/lib/python3.9/site-packages/sklearn/linear_model/_sag.py:328: ConvergenceWarning: The max_iter was reached which means the coef_ did not converge\n",
      "  warnings.warn(\"The max_iter was reached which means \"\n",
      "/Users/basten/opt/anaconda3/lib/python3.9/site-packages/sklearn/linear_model/_sag.py:328: ConvergenceWarning: The max_iter was reached which means the coef_ did not converge\n",
      "  warnings.warn(\"The max_iter was reached which means \"\n",
      "/Users/basten/opt/anaconda3/lib/python3.9/site-packages/sklearn/linear_model/_sag.py:328: ConvergenceWarning: The max_iter was reached which means the coef_ did not converge\n",
      "  warnings.warn(\"The max_iter was reached which means \"\n",
      "/Users/basten/opt/anaconda3/lib/python3.9/site-packages/sklearn/linear_model/_sag.py:328: ConvergenceWarning: The max_iter was reached which means the coef_ did not converge\n",
      "  warnings.warn(\"The max_iter was reached which means \"\n",
      "/Users/basten/opt/anaconda3/lib/python3.9/site-packages/sklearn/linear_model/_sag.py:328: ConvergenceWarning: The max_iter was reached which means the coef_ did not converge\n",
      "  warnings.warn(\"The max_iter was reached which means \"\n",
      "/Users/basten/opt/anaconda3/lib/python3.9/site-packages/sklearn/linear_model/_sag.py:328: ConvergenceWarning: The max_iter was reached which means the coef_ did not converge\n",
      "  warnings.warn(\"The max_iter was reached which means \"\n",
      "/Users/basten/opt/anaconda3/lib/python3.9/site-packages/sklearn/linear_model/_sag.py:328: ConvergenceWarning: The max_iter was reached which means the coef_ did not converge\n",
      "  warnings.warn(\"The max_iter was reached which means \"\n",
      "/Users/basten/opt/anaconda3/lib/python3.9/site-packages/sklearn/linear_model/_sag.py:328: ConvergenceWarning: The max_iter was reached which means the coef_ did not converge\n",
      "  warnings.warn(\"The max_iter was reached which means \"\n",
      "/Users/basten/opt/anaconda3/lib/python3.9/site-packages/sklearn/linear_model/_sag.py:328: ConvergenceWarning: The max_iter was reached which means the coef_ did not converge\n",
      "  warnings.warn(\"The max_iter was reached which means \"\n",
      "/Users/basten/opt/anaconda3/lib/python3.9/site-packages/sklearn/linear_model/_sag.py:328: ConvergenceWarning: The max_iter was reached which means the coef_ did not converge\n",
      "  warnings.warn(\"The max_iter was reached which means \"\n",
      "/Users/basten/opt/anaconda3/lib/python3.9/site-packages/sklearn/linear_model/_sag.py:328: ConvergenceWarning: The max_iter was reached which means the coef_ did not converge\n",
      "  warnings.warn(\"The max_iter was reached which means \"\n"
     ]
    },
    {
     "name": "stdout",
     "output_type": "stream",
     "text": [
      "LogisticRegression(C=1, penalty='l1', random_state=42, solver='saga')\n"
     ]
    },
    {
     "name": "stderr",
     "output_type": "stream",
     "text": [
      "/Users/basten/opt/anaconda3/lib/python3.9/site-packages/sklearn/linear_model/_sag.py:328: ConvergenceWarning: The max_iter was reached which means the coef_ did not converge\n",
      "  warnings.warn(\"The max_iter was reached which means \"\n",
      "/Users/basten/opt/anaconda3/lib/python3.9/site-packages/sklearn/linear_model/_sag.py:328: ConvergenceWarning: The max_iter was reached which means the coef_ did not converge\n",
      "  warnings.warn(\"The max_iter was reached which means \"\n",
      "/Users/basten/opt/anaconda3/lib/python3.9/site-packages/sklearn/linear_model/_sag.py:328: ConvergenceWarning: The max_iter was reached which means the coef_ did not converge\n",
      "  warnings.warn(\"The max_iter was reached which means \"\n",
      "/Users/basten/opt/anaconda3/lib/python3.9/site-packages/sklearn/linear_model/_sag.py:328: ConvergenceWarning: The max_iter was reached which means the coef_ did not converge\n",
      "  warnings.warn(\"The max_iter was reached which means \"\n"
     ]
    }
   ],
   "source": [
    "%time\n",
    "from sklearn.model_selection import train_test_split\n",
    "from sklearn.linear_model import LogisticRegression\n",
    "from sklearn.preprocessing import StandardScaler, OneHotEncoder\n",
    "from sklearn.compose import ColumnTransformer\n",
    "from sklearn.model_selection import GridSearchCV\n",
    "\n",
    "\n",
    "np.random.seed(31415)# Do not remove this\n",
    "\n",
    "# Define parameter grid for grid search\n",
    "param_grid = {'penalty': ['l1', 'l2'],\n",
    "              'C': [0.00001, 0.01, 0.1, 1, 10],\n",
    "              'solver': ['liblinear', 'saga']}\n",
    "\n",
    "# Perform grid search with cross-validation on the validation set\n",
    "# to get the best model\n",
    "best_params = dict() # replace with your answer\n",
    "\n",
    "X_train, X_test, y_train, y_test = train_test_split(X, titanic[\"survived\"], test_size=0.4)\n",
    "X_val, X_test, y_val, y_test = train_test_split(X_test, y_test, test_size=0.5)\n",
    "\n",
    "preprocessor = ColumnTransformer([\n",
    "    ('num', StandardScaler(), continuous_features),\n",
    "    ('cat', OneHotEncoder(), categorical_features)\n",
    "])\n",
    "\n",
    "# Apply preprocessing to train, validation, and test sets\n",
    "X_train_preprocessed = preprocessor.fit_transform(X_train)\n",
    "X_val_preprocessed = preprocessor.transform(X_val)\n",
    "X_test_preprocessed = preprocessor.transform(X_test)\n",
    "\n",
    "logreg = LogisticRegression(random_state=42)\n",
    "\n",
    "# Create the GridSearchCV object\n",
    "grid_search = GridSearchCV(logreg, param_grid, cv=5)\n",
    "\n",
    "# Fit the GridSearchCV object on the preprocessed validation data\n",
    "grid_search.fit(X_val_preprocessed, y_val)\n",
    "\n",
    "# Get the best model and its predictions\n",
    "best_model = grid_search.best_estimator_\n",
    "best_model_predictions = best_model.predict(X_test_preprocessed)\n",
    "print(grid_search.best_estimator_)"
   ]
  },
  {
   "cell_type": "code",
   "execution_count": 20,
   "id": "b8f868e0-613f-4a89-8b8d-6db38391b1bd",
   "metadata": {
    "deletable": false,
    "editable": false,
    "nbgrader": {
     "cell_type": "code",
     "checksum": "e1e6ccc400493a444e13d0a9cb6c7f8a",
     "grade": true,
     "grade_id": "cell-a08bbae2502e17c1",
     "locked": true,
     "points": 1,
     "schema_version": 3,
     "solution": false,
     "task": false
    }
   },
   "outputs": [],
   "source": [
    "assert_equal(type(best_params), dict)\n",
    "assert_equal(best_model_predictions.shape[0], 179)"
   ]
  },
  {
   "cell_type": "code",
   "execution_count": 21,
   "id": "85c493bb",
   "metadata": {
    "deletable": false,
    "nbgrader": {
     "cell_type": "code",
     "checksum": "7bd0a8387ef9a71a37e0c20a70359a50",
     "grade": true,
     "grade_id": "cell-2aff6aeef568b100",
     "locked": false,
     "points": 1,
     "schema_version": 3,
     "solution": true,
     "task": false
    }
   },
   "outputs": [],
   "source": [
    "#WRITE YOUR CODE HERE"
   ]
  },
  {
   "cell_type": "markdown",
   "id": "7c0e70b7",
   "metadata": {
    "deletable": false,
    "editable": false,
    "nbgrader": {
     "cell_type": "markdown",
     "checksum": "3c8423c3104bb0eb4c0a7b4aa8340be2",
     "grade": false,
     "grade_id": "cell-29a8e08f3945a347",
     "locked": true,
     "schema_version": 3,
     "solution": false,
     "task": false
    }
   },
   "source": [
    "## P3 More Models\n",
    "\n",
    "* Train two other models, SVM and  random forest, as described in the Data Science Handbook notebooks.\n",
    "* Report the scores of the three models using `weighted average` for P, R and F1, and conclude.\n",
    "* Can you indicate where improvements are made, if any?\n",
    "* Give a report with a dataframe containing P, R and F1 scores per class for each model, and a dataframe with the confidence intervals of the models. See on example below of how it should look like. You can use the train test splits that you created in part 1 for this exercise.\n",
    "\n",
    "|                     |   precision |   recall |   f1-score |\n",
    "|:--------------------|------------:|---------:|-----------:|\n",
    "| Logistic Regression |        -    |     -    |       -    |\n",
    "| SVM                 |        -    |     -    |       -    |\n",
    "| Random Forest       |        -    |     -    |       -    |"
   ]
  },
  {
   "cell_type": "code",
   "execution_count": 25,
   "id": "5b4a7089",
   "metadata": {},
   "outputs": [
    {
     "name": "stdout",
     "output_type": "stream",
     "text": [
      "(179,) (534,)\n"
     ]
    }
   ],
   "source": [
    "print(y_test.shape, y_train.shape)"
   ]
  },
  {
   "cell_type": "code",
   "execution_count": 33,
   "id": "73331e5d-9319-4cfe-ad40-be62bc806b17",
   "metadata": {
    "deletable": false,
    "nbgrader": {
     "cell_type": "code",
     "checksum": "342f1e35dc6e5bf6989584e324c49e1d",
     "grade": false,
     "grade_id": "cell-46fb1bca58652f1a",
     "locked": false,
     "schema_version": 3,
     "solution": true,
     "task": false
    }
   },
   "outputs": [],
   "source": [
    "# from sklearn.svm import SVC\n",
    "# from sklearn.ensemble import RandomForestClassifier\n",
    "# from sklearn.model_selection import train_test_split\n",
    "# from sklearn.linear_model import LogisticRegression\n",
    "# from sklearn.preprocessing import StandardScaler, OneHotEncoder\n",
    "# from sklearn.compose import ColumnTransformer\n",
    "\n",
    "# # Evaluate models on the test set\n",
    "# svm_predictions = None\n",
    "# random_forest_predictions = None\n",
    "# logreg_predictions = None\n",
    "\n",
    "# logreg = LogisticRegression()\n",
    "# forest = RandomForestClassifier()\n",
    "# svc = SVC()\n",
    "\n",
    "# forest.fit(X_train_scaled_and_encoded, y_train)\n",
    "# predicted_labels_forest = forest.predict(X_test_scaled_and_encoded)\n",
    "\n",
    "# logreg.fit(X_train_scaled_and_encoded, y_train)\n",
    "# predicted_labels_logreg = logreg.predict(X_test_scaled_and_encoded)\n",
    "\n",
    "# svc.fit(X_train_scaled_and_encoded, y_train)\n",
    "# predicted_labels_svc = svc.predict(X_test_scaled_and_encoded)\n",
    "\n",
    "# svm_predictions = predicted_labels_svc\n",
    "# random_forest_predictions = predicted_labels\n",
    "# logreg_predictions = predicted_labels_logreg\n",
    "\n",
    "# # print(svm_predictions, random_forest_predictions, logreg_predictions)"
   ]
  },
  {
   "cell_type": "code",
   "execution_count": 36,
   "id": "ff1cb0f6",
   "metadata": {},
   "outputs": [],
   "source": [
    "from sklearn.svm import SVC\n",
    "from sklearn.ensemble import RandomForestClassifier\n",
    "\n",
    "# Evaluate models on the test set\n",
    "svm_predictions = SVC().fit(X_train_scaled_and_encoded, y_train).predict(X_test_scaled_and_encoded)\n",
    "random_forest_predictions = RandomForestClassifier().fit(X_train_scaled_and_encoded, y_train).predict(X_test_scaled_and_encoded)\n",
    "logreg_predictions = LogisticRegression().fit(X_train_scaled_and_encoded, y_train).predict(X_test_scaled_and_encoded)"
   ]
  },
  {
   "cell_type": "code",
   "execution_count": 37,
   "id": "5a66438f",
   "metadata": {},
   "outputs": [
    {
     "data": {
      "text/plain": [
       "(179, 16)"
      ]
     },
     "execution_count": 37,
     "metadata": {},
     "output_type": "execute_result"
    }
   ],
   "source": [
    "X_test_scaled_and_encoded.shape"
   ]
  },
  {
   "cell_type": "code",
   "execution_count": 38,
   "id": "1f9e8dbd",
   "metadata": {
    "deletable": false,
    "editable": false,
    "nbgrader": {
     "cell_type": "code",
     "checksum": "5678231a5fd0b3f7cd477aa7f1b5d565",
     "grade": true,
     "grade_id": "cell-daa08f668859d9cc",
     "locked": true,
     "points": 0,
     "schema_version": 3,
     "solution": false,
     "task": false
    }
   },
   "outputs": [],
   "source": [
    "assert_equal(svm_predictions.shape[0], 179)\n",
    "assert_equal(random_forest_predictions.shape[0], 179)\n",
    "assert_equal(logreg_predictions.shape[0], 179)\n"
   ]
  },
  {
   "cell_type": "markdown",
   "id": "99a9a3fb",
   "metadata": {
    "deletable": false,
    "nbgrader": {
     "cell_type": "markdown",
     "checksum": "7cb1525197929d5b9d0147b37d6f9656",
     "grade": true,
     "grade_id": "cell-dc9c6fd961c89fca",
     "locked": false,
     "points": 1,
     "schema_version": 3,
     "solution": true,
     "task": false
    }
   },
   "source": [
    "YOUR ANSWER HERE"
   ]
  },
  {
   "cell_type": "markdown",
   "id": "09b3d9d2",
   "metadata": {
    "deletable": false,
    "editable": false,
    "nbgrader": {
     "cell_type": "markdown",
     "checksum": "b4fd7a05bec4c0384582c4c72addb081",
     "grade": false,
     "grade_id": "cell-1b8a35db06db8cff",
     "locked": true,
     "schema_version": 3,
     "solution": false,
     "task": false
    }
   },
   "source": [
    "<a id=\"text_classification\" />"
   ]
  },
  {
   "cell_type": "markdown",
   "id": "79d67258",
   "metadata": {
    "deletable": false,
    "editable": false,
    "nbgrader": {
     "cell_type": "markdown",
     "checksum": "debe1717d042fa9ec84bb35d4626d99b",
     "grade": false,
     "grade_id": "tc",
     "locked": true,
     "schema_version": 3,
     "solution": false
    }
   },
   "source": [
    "# Text classification\n",
    "\n",
    "We will now look at a famous set of texts, 20 newsgroups, which even comes with scikit learn. It contains a collection of documents/messages from 20 different Newsgroups, which are basically forums where people are discussing certain topics or asking questions. Each of the documents is labelled with the newsgroup it belongs to and the task is to determine the label of the document based on the contents of the document.\n",
    "\n",
    "1. Take a look at the code in [this blogpost](https://towardsdatascience.com/machine-learning-nlp-text-classification-using-scikit-learn-python-and-nltk-c52b92a7c73a).\n",
    "    * The post does a number of things, and tries out two classifiers, Naive Bayes en SVM, only reports accuracy, and does a tiny bit of preprocessing. \n",
    "    * Surely you can do better! ;-)\n",
    "    \n",
    "We will expand on the notebook by making several changes/updates, all of which are described below, which we will do one by one. We have given you the original code from the notebook as a starting point, and we will add to it in the questions.\n",
    "\n",
    "Because of the size of the dataset, we will use a subsample of the data to make it a bit easier for you to work with.\n",
    "\n",
    "### 1 More elaborate evaluation\n",
    "\n",
    "You want to see the P, R and F1 for every class, and also the confusion matrix. Make it, and explain the findings. Which newsgroups are easy, which ones tend to get confused? Do not write down in words what is immediately visible in the plots and tables, but guide the reader and give insight.\n",
    "\n",
    "### 2 More learning algorithms\n",
    "\n",
    "Our all time favorite, logisctic regression of course, plus another of your choice. Compare the four you have now, and discuss. Do not just compare on accuracy. \n",
    "\n",
    "Do not just run a default and that's it. Optimize the relevant hyperparameters using a grid search.\n",
    "\n",
    "### 3 Feature engineering\n",
    "\n",
    "\n",
    "Do `CountVectorizer?`. OMG what a lot of possibilities! Make a much simpler, language independent representation by counting not words, but *character ngrams*. Do 2,3, and 4 grams. You may also play with the `max_df` and `min_df`. Play around a bit, and notice the difference in the number of dimensions.\n",
    "\n",
    "### 4 Baseline\n",
    "\n",
    "What should you consider an reasonable baseline for multiclass text classification? What algorithm and what representation of the text? Motivate your answer.\n",
    "\n",
    "### 5 Reduce dimensions\n",
    "\n",
    "Use PCA to bring all dimensions down to two, plot the documents in this new space and color them by their class, and report. Do you see the easy and hard to separate classes back here?\n",
    "\n",
    "### Extra \n",
    "If you are interested, use the parsimonious language models programmed in `https://github.com/larsmans/weighwords` to create a small language model for each class. Print the top 10-20 terms for each class. Do they make sense? Can you use these highly separating terms only for a classifier? Think of a simple implementation, and try it out.\n",
    "    "
   ]
  },
  {
   "cell_type": "code",
   "execution_count": null,
   "id": "11c3bcff-0ac2-4e5b-a237-24310f0e6012",
   "metadata": {
    "deletable": false,
    "editable": false,
    "nbgrader": {
     "cell_type": "code",
     "checksum": "8100fd76ed298319fbe0fffb5f82a1ed",
     "grade": false,
     "grade_id": "cell-fc22d42e4b507204",
     "locked": true,
     "schema_version": 3,
     "solution": false,
     "task": false
    }
   },
   "outputs": [],
   "source": [
    "import numpy as np\n",
    "from sklearn.pipeline import Pipeline\n",
    "from sklearn.naive_bayes import MultinomialNB\n",
    "from sklearn.linear_model import SGDClassifier\n",
    "from sklearn.datasets import fetch_20newsgroups\n",
    "from sklearn.feature_extraction.text import CountVectorizer\n",
    "from sklearn.feature_extraction.text import TfidfTransformer"
   ]
  },
  {
   "cell_type": "code",
   "execution_count": null,
   "id": "990f47cb",
   "metadata": {
    "deletable": false,
    "editable": false,
    "nbgrader": {
     "cell_type": "code",
     "checksum": "7e70e64d5eb43d43b96aa294bc5a3b38",
     "grade": false,
     "grade_id": "cell-a1a94a65284424ea",
     "locked": true,
     "schema_version": 3,
     "solution": false,
     "task": false
    }
   },
   "outputs": [],
   "source": [
    "# This will download the data, this can take a while.\n",
    "twenty_train = fetch_20newsgroups(subset='train', shuffle=True)\n",
    "twenty_test = fetch_20newsgroups(subset='test', shuffle=True)\n",
    "\n",
    "# Let's take a look at the labels of the dataset\n",
    "print(twenty_train.target_names)\n",
    "print()\n",
    "#print the first document in the dataset\n",
    "print(twenty_train.data[0])"
   ]
  },
  {
   "cell_type": "markdown",
   "id": "80ebeef2",
   "metadata": {
    "deletable": false,
    "editable": false,
    "nbgrader": {
     "cell_type": "markdown",
     "checksum": "1c335cba782d4411f18eafc7e9444b99",
     "grade": false,
     "grade_id": "cell-c77a5a7fefbc466d",
     "locked": true,
     "schema_version": 3,
     "solution": false,
     "task": false
    }
   },
   "source": [
    "Below we have given you the original code from the blogpost where the SVM and SGD classifiers are implemented. Make sure you carefully read the blogpost, and that you really know what is going on here, this will help in the rest of the exercises. Note that with the parameters the way they are, the `SGDClassifier` acts as an SVM model."
   ]
  },
  {
   "cell_type": "code",
   "execution_count": null,
   "id": "23a8ef7a",
   "metadata": {
    "deletable": false,
    "editable": false,
    "nbgrader": {
     "cell_type": "code",
     "checksum": "6ed7f62eff452cdb9dd1acc1232b3750",
     "grade": false,
     "grade_id": "cell-80ed62d269d3d90f",
     "locked": true,
     "schema_version": 3,
     "solution": false,
     "task": false
    }
   },
   "outputs": [],
   "source": [
    "\n",
    "from sklearn.linear_model import SGDClassifier\n",
    "from sklearn.naive_bayes import MultinomialNB\n",
    "\n",
    "text_clf_mnb = Pipeline([('vect', CountVectorizer(max_df=0.95, min_df=0.05)),\n",
    "                     ('tfidf', TfidfTransformer()),\n",
    "                     ('clf', MultinomialNB()),\n",
    "                    ])\n",
    "\n",
    "text_clf_svm = Pipeline([('vect', CountVectorizer(max_df=0.95, min_df=0.05)),\n",
    "                     ('tfidf', TfidfTransformer()),\n",
    "                     ('clf-svm', SGDClassifier(loss='hinge', penalty='l2',\n",
    "                                           alpha=1e-3, n_iter_no_change=5, random_state=42)),\n",
    "])\n",
    "\n",
    "# Get the bayes predictions\n",
    "text_clf_mnb.fit(twenty_train.data, twenty_train.target)\n",
    "predicted_mnb = text_clf_mnb.predict(twenty_test.data)\n",
    "\n",
    "# Get the SVM predictions\n",
    "text_clf_svm.fit(twenty_train.data, twenty_train.target)\n",
    "predicted_svm = text_clf_svm.predict(twenty_test.data)\n",
    "\n",
    "print(predicted_mnb.shape, predicted_svm.shape)"
   ]
  },
  {
   "cell_type": "markdown",
   "id": "cc554f72",
   "metadata": {
    "deletable": false,
    "editable": false,
    "nbgrader": {
     "cell_type": "markdown",
     "checksum": "8e79a69265f1d237fe236c4529028415",
     "grade": false,
     "grade_id": "cell-1d422a06ab545d4d",
     "locked": true,
     "schema_version": 3,
     "solution": false,
     "task": false
    }
   },
   "source": [
    "### 1 More elaborate evaluation\n",
    "\n",
    "You want to see the P, R and F1 for every class, and also the confusion matrix. Make it, and explain the findings. Which newsgroups are easy, which ones tend to get confused? Do not write down in words what is immediately visible in the plots and tables, but guide the reader and give insight. Does it make sense that some of these categories might get confused?"
   ]
  },
  {
   "cell_type": "code",
   "execution_count": null,
   "id": "a36bd8a3",
   "metadata": {
    "deletable": false,
    "nbgrader": {
     "cell_type": "code",
     "checksum": "1f9f96c55df846fc5a35fececb32be44",
     "grade": true,
     "grade_id": "cell-03f9026a7ee86d03",
     "locked": false,
     "points": 1,
     "schema_version": 3,
     "solution": true,
     "task": false
    }
   },
   "outputs": [],
   "source": [
    "import matplotlib.pyplot as plt\n",
    "from sklearn.metrics import classification_report, confusion_matrix, ConfusionMatrixDisplay\n",
    "\n",
    "mnb_confusion_matrix = None\n",
    "svm_confusion_matrix = None\n",
    "\n",
    "#WRITE YOUR CODE HERE\n",
    "\n",
    "#plot MultinomialNB\n",
    "mnb_matrix = ConfusionMatrixDisplay(confusion_matrix=mnb_confusion_matrix,\n",
    "                              display_labels=text_clf_mnb.classes_)\n",
    "mnb_matrix.colorbar = False\n",
    "# Plot SVM\n",
    "svm_matrix = ConfusionMatrixDisplay(confusion_matrix=svm_confusion_matrix,\n",
    "                              display_labels=text_clf_svm.classes_)\n",
    "\n",
    "# Create a larger figure and axis\n",
    "fig, axes = plt.subplots(figsize=(16, 16), nrows=1, ncols=2)  # You can adjust the numbers to your desired size\n",
    "\n",
    "# Plot the confusion matrix on the larger axis\n",
    "mnb_matrix.plot(ax=axes[0], colorbar=False)\n",
    "svm_matrix.plot(ax=axes[1], colorbar=False)\n",
    "\n",
    "axes[0].set_title(\"Confusion Matrix for Multinomial Bayes Model\")\n",
    "axes[1].set_title(\"Confusion Matrix for Support Vector Machine Model\")\n",
    "\n",
    "# Set some nicer colorbars than the default\n",
    "cax_1 = fig.add_axes([axes[0].get_position().x1+0.01,axes[0].get_position().y0,0.02,axes[0].get_position().height])\n",
    "plt.colorbar(mnb_matrix.im_,  cax=cax_1)\n",
    "\n",
    "cax_2 = fig.add_axes([axes[1].get_position().x1+0.01,axes[1].get_position().y0,0.02,axes[1].get_position().height])\n",
    "plt.colorbar(svm_matrix.im_,  cax=cax_2)\n",
    "# Show the plot\n",
    "plt.show()\n"
   ]
  },
  {
   "cell_type": "markdown",
   "id": "c0b3fccc",
   "metadata": {
    "deletable": false,
    "editable": false,
    "nbgrader": {
     "cell_type": "markdown",
     "checksum": "0b54c8ad736668b0fc5edf0129c0a735",
     "grade": false,
     "grade_id": "cell-c0467c59ab970ad3",
     "locked": true,
     "schema_version": 3,
     "solution": false,
     "task": false
    }
   },
   "source": [
    "Write the text of your small report in the cell below."
   ]
  },
  {
   "cell_type": "code",
   "execution_count": null,
   "id": "e92a0d4b",
   "metadata": {
    "deletable": false,
    "nbgrader": {
     "cell_type": "code",
     "checksum": "685a4559593e4dc990f573fb7a228b4e",
     "grade": true,
     "grade_id": "cell-dd9686be04a9b3a5",
     "locked": false,
     "points": 0,
     "schema_version": 3,
     "solution": true,
     "task": false
    }
   },
   "outputs": [],
   "source": [
    "#WRITE YOUR CODE HERE"
   ]
  },
  {
   "cell_type": "markdown",
   "id": "eeee607f",
   "metadata": {
    "deletable": false,
    "editable": false,
    "nbgrader": {
     "cell_type": "markdown",
     "checksum": "5d85c8c6e45d1d70c22642822599d99f",
     "grade": false,
     "grade_id": "cell-9fa65b26ac9acb8a",
     "locked": true,
     "schema_version": 3,
     "solution": false,
     "task": false
    }
   },
   "source": [
    "### 2 More learning algorithms\n",
    "\n",
    "Our all time favorite, logisctic regression of course, plus another of your choice. Compare the four you have now, and discuss. Do not just compare on accuracy, report using for example P, R and F1. Also see how the author of the blogpost used a the `Pipeline` method. This is very elegant, so feel free to use it to implement your models here as well.\n",
    "\n",
    "Do not just run a default and that's it. Optimize the relevant hyperparameters using a grid search and report the scores of the best versions of both models that you found."
   ]
  },
  {
   "cell_type": "code",
   "execution_count": null,
   "id": "326cc0b8-bd45-41d7-9396-332e3731dd9a",
   "metadata": {
    "deletable": false,
    "nbgrader": {
     "cell_type": "code",
     "checksum": "4c5f1f5791bdc4f2e1caa98a870545af",
     "grade": true,
     "grade_id": "cell-ed5cf0a99fb02dee",
     "locked": false,
     "points": 1,
     "schema_version": 3,
     "solution": true,
     "task": false
    }
   },
   "outputs": [],
   "source": [
    "from sklearn.model_selection import GridSearchCV\n",
    "from sklearn.linear_model import LogisticRegression\n",
    "\n",
    "text_clf_logreg = Pipeline([('vect', CountVectorizer(max_df=0.95, min_df=0.05)),\n",
    "                            ('tfidf', TfidfTransformer()),\n",
    "                            ('clf', LogisticRegression(solver='sag')),\n",
    "                           ])\n",
    "\n",
    "predicted_logreg = None\n",
    "predicted_model_four = None\n",
    "\n",
    "#WRITE YOUR CODE HERE"
   ]
  },
  {
   "cell_type": "markdown",
   "id": "bedf7527",
   "metadata": {
    "deletable": false,
    "editable": false,
    "nbgrader": {
     "cell_type": "markdown",
     "checksum": "d19e686cd4585763ca0eeef0bebfb909",
     "grade": false,
     "grade_id": "cell-618a889982d9ad0a",
     "locked": true,
     "schema_version": 3,
     "solution": false,
     "task": false
    }
   },
   "source": [
    "### 3 Feature engineering\n",
    "\n",
    "Do `CountVectorizer?`.There are  a lot of possibilities! Make a much simpler, language independent representation by counting not words, but *character ngrams*. Do 2,3, and 4 grams. You may also play with the `max_df` and `min_df`. Play around a bit, and notice the difference in the number of dimensions. \n",
    "\n",
    "Try with 2,3 and 4 grams,(so for each of these ONLY consider that ngram size and not the smaller ngrams) and fill in the code below, where you report the vocabulary size in the resulting training data for each ngram size, and put this value in `vocab_sizes`. Also, use `char` to get the character ngrams, and not `char_wb`!\n",
    "\n",
    "Think about what is happening, does the number of features increase or decrease, and why? "
   ]
  },
  {
   "cell_type": "code",
   "execution_count": null,
   "id": "c670085d-5328-41b0-895d-a5875821f803",
   "metadata": {
    "deletable": false,
    "nbgrader": {
     "cell_type": "code",
     "checksum": "648a9ab5d34c144941447f023742a846",
     "grade": false,
     "grade_id": "cell-864558d7883eb6ab",
     "locked": false,
     "schema_version": 3,
     "solution": true,
     "task": false
    }
   },
   "outputs": [],
   "source": [
    "vocab_sizes = {2: 0, 3: 0, 4: 0} # replace with your answer\n",
    "#WRITE YOUR CODE HERE\n",
    "print(vocab_sizes)"
   ]
  },
  {
   "cell_type": "code",
   "execution_count": null,
   "id": "28db074f",
   "metadata": {
    "deletable": false,
    "editable": false,
    "nbgrader": {
     "cell_type": "code",
     "checksum": "6764da3f13b568eaa14f67952bae0f5a",
     "grade": true,
     "grade_id": "cell-da5fe80c60600410",
     "locked": true,
     "points": 1,
     "schema_version": 3,
     "solution": false,
     "task": false
    }
   },
   "outputs": [],
   "source": []
  },
  {
   "cell_type": "markdown",
   "id": "0e568873",
   "metadata": {
    "deletable": false,
    "editable": false,
    "nbgrader": {
     "cell_type": "markdown",
     "checksum": "c9f870b511087bef889a3d164b4a0b33",
     "grade": false,
     "grade_id": "cell-1875194f379a69c0",
     "locked": true,
     "schema_version": 3,
     "solution": false,
     "task": false
    }
   },
   "source": [
    "### 4 Baseline"
   ]
  },
  {
   "cell_type": "markdown",
   "id": "d194dd27",
   "metadata": {
    "deletable": false,
    "editable": false,
    "nbgrader": {
     "cell_type": "markdown",
     "checksum": "30c9f3741f5f7d7b9b4fc8ce3d6747cb",
     "grade": false,
     "grade_id": "cell-44cd366c906ece98",
     "locked": true,
     "schema_version": 3,
     "solution": false,
     "task": false
    }
   },
   "source": [
    "In the markdown cell below briefly discuss what an appropriate baseline for a text classification such as the one we are tackling in the NewsGroups20 dataset would be, and how you would represent text."
   ]
  },
  {
   "cell_type": "code",
   "execution_count": null,
   "id": "87c7087d",
   "metadata": {
    "deletable": false,
    "nbgrader": {
     "cell_type": "code",
     "checksum": "90d521aecae80c76aca95532ed80cd71",
     "grade": true,
     "grade_id": "cell-9ea55ad697b28e26",
     "locked": false,
     "points": 1,
     "schema_version": 3,
     "solution": true,
     "task": false
    }
   },
   "outputs": [],
   "source": [
    "#WRITE YOUR CODE HERE"
   ]
  },
  {
   "cell_type": "markdown",
   "id": "65280ad3",
   "metadata": {
    "deletable": false,
    "editable": false,
    "nbgrader": {
     "cell_type": "markdown",
     "checksum": "29ba6992542aa390e520cf48b99ceffe",
     "grade": false,
     "grade_id": "cell-b9ba9356d157c9be",
     "locked": true,
     "schema_version": 3,
     "solution": false,
     "task": false
    }
   },
   "source": [
    "### 5 Reduce dimensions\n",
    "\n",
    "Use PCA to bring all dimensions down to two, plot the documents in this new space and color them by their class, and report. Do you see the easy and hard to separate classes back here?"
   ]
  },
  {
   "cell_type": "code",
   "execution_count": null,
   "id": "572debce",
   "metadata": {
    "deletable": false,
    "nbgrader": {
     "cell_type": "code",
     "checksum": "65d4d5680f87540f1f94ee54f7f5c642",
     "grade": true,
     "grade_id": "cell-a1c289aa9132123d",
     "locked": false,
     "points": 1,
     "schema_version": 3,
     "solution": true,
     "task": false
    }
   },
   "outputs": [],
   "source": [
    "from sklearn.decomposition import PCA\n",
    "import matplotlib.pyplot as plt\n",
    "\n",
    "text_transformer = Pipeline([('vect', CountVectorizer(ngram_range=(1, 2), max_df=0.95, min_df=0.05)),\n",
    "                     ('tfidf', TfidfTransformer())])\n",
    "                            \n",
    "# Transform text data with the pipeline\n",
    "X_train = text_transformer.fit_transform(twenty_train.data)\n",
    "X_test = text_transformer.transform(twenty_test.data)\n",
    "\n",
    "X_train_pca = None\n",
    "X_test_pca = None\n",
    "                            \n",
    "#WRITE YOUR CODE HERE\n",
    "\n",
    "# You should end up with each sample having just two features.\n",
    "assert_equal(X_train_pca.shape[1], 2)\n",
    "\n",
    "# Plot\n",
    "plt.scatter(X_train_pca[:, 0], X_train_pca[:, 1], c=twenty_train.target, cmap='viridis', s=20)\n",
    "plt.xlabel('PC1')\n",
    "plt.ylabel('PC2')\n",
    "plt.title('PCA 2D Projection')\n",
    "plt.show()"
   ]
  },
  {
   "cell_type": "markdown",
   "id": "500bb518",
   "metadata": {
    "deletable": false,
    "editable": false,
    "nbgrader": {
     "cell_type": "markdown",
     "checksum": "499b77624b447c22c2e0fb9d6c3e9107",
     "grade": false,
     "grade_id": "cell-eb8ba9f77172acbf",
     "locked": true,
     "schema_version": 3,
     "solution": false,
     "task": false
    }
   },
   "source": [
    "Write the conclusions about the PCA in the markdown cell below."
   ]
  },
  {
   "cell_type": "code",
   "execution_count": null,
   "id": "4a671226",
   "metadata": {
    "deletable": false,
    "nbgrader": {
     "cell_type": "code",
     "checksum": "3ef5265b7bfb404fef9fdbbd58ef9a53",
     "grade": true,
     "grade_id": "cell-690b22496863ff5d",
     "locked": false,
     "points": 0,
     "schema_version": 3,
     "solution": true,
     "task": false
    }
   },
   "outputs": [],
   "source": [
    "#WRITE YOUR CODE HERE"
   ]
  },
  {
   "cell_type": "markdown",
   "id": "6b9e45cb",
   "metadata": {
    "deletable": false,
    "editable": false,
    "nbgrader": {
     "cell_type": "markdown",
     "checksum": "276d2984ea10ea5f636c702e7791820e",
     "grade": false,
     "grade_id": "cell-f297ce9badb1c019",
     "locked": true,
     "schema_version": 3,
     "solution": false,
     "task": false
    }
   },
   "source": [
    "### Extra \n",
    "If you are interested, use the parsimonious language models programmed in `https://github.com/larsmans/weighwords` to create a small language model for each class. Print the top 10-20 terms for each class. Do they make sense? Can you use these highly separating terms only for a classifier? Think of a simple implementation, and try it out.\n",
    " "
   ]
  },
  {
   "cell_type": "code",
   "execution_count": null,
   "id": "57d8e432",
   "metadata": {
    "deletable": false,
    "nbgrader": {
     "cell_type": "code",
     "checksum": "e17f5034f65b95bf10889e0ea1a90df5",
     "grade": false,
     "grade_id": "cell-586fbe838f592f30",
     "locked": false,
     "schema_version": 3,
     "solution": true,
     "task": false
    }
   },
   "outputs": [],
   "source": [
    "#WRITE YOUR CODE HERE"
   ]
  }
 ],
 "metadata": {
  "kernelspec": {
   "display_name": "Python 3 (ipykernel)",
   "language": "python",
   "name": "python3"
  },
  "language_info": {
   "codemirror_mode": {
    "name": "ipython",
    "version": 3
   },
   "file_extension": ".py",
   "mimetype": "text/x-python",
   "name": "python",
   "nbconvert_exporter": "python",
   "pygments_lexer": "ipython3",
   "version": "3.9.7"
  },
  "toc": {
   "nav_menu": {},
   "number_sections": false,
   "sideBar": true,
   "skip_h1_title": false,
   "title_cell": "Table of Contents",
   "title_sidebar": "Contents",
   "toc_cell": false,
   "toc_position": {},
   "toc_section_display": true,
   "toc_window_display": false
  }
 },
 "nbformat": 4,
 "nbformat_minor": 5
}
